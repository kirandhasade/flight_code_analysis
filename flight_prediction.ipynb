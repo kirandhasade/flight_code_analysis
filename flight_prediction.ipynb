{
 "cells": [
  {
   "cell_type": "markdown",
   "id": "20fbe9de",
   "metadata": {},
   "source": [
    "### Project Name: Flight Prediction Analysis"
   ]
  },
  {
   "cell_type": "markdown",
   "id": "f627fcb9",
   "metadata": {},
   "source": [
    "### Project Objective:\n",
    "- The number of people who fly has dramatically increased in recent years. Pricing alters dynamically owing to many variables, making it difficult for airlines to maintain prices. As a result, we will attempt to solve this problem by cleaning, preparing and analysing the flight price.\n",
    "- Hence, the goal of this project is to clean, prepare and analyse the flight price dataset taken from Kaggle.\n",
    "- Basically dataset have price based on information such as airline, date_of_journey, flight route information including number of stops and duration of flight.\n",
    "- So that we can use this dataset to analyse the flight journey price based on a variety of variables as mentioned above. \n",
    "\n",
    "\n",
    "\n",
    "Using flight price dataset we try to find out following questions answer:\n",
    "1. Top 10 Aviation Companies whose flight tickets are sold the most ?\n",
    "2. Which month have most number of flights?\n",
    "3. Which airline is most expensive?\n",
    "4. Which airline has boarded the most?\n",
    "5. Which source will be having highest fare?\n",
    "6. Which destination will be having highest fare?\n",
    "\n",
    "### Analysis Involve Phases:\n",
    "1. Data collection\n",
    "2. Data Understanding\n",
    "3. Data Cleaning and Preparation \n",
    "4. Data Analyse"
   ]
  },
  {
   "cell_type": "code",
   "execution_count": 1,
   "id": "e4c9f9d6",
   "metadata": {},
   "outputs": [],
   "source": [
    "# importing Basic libraries\n",
    "import pandas as pd\n",
    "import numpy as np\n",
    "import matplotlib.pyplot as plt\n",
    "import seaborn as sns\n",
    "%matplotlib inline"
   ]
  },
  {
   "cell_type": "markdown",
   "id": "fd0a07ab",
   "metadata": {},
   "source": [
    "### Phase 1: Data Collection/Reading"
   ]
  },
  {
   "cell_type": "code",
   "execution_count": 2,
   "id": "94586864",
   "metadata": {},
   "outputs": [],
   "source": [
    "final_df = pd.read_csv(\"flight_prediction.csv\")"
   ]
  },
  {
   "cell_type": "markdown",
   "id": "1f1fb523",
   "metadata": {},
   "source": [
    "### Phase 2: Data Understanding"
   ]
  },
  {
   "cell_type": "code",
   "execution_count": 3,
   "id": "d02efc5d",
   "metadata": {},
   "outputs": [
    {
     "data": {
      "text/plain": [
       "Index(['Airline', 'Date_of_Journey', 'Source', 'Destination', 'Route',\n",
       "       'Dep_Time', 'Arrival_Time', 'Duration', 'Total_Stops',\n",
       "       'Additional_Info', 'Price'],\n",
       "      dtype='object')"
      ]
     },
     "execution_count": 3,
     "metadata": {},
     "output_type": "execute_result"
    }
   ],
   "source": [
    "final_df.columns"
   ]
  },
  {
   "cell_type": "code",
   "execution_count": 4,
   "id": "c4737d59",
   "metadata": {},
   "outputs": [],
   "source": [
    "final_df = final_df.rename(columns={'Airline':'airline', \n",
    "                         'Date_of_Journey': 'date_of_journey', \n",
    "                         'Source': 'source', \n",
    "                         'Destination': 'destination', \n",
    "                         'Route': 'route',\n",
    "                         'Dep_Time': 'dep_time', \n",
    "                         'Arrival_Time': 'arrival_time', \n",
    "                         'Duration':'duration',\n",
    "                         'Total_Stops': 'total_stops', \n",
    "                         'Additional_Info': 'additional_info',\n",
    "                         'Price': 'price' \n",
    "                         })"
   ]
  },
  {
   "cell_type": "code",
   "execution_count": 5,
   "id": "e336a060",
   "metadata": {},
   "outputs": [
    {
     "name": "stdout",
     "output_type": "stream",
     "text": [
      "<class 'pandas.core.frame.DataFrame'>\n",
      "RangeIndex: 13354 entries, 0 to 13353\n",
      "Data columns (total 11 columns):\n",
      " #   Column           Non-Null Count  Dtype  \n",
      "---  ------           --------------  -----  \n",
      " 0   airline          13354 non-null  object \n",
      " 1   date_of_journey  13354 non-null  object \n",
      " 2   source           13354 non-null  object \n",
      " 3   destination      13354 non-null  object \n",
      " 4   route            13353 non-null  object \n",
      " 5   dep_time         13354 non-null  object \n",
      " 6   arrival_time     13354 non-null  object \n",
      " 7   duration         13354 non-null  object \n",
      " 8   total_stops      13353 non-null  object \n",
      " 9   additional_info  13354 non-null  object \n",
      " 10  price            10683 non-null  float64\n",
      "dtypes: float64(1), object(10)\n",
      "memory usage: 1.1+ MB\n"
     ]
    }
   ],
   "source": [
    "final_df.info()"
   ]
  },
  {
   "cell_type": "code",
   "execution_count": 6,
   "id": "105d4e8c",
   "metadata": {},
   "outputs": [
    {
     "data": {
      "text/plain": [
       "(13354, 11)"
      ]
     },
     "execution_count": 6,
     "metadata": {},
     "output_type": "execute_result"
    }
   ],
   "source": [
    "final_df.shape"
   ]
  },
  {
   "cell_type": "markdown",
   "id": "a5daeba9",
   "metadata": {},
   "source": [
    "### Observations:\n",
    "- Number of variables = 11\n",
    "- Number of rows = 13354\n",
    "- Number of categorical type of feature = 10\n",
    "- Number of numerical type of feature = 1"
   ]
  },
  {
   "cell_type": "code",
   "execution_count": 7,
   "id": "04bacf0b",
   "metadata": {
    "scrolled": true
   },
   "outputs": [
    {
     "data": {
      "text/plain": [
       "airline               0\n",
       "date_of_journey       0\n",
       "source                0\n",
       "destination           0\n",
       "route                 1\n",
       "dep_time              0\n",
       "arrival_time          0\n",
       "duration              0\n",
       "total_stops           1\n",
       "additional_info       0\n",
       "price              2671\n",
       "dtype: int64"
      ]
     },
     "execution_count": 7,
     "metadata": {},
     "output_type": "execute_result"
    }
   ],
   "source": [
    "final_df.isnull().sum()"
   ]
  },
  {
   "cell_type": "markdown",
   "id": "0a2486fc",
   "metadata": {},
   "source": [
    "### Observation:\n",
    "  1. airline:\n",
    "  - Airline name for which the ticket is booked.\n",
    "  - Total 12 unique airline names in the dataset.\n",
    "  \n",
    "  2. date_of_journey:\n",
    "  - Journey date of each traveller. \n",
    "  - It is a date column in MM/DD/YYYY format.\n",
    "  - Dates are from 01/03/2019 to 09/06/2019\n",
    "  ----- mention date available from to till?\n",
    "  \n",
    "  \n",
    "  3. source:\n",
    "  - Source from which the airline would depart.\n",
    "  - Total 5 unique source names in the dataset.\n",
    "  - It contains Banglore, Kolkata, Delhi, Chennai, Mumbai.\n",
    "  ---- mention which 5?\n",
    "  \n",
    "  \n",
    "  4. destination:\n",
    "  - Destination to which airline would arrive\n",
    "  - There are total 6 unique destination names in the dataset.\n",
    "  - It contains New Delhi, Banglore, Cochin, Kolkata, Delhi, Hyderabad.\n",
    "  ---- mention which 6?\n",
    "  \n",
    "  5. route:\n",
    "  - Route of the airline from source to destination.\n",
    "  - There is one null value in the dataset.\n",
    "  \n",
    "  \n",
    "  6. dep_time:\n",
    "  - Time at which flight would departure from the source.\n",
    "  - It is in H:MM format.\n",
    "  \n",
    "  7. arrival_time:\n",
    "  - Time at which flight would arrive at the destination.\n",
    "  - It is in H:MM format followed by date.\n",
    "  \n",
    "  \n",
    "  8. duration: \n",
    "  - Duration that airline takes to fly from source to destination.\n",
    "  - It is in H:MM format.\n",
    "  ---- mention duration unit i.e. in hour/min ?\n",
    "  \n",
    "  \n",
    "  9. total_stops:\n",
    "  - Total no. of stops that airline takes between source and destination.\n",
    "  - There are total 5 unique total stops in the dataset.\n",
    "  - There is one null value in the dataset.\n",
    "  - It contains non-stop, 2 stops, 1 stop, 3 stops, nan, 4 stops.\n",
    "  ---- mentione which 5?\n",
    "  \n",
    "  \n",
    "   10. additional_info:\n",
    "  - Represents any Additional info about the airline.\n",
    "  - There are total 10 unique additional information in the dataset.\n",
    "  - It contains No info, In-flight meal not included,No check-in baggage included, 1 Short layover, No Info,1 Long layover, Change airports, Business class,Red-eye flight, 2 Long layover.\n",
    "  ----- which 10 unique informations?\n",
    "  \n",
    "  \n",
    "   11. price:\n",
    "  - Represents fare of the ticket to fly from Source to destination in rupees.\n",
    "  ----- mention fare currency"
   ]
  },
  {
   "cell_type": "code",
   "execution_count": 12,
   "id": "9fa5e44a",
   "metadata": {},
   "outputs": [
    {
     "data": {
      "text/html": [
       "<div>\n",
       "<style scoped>\n",
       "    .dataframe tbody tr th:only-of-type {\n",
       "        vertical-align: middle;\n",
       "    }\n",
       "\n",
       "    .dataframe tbody tr th {\n",
       "        vertical-align: top;\n",
       "    }\n",
       "\n",
       "    .dataframe thead th {\n",
       "        text-align: right;\n",
       "    }\n",
       "</style>\n",
       "<table border=\"1\" class=\"dataframe\">\n",
       "  <thead>\n",
       "    <tr style=\"text-align: right;\">\n",
       "      <th></th>\n",
       "      <th>airline</th>\n",
       "      <th>date_of_journey</th>\n",
       "      <th>source</th>\n",
       "      <th>destination</th>\n",
       "      <th>route</th>\n",
       "      <th>dep_time</th>\n",
       "      <th>arrival_time</th>\n",
       "      <th>duration</th>\n",
       "      <th>total_stops</th>\n",
       "      <th>additional_info</th>\n",
       "      <th>price</th>\n",
       "    </tr>\n",
       "  </thead>\n",
       "  <tbody>\n",
       "    <tr>\n",
       "      <th>0</th>\n",
       "      <td>IndiGo</td>\n",
       "      <td>24/03/2019</td>\n",
       "      <td>Banglore</td>\n",
       "      <td>New Delhi</td>\n",
       "      <td>BLR → DEL</td>\n",
       "      <td>22:20</td>\n",
       "      <td>01:10</td>\n",
       "      <td>2h 50m</td>\n",
       "      <td>non-stop</td>\n",
       "      <td>No info</td>\n",
       "      <td>3897.0</td>\n",
       "    </tr>\n",
       "    <tr>\n",
       "      <th>1</th>\n",
       "      <td>Air India</td>\n",
       "      <td>1/05/2019</td>\n",
       "      <td>Kolkata</td>\n",
       "      <td>Banglore</td>\n",
       "      <td>CCU → IXR → BBI → BLR</td>\n",
       "      <td>05:50</td>\n",
       "      <td>13:15</td>\n",
       "      <td>7h 25m</td>\n",
       "      <td>2 stops</td>\n",
       "      <td>No info</td>\n",
       "      <td>7662.0</td>\n",
       "    </tr>\n",
       "    <tr>\n",
       "      <th>2</th>\n",
       "      <td>Jet Airways</td>\n",
       "      <td>9/06/2019</td>\n",
       "      <td>Delhi</td>\n",
       "      <td>Cochin</td>\n",
       "      <td>DEL → LKO → BOM → COK</td>\n",
       "      <td>09:25</td>\n",
       "      <td>04:25</td>\n",
       "      <td>19h</td>\n",
       "      <td>2 stops</td>\n",
       "      <td>No info</td>\n",
       "      <td>13882.0</td>\n",
       "    </tr>\n",
       "    <tr>\n",
       "      <th>3</th>\n",
       "      <td>IndiGo</td>\n",
       "      <td>12/05/2019</td>\n",
       "      <td>Kolkata</td>\n",
       "      <td>Banglore</td>\n",
       "      <td>CCU → NAG → BLR</td>\n",
       "      <td>18:05</td>\n",
       "      <td>23:30</td>\n",
       "      <td>5h 25m</td>\n",
       "      <td>1 stop</td>\n",
       "      <td>No info</td>\n",
       "      <td>6218.0</td>\n",
       "    </tr>\n",
       "    <tr>\n",
       "      <th>4</th>\n",
       "      <td>IndiGo</td>\n",
       "      <td>01/03/2019</td>\n",
       "      <td>Banglore</td>\n",
       "      <td>New Delhi</td>\n",
       "      <td>BLR → NAG → DEL</td>\n",
       "      <td>16:50</td>\n",
       "      <td>21:35</td>\n",
       "      <td>4h 45m</td>\n",
       "      <td>1 stop</td>\n",
       "      <td>No info</td>\n",
       "      <td>13302.0</td>\n",
       "    </tr>\n",
       "    <tr>\n",
       "      <th>5</th>\n",
       "      <td>SpiceJet</td>\n",
       "      <td>24/06/2019</td>\n",
       "      <td>Kolkata</td>\n",
       "      <td>Banglore</td>\n",
       "      <td>CCU → BLR</td>\n",
       "      <td>09:00</td>\n",
       "      <td>11:25</td>\n",
       "      <td>2h 25m</td>\n",
       "      <td>non-stop</td>\n",
       "      <td>No info</td>\n",
       "      <td>3873.0</td>\n",
       "    </tr>\n",
       "    <tr>\n",
       "      <th>6</th>\n",
       "      <td>Jet Airways</td>\n",
       "      <td>12/03/2019</td>\n",
       "      <td>Banglore</td>\n",
       "      <td>New Delhi</td>\n",
       "      <td>BLR → BOM → DEL</td>\n",
       "      <td>18:55</td>\n",
       "      <td>10:25</td>\n",
       "      <td>15h 30m</td>\n",
       "      <td>1 stop</td>\n",
       "      <td>In-flight meal not included</td>\n",
       "      <td>11087.0</td>\n",
       "    </tr>\n",
       "    <tr>\n",
       "      <th>7</th>\n",
       "      <td>Jet Airways</td>\n",
       "      <td>01/03/2019</td>\n",
       "      <td>Banglore</td>\n",
       "      <td>New Delhi</td>\n",
       "      <td>BLR → BOM → DEL</td>\n",
       "      <td>08:00</td>\n",
       "      <td>05:05</td>\n",
       "      <td>21h 5m</td>\n",
       "      <td>1 stop</td>\n",
       "      <td>No info</td>\n",
       "      <td>22270.0</td>\n",
       "    </tr>\n",
       "    <tr>\n",
       "      <th>8</th>\n",
       "      <td>Jet Airways</td>\n",
       "      <td>12/03/2019</td>\n",
       "      <td>Banglore</td>\n",
       "      <td>New Delhi</td>\n",
       "      <td>BLR → BOM → DEL</td>\n",
       "      <td>08:55</td>\n",
       "      <td>10:25</td>\n",
       "      <td>25h 30m</td>\n",
       "      <td>1 stop</td>\n",
       "      <td>In-flight meal not included</td>\n",
       "      <td>11087.0</td>\n",
       "    </tr>\n",
       "    <tr>\n",
       "      <th>9</th>\n",
       "      <td>Multiple carriers</td>\n",
       "      <td>27/05/2019</td>\n",
       "      <td>Delhi</td>\n",
       "      <td>Cochin</td>\n",
       "      <td>DEL → BOM → COK</td>\n",
       "      <td>11:25</td>\n",
       "      <td>19:15</td>\n",
       "      <td>7h 50m</td>\n",
       "      <td>1 stop</td>\n",
       "      <td>No info</td>\n",
       "      <td>8625.0</td>\n",
       "    </tr>\n",
       "    <tr>\n",
       "      <th>10</th>\n",
       "      <td>Air India</td>\n",
       "      <td>1/06/2019</td>\n",
       "      <td>Delhi</td>\n",
       "      <td>Cochin</td>\n",
       "      <td>DEL → BLR → COK</td>\n",
       "      <td>09:45</td>\n",
       "      <td>23:00</td>\n",
       "      <td>13h 15m</td>\n",
       "      <td>1 stop</td>\n",
       "      <td>No info</td>\n",
       "      <td>8907.0</td>\n",
       "    </tr>\n",
       "    <tr>\n",
       "      <th>11</th>\n",
       "      <td>IndiGo</td>\n",
       "      <td>18/04/2019</td>\n",
       "      <td>Kolkata</td>\n",
       "      <td>Banglore</td>\n",
       "      <td>CCU → BLR</td>\n",
       "      <td>20:20</td>\n",
       "      <td>22:55</td>\n",
       "      <td>2h 35m</td>\n",
       "      <td>non-stop</td>\n",
       "      <td>No info</td>\n",
       "      <td>4174.0</td>\n",
       "    </tr>\n",
       "    <tr>\n",
       "      <th>12</th>\n",
       "      <td>Air India</td>\n",
       "      <td>24/06/2019</td>\n",
       "      <td>Chennai</td>\n",
       "      <td>Kolkata</td>\n",
       "      <td>MAA → CCU</td>\n",
       "      <td>11:40</td>\n",
       "      <td>13:55</td>\n",
       "      <td>2h 15m</td>\n",
       "      <td>non-stop</td>\n",
       "      <td>No info</td>\n",
       "      <td>4667.0</td>\n",
       "    </tr>\n",
       "    <tr>\n",
       "      <th>13</th>\n",
       "      <td>Jet Airways</td>\n",
       "      <td>9/05/2019</td>\n",
       "      <td>Kolkata</td>\n",
       "      <td>Banglore</td>\n",
       "      <td>CCU → BOM → BLR</td>\n",
       "      <td>21:10</td>\n",
       "      <td>09:20</td>\n",
       "      <td>12h 10m</td>\n",
       "      <td>1 stop</td>\n",
       "      <td>In-flight meal not included</td>\n",
       "      <td>9663.0</td>\n",
       "    </tr>\n",
       "    <tr>\n",
       "      <th>14</th>\n",
       "      <td>IndiGo</td>\n",
       "      <td>24/04/2019</td>\n",
       "      <td>Kolkata</td>\n",
       "      <td>Banglore</td>\n",
       "      <td>CCU → BLR</td>\n",
       "      <td>17:15</td>\n",
       "      <td>19:50</td>\n",
       "      <td>2h 35m</td>\n",
       "      <td>non-stop</td>\n",
       "      <td>No info</td>\n",
       "      <td>4804.0</td>\n",
       "    </tr>\n",
       "    <tr>\n",
       "      <th>15</th>\n",
       "      <td>Air India</td>\n",
       "      <td>3/03/2019</td>\n",
       "      <td>Delhi</td>\n",
       "      <td>Cochin</td>\n",
       "      <td>DEL → AMD → BOM → COK</td>\n",
       "      <td>16:40</td>\n",
       "      <td>19:15</td>\n",
       "      <td>26h 35m</td>\n",
       "      <td>2 stops</td>\n",
       "      <td>No info</td>\n",
       "      <td>14011.0</td>\n",
       "    </tr>\n",
       "    <tr>\n",
       "      <th>16</th>\n",
       "      <td>SpiceJet</td>\n",
       "      <td>15/04/2019</td>\n",
       "      <td>Delhi</td>\n",
       "      <td>Cochin</td>\n",
       "      <td>DEL → PNQ → COK</td>\n",
       "      <td>08:45</td>\n",
       "      <td>13:15</td>\n",
       "      <td>4h 30m</td>\n",
       "      <td>1 stop</td>\n",
       "      <td>No info</td>\n",
       "      <td>5830.0</td>\n",
       "    </tr>\n",
       "    <tr>\n",
       "      <th>17</th>\n",
       "      <td>Jet Airways</td>\n",
       "      <td>12/06/2019</td>\n",
       "      <td>Delhi</td>\n",
       "      <td>Cochin</td>\n",
       "      <td>DEL → BOM → COK</td>\n",
       "      <td>14:00</td>\n",
       "      <td>12:35</td>\n",
       "      <td>22h 35m</td>\n",
       "      <td>1 stop</td>\n",
       "      <td>In-flight meal not included</td>\n",
       "      <td>10262.0</td>\n",
       "    </tr>\n",
       "    <tr>\n",
       "      <th>18</th>\n",
       "      <td>Air India</td>\n",
       "      <td>12/06/2019</td>\n",
       "      <td>Delhi</td>\n",
       "      <td>Cochin</td>\n",
       "      <td>DEL → CCU → BOM → COK</td>\n",
       "      <td>20:15</td>\n",
       "      <td>19:15</td>\n",
       "      <td>23h</td>\n",
       "      <td>2 stops</td>\n",
       "      <td>No info</td>\n",
       "      <td>13381.0</td>\n",
       "    </tr>\n",
       "    <tr>\n",
       "      <th>19</th>\n",
       "      <td>Jet Airways</td>\n",
       "      <td>27/05/2019</td>\n",
       "      <td>Delhi</td>\n",
       "      <td>Cochin</td>\n",
       "      <td>DEL → BOM → COK</td>\n",
       "      <td>16:00</td>\n",
       "      <td>12:35</td>\n",
       "      <td>20h 35m</td>\n",
       "      <td>1 stop</td>\n",
       "      <td>In-flight meal not included</td>\n",
       "      <td>12898.0</td>\n",
       "    </tr>\n",
       "  </tbody>\n",
       "</table>\n",
       "</div>"
      ],
      "text/plain": [
       "              airline date_of_journey    source destination  \\\n",
       "0              IndiGo      24/03/2019  Banglore   New Delhi   \n",
       "1           Air India       1/05/2019   Kolkata    Banglore   \n",
       "2         Jet Airways       9/06/2019     Delhi      Cochin   \n",
       "3              IndiGo      12/05/2019   Kolkata    Banglore   \n",
       "4              IndiGo      01/03/2019  Banglore   New Delhi   \n",
       "5            SpiceJet      24/06/2019   Kolkata    Banglore   \n",
       "6         Jet Airways      12/03/2019  Banglore   New Delhi   \n",
       "7         Jet Airways      01/03/2019  Banglore   New Delhi   \n",
       "8         Jet Airways      12/03/2019  Banglore   New Delhi   \n",
       "9   Multiple carriers      27/05/2019     Delhi      Cochin   \n",
       "10          Air India       1/06/2019     Delhi      Cochin   \n",
       "11             IndiGo      18/04/2019   Kolkata    Banglore   \n",
       "12          Air India      24/06/2019   Chennai     Kolkata   \n",
       "13        Jet Airways       9/05/2019   Kolkata    Banglore   \n",
       "14             IndiGo      24/04/2019   Kolkata    Banglore   \n",
       "15          Air India       3/03/2019     Delhi      Cochin   \n",
       "16           SpiceJet      15/04/2019     Delhi      Cochin   \n",
       "17        Jet Airways      12/06/2019     Delhi      Cochin   \n",
       "18          Air India      12/06/2019     Delhi      Cochin   \n",
       "19        Jet Airways      27/05/2019     Delhi      Cochin   \n",
       "\n",
       "                    route dep_time arrival_time duration total_stops  \\\n",
       "0               BLR → DEL    22:20        01:10   2h 50m    non-stop   \n",
       "1   CCU → IXR → BBI → BLR    05:50        13:15   7h 25m     2 stops   \n",
       "2   DEL → LKO → BOM → COK    09:25        04:25      19h     2 stops   \n",
       "3         CCU → NAG → BLR    18:05        23:30   5h 25m      1 stop   \n",
       "4         BLR → NAG → DEL    16:50        21:35   4h 45m      1 stop   \n",
       "5               CCU → BLR    09:00        11:25   2h 25m    non-stop   \n",
       "6         BLR → BOM → DEL    18:55        10:25  15h 30m      1 stop   \n",
       "7         BLR → BOM → DEL    08:00        05:05   21h 5m      1 stop   \n",
       "8         BLR → BOM → DEL    08:55        10:25  25h 30m      1 stop   \n",
       "9         DEL → BOM → COK    11:25        19:15   7h 50m      1 stop   \n",
       "10        DEL → BLR → COK    09:45        23:00  13h 15m      1 stop   \n",
       "11              CCU → BLR    20:20        22:55   2h 35m    non-stop   \n",
       "12              MAA → CCU    11:40        13:55   2h 15m    non-stop   \n",
       "13        CCU → BOM → BLR    21:10        09:20  12h 10m      1 stop   \n",
       "14              CCU → BLR    17:15        19:50   2h 35m    non-stop   \n",
       "15  DEL → AMD → BOM → COK    16:40        19:15  26h 35m     2 stops   \n",
       "16        DEL → PNQ → COK    08:45        13:15   4h 30m      1 stop   \n",
       "17        DEL → BOM → COK    14:00        12:35  22h 35m      1 stop   \n",
       "18  DEL → CCU → BOM → COK    20:15        19:15      23h     2 stops   \n",
       "19        DEL → BOM → COK    16:00        12:35  20h 35m      1 stop   \n",
       "\n",
       "                additional_info    price  \n",
       "0                       No info   3897.0  \n",
       "1                       No info   7662.0  \n",
       "2                       No info  13882.0  \n",
       "3                       No info   6218.0  \n",
       "4                       No info  13302.0  \n",
       "5                       No info   3873.0  \n",
       "6   In-flight meal not included  11087.0  \n",
       "7                       No info  22270.0  \n",
       "8   In-flight meal not included  11087.0  \n",
       "9                       No info   8625.0  \n",
       "10                      No info   8907.0  \n",
       "11                      No info   4174.0  \n",
       "12                      No info   4667.0  \n",
       "13  In-flight meal not included   9663.0  \n",
       "14                      No info   4804.0  \n",
       "15                      No info  14011.0  \n",
       "16                      No info   5830.0  \n",
       "17  In-flight meal not included  10262.0  \n",
       "18                      No info  13381.0  \n",
       "19  In-flight meal not included  12898.0  "
      ]
     },
     "execution_count": 12,
     "metadata": {},
     "output_type": "execute_result"
    }
   ],
   "source": [
    "final_df.head(20)"
   ]
  },
  {
   "cell_type": "code",
   "execution_count": 11,
   "id": "b7a5e725",
   "metadata": {},
   "outputs": [
    {
     "data": {
      "text/plain": [
       "0        01:10\n",
       "1        13:15\n",
       "2        04:25\n",
       "3        23:30\n",
       "4        21:35\n",
       "         ...  \n",
       "13349    20:25\n",
       "13350    16:55\n",
       "13351    04:25\n",
       "13352    19:15\n",
       "13353    19:15\n",
       "Name: arrival_time, Length: 13354, dtype: object"
      ]
     },
     "execution_count": 11,
     "metadata": {},
     "output_type": "execute_result"
    }
   ],
   "source": [
    "##final_df['arrival_time']=final_df['arrival_time'].apply(lambda x:x.split(' ')[0])\n",
    "final_df['arrival_time']"
   ]
  },
  {
   "cell_type": "markdown",
   "id": "e81494ce",
   "metadata": {},
   "source": [
    "### Phase 3: Data Preparation/Cleaning\n",
    "\n",
    "#### Function defination\n",
    "\n",
    "##### Step 1: Splitting arrival_time column in date month and year.\n",
    "\n"
   ]
  },
  {
   "cell_type": "markdown",
   "id": "0215a5da",
   "metadata": {},
   "source": [
    "#### Function Defination"
   ]
  },
  {
   "cell_type": "code",
   "execution_count": null,
   "id": "09421bf2",
   "metadata": {},
   "outputs": [],
   "source": []
  },
  {
   "cell_type": "code",
   "execution_count": 41,
   "id": "8b132ac3",
   "metadata": {},
   "outputs": [],
   "source": [
    "def data_cleaning(dataframe):\n",
    "    \n",
    "    # Can keep this\n",
    "    # Splitting Arrival Time column \n",
    "    ### - why?\n",
    "    dataframe['arrival_time'].str.split(' ')\n",
    "    print(\"Split arrival_time column - done  \")\n",
    "    \n",
    "    # Here we have to focus on time not the date as date\n",
    "    dataframe['arrival_time']=dataframe['arrival_time'].apply(lambda x:x.split(' ')[0])\n",
    "    \n",
    "    # To split arrival time in hour and minutes\n",
    "    dataframe['arrival_hour']=dataframe['arrival_time'].str.split(':').str[0].astype(int)\n",
    "    dataframe['arrival_min']=dataframe['arrival_time'].str.split(':').str[1].astype(int)\n",
    "    print(\"Split arrival_time column in arrival_hour and arrival_min - done\")\n",
    "    \n",
    "    ### -- same done at above step\n",
    "#     # To change 'Arrival_Min' and 'Arrival_Hour' in integer Data type\n",
    "#     dataframe['arrival_hour']=dataframe['arrival_hour'].astype(int)\n",
    "#     dataframe['arrival_min']=dataframe['arrival_min'].astype(int)\n",
    "#     print(\"Convert arrival_hour, arrival_min  into integer - done\")\n",
    "    \n",
    "    # To drop Arrival_Time column\n",
    "    dataframe.drop('arrival_time',axis=1,inplace=True)\n",
    "    print(\"Drop arrival_time column - done\")\n",
    "    \n",
    "    # To change Departure time by splitting time in hour and minutes\n",
    "    ### why?\n",
    "    dataframe['dept_hour']=dataframe['dep_time'].str.split(':').str[0].astype(int)\n",
    "    dataframe['dept_min']=dataframe['dep_time'].str.split(':').str[1].astype(int)\n",
    "    print(\"Split dep_time column in dept_hour and dept_min - done\")\n",
    "\n",
    "    ### done at above step\n",
    "    # To change 'Dept_Hour' and 'Dept_min' in integer Data type\n",
    "#     dataframe['dept_hour']=dataframe['dept_hour'].astype(int)\n",
    "#     dataframe['dept_min']=dataframe['dept_min'].astype(int)\n",
    "#     print(\"Convert dept_hour, dept_min  into integer - done\")\n",
    "    \n",
    "    # To drop Dep_Time column::::::::\n",
    "    dataframe.drop('dep_time',axis=1,inplace=True)\n",
    "    print(\"Drop dep_time column - done\")\n",
    "\n",
    "    # Splitting Hours  from Duration column\n",
    "    ## why?\n",
    "    dataframe['duration_hour']=dataframe['duration'].str.split(' ').str[0].str.split('h').str[0]\n",
    "    print(\"Split of Duration - done\")  \n",
    "        \n",
    "    # We have '5m' in our dataset\n",
    "    #dataframe[dataframe['duration_hour']=='5m']\n",
    "    \n",
    "    # Dropping 2 rows\n",
    "    ### why dropping \n",
    "    dataframe.drop(6474,axis=0,inplace=True)\n",
    "    dataframe.drop(13343,axis=0,inplace=True)\n",
    "    # Above records are incorrect because Mumbai to Hyderabad it is showing as 5 minutes which is inconsitent or not correct hence we are dropping above 2 rows\n",
    "    \n",
    "    # To convert duration_hour to integer\n",
    "    dataframe['duration_hour']=dataframe['duration_hour'].astype(int)\n",
    "    print(\"Convert duration_hour into integer - done\")  \n",
    "    \n",
    "    \n",
    "    print(\"Function exceuted sucessfully\")\n",
    "    \n",
    "    return dataframe\n"
   ]
  },
  {
   "cell_type": "code",
   "execution_count": 42,
   "id": "706080dd",
   "metadata": {},
   "outputs": [],
   "source": [
    "def data_preperation(dataframe):\n",
    "    # Splitting Minutes from duration-(Data Preperation)\n",
    "    dataframe['duration_min']=dataframe['duration'].str.split(' ').str[1].str.split('m').str[0]\n",
    "    print(\"Split of duration_min - done\")\n",
    "    \n",
    "    # We have replaced Nan values with 0\n",
    "    \n",
    "    ## why?\n",
    "    dataframe['duration_min']=dataframe['duration_min'].fillna(0)\n",
    "    print(\"Replaced Nan values with 0 - done\")\n",
    "        \n",
    "    # To check null values\n",
    "    ## you can't check anything in fuction -- check outside the function\n",
    "    dataframe['duration_min'].isnull().sum()\n",
    "    \n",
    "    # Converting duration_min into int datatype \n",
    "    dataframe['duration_min']=dataframe['duration_min'].astype(int)\n",
    "    print(\"Convert duration_min into integer - done \")\n",
    "        \n",
    "    # Dropping Duration column\n",
    "    dataframe.drop('duration',axis=1,inplace=True)\n",
    "    print(\"Drop duration column - done \")\n",
    "        \n",
    "    # In route we have one Nan value to see which record is Nan we can use below code:\n",
    "    ## should not see anything in fucntion - check outside the function\n",
    "    dataframe[dataframe['total_stops'].isnull()]\n",
    "    \n",
    "        \n",
    "    # To analyse total stops column\n",
    "    ## can't be in fucntion\n",
    "    ### what you try to do here?\n",
    "    dataframe['total_stops'].unique()\n",
    "        \n",
    "    ## explain what you're doing here - give good comment?\n",
    "    recode = {'non-stop':0,'1 stop':1,'2 stops':2,'3 stops':3,'4 stops':4, 'nan':1}\n",
    "   \n",
    "    dataframe['total_stops'] =dataframe['total_stops'].replace(recode)\n",
    "    \n",
    "    ### can't do this in function - no operation performed.\n",
    "    dataframe['total_stops'].unique()\n",
    "    print(\"Assigning stops a  integer value - done\")\n",
    "    \n",
    "    # Filling Null values\n",
    "    dataframe['total_stops'] = dataframe['total_stops'].fillna(1)\n",
    "    \n",
    "    dataframe['total_stops'].unique()\n",
    "    print(\"Filling Null values - done\")\n",
    "    \n",
    "    # To drop route column\n",
    "    dataframe.drop('route',axis=1,inplace=True)\n",
    "    print(\"Drop route column - done\")\n",
    "    \n",
    "    # To handle categorical variable\n",
    "    \n",
    "    # To check unique values in below columns\n",
    "    ### why? and this can't be done in this functions - useless here do this outside\n",
    "    \n",
    "    dataframe['airline'].unique()\n",
    "    dataframe['source'].unique()\n",
    "    dataframe['destination'].unique()\n",
    "    dataframe['additional_info'].unique()\n",
    "    \n",
    "    # Here we can use label encoder for the above columns to convert categorical feature into numerical feature\n",
    "    ## why? - you're not doing machine learning keep easy so human can understand.\n",
    "    from sklearn.preprocessing import LabelEncoder\n",
    "    \n",
    "    # Create object of class LabelEncoder\n",
    "    labelencoder=LabelEncoder()\n",
    "    \n",
    "    dataframe['airline']=labelencoder.fit_transform(dataframe['airline'])\n",
    "    dataframe['source']=labelencoder.fit_transform(dataframe['source'])\n",
    "    dataframe['destination']=labelencoder.fit_transform(dataframe['destination'])\n",
    "    dataframe['additional_info']=labelencoder.fit_transform(dataframe['additional_info'])\n",
    "    print(\"LabelEncoder process - done\")\n",
    "    \n",
    "    # Here we can see all columns are converted into object and float data type\n",
    "    dataframe.info()\n",
    "    \n",
    "    print(\"Function Executed sucessfully\")\n",
    "    \n",
    "    return dataframe"
   ]
  },
  {
   "cell_type": "code",
   "execution_count": 43,
   "id": "1117af64",
   "metadata": {},
   "outputs": [],
   "source": [
    "def handling_null_value(dataframe):\n",
    "       \n",
    "    # Find the shape\n",
    "    ## useless? do this outside?\n",
    "    dataframe.shape\n",
    "    \n",
    "    # Check which column has null value]\n",
    "    ## useless? do this outside?\n",
    "    dataframe.isnull().sum()\n",
    "        \n",
    "    # Observation\n",
    "    ## useless? do this outside?\n",
    "    #- Price has 2671 null records while route and total_stops have 1 null values respectively\n",
    "    #- Ticket price is depended on Airline, source, destination and number of stops.\n",
    "    #- Hence null price values will be imputed or replace by mean value based on Airline, route along with number of stops.\n",
    "    \n",
    "    # Impute mean\n",
    "    ## why?\n",
    "    factors = ['airline','source','destination','total_stops']\n",
    "    dataframe.groupby(factors)['price'].mean().to_frame().reset_index()\n",
    "    \n",
    "    # Copying data in test variable\n",
    "    test = dataframe.copy()\n",
    "    \n",
    "    # Filling null values with mean data\n",
    "    ### why?\n",
    "    factors=['airline','source','destination','total_stops']\n",
    "    test['price'] = test['price'].fillna(test.groupby(factors)['price'].transform('mean'))\n",
    "    \n",
    "    # Copying test data in final dataframe\n",
    "    dataframe=test.copy()\n",
    "    \n",
    "    # After replacing null values just cross check whether if we have null values or not.\n",
    "    dataframe[dataframe.price.isnull()]\n",
    "    \n",
    "    # Observation\n",
    "    ### good explain this outside? - reduce number of statement explain in less words?\n",
    "    # - Finally only one row left will null price because for Jet Airways Business flying from Bangalore to New Delhi have only one record with null price.\n",
    "    # - Hence we can perform following analyis for the same.\n",
    "      # - We will try to find similiar records i.e. same source ,destination and airline and will try to impute mean for the same.\n",
    "      # - We will ask airline for more detailed information of the flight  and can do the further analysis.\n",
    "      # - We can delete the record\n",
    "    \n",
    "    # We will delete the record as it has only one record, if it contains multiple records then we can be able to do futher analysis.\n",
    "    ## good\n",
    "    dataframe.drop(12502,axis=0,inplace=True)\n",
    "    \n",
    "    # Lastly check the null values in column\n",
    "    ## useless? do this outside?\n",
    "    dataframe.isnull().sum()\n",
    "    \n",
    "    print(\"Function Executed sucessfully!!\")\n",
    "    \n",
    "    return dataframe"
   ]
  },
  {
   "cell_type": "markdown",
   "id": "bda55420",
   "metadata": {},
   "source": [
    "#### Code Execution"
   ]
  },
  {
   "cell_type": "code",
   "execution_count": 44,
   "id": "04b19876",
   "metadata": {},
   "outputs": [
    {
     "name": "stdout",
     "output_type": "stream",
     "text": [
      "Split of date_of_journey - done\n",
      "Drop date_of_journey column - done\n",
      "Split arrival_time column - done  \n",
      "Split arrival_time column in arrival_hour and arrival_min - done\n",
      "Drop arrival_time column - done\n",
      "Split dep_time column in dept_hour and dept_min - done\n",
      "Drop dep_time column - done\n",
      "Split of Duration - done\n",
      "Convert duration_hour into integer - done\n",
      "Function exceuted sucessfully\n"
     ]
    }
   ],
   "source": [
    "data_cleaning_df = data_cleaning(dataframe = final_df)"
   ]
  },
  {
   "cell_type": "code",
   "execution_count": 45,
   "id": "d548c8ad",
   "metadata": {},
   "outputs": [
    {
     "name": "stdout",
     "output_type": "stream",
     "text": [
      "Split of duration_min - done\n",
      "Replaced Nan values with 0 - done\n",
      "Convert duration_min into integer - done \n",
      "Drop duration column - done \n",
      "Assigning stops a  integer value - done\n",
      "Filling Null values - done\n",
      "Drop route column - done\n",
      "LabelEncoder process - done\n",
      "<class 'pandas.core.frame.DataFrame'>\n",
      "Int64Index: 13352 entries, 0 to 13353\n",
      "Data columns (total 15 columns):\n",
      " #   Column           Non-Null Count  Dtype  \n",
      "---  ------           --------------  -----  \n",
      " 0   airline          13352 non-null  int64  \n",
      " 1   source           13352 non-null  int64  \n",
      " 2   destination      13352 non-null  int64  \n",
      " 3   total_stops      13352 non-null  float64\n",
      " 4   additional_info  13352 non-null  int64  \n",
      " 5   price            10682 non-null  float64\n",
      " 6   date             13352 non-null  int64  \n",
      " 7   month            13352 non-null  int64  \n",
      " 8   year             13352 non-null  int64  \n",
      " 9   arrival_hour     13352 non-null  int64  \n",
      " 10  arrival_min      13352 non-null  int64  \n",
      " 11  dept_hour        13352 non-null  int64  \n",
      " 12  dept_min         13352 non-null  int64  \n",
      " 13  duration_hour    13352 non-null  int64  \n",
      " 14  duration_min     13352 non-null  int64  \n",
      "dtypes: float64(2), int64(13)\n",
      "memory usage: 1.6 MB\n",
      "Function Executed sucessfully\n"
     ]
    }
   ],
   "source": [
    "data_preperation_df = data_preperation(dataframe = data_cleaning_df)"
   ]
  },
  {
   "cell_type": "code",
   "execution_count": 46,
   "id": "b3786cc4",
   "metadata": {},
   "outputs": [
    {
     "name": "stdout",
     "output_type": "stream",
     "text": [
      "Function Executed sucessfully!!\n"
     ]
    }
   ],
   "source": [
    "handling_null_value_df = handling_null_value(dataframe = data_preperation_df)"
   ]
  },
  {
   "cell_type": "code",
   "execution_count": 47,
   "id": "0fdc87f8",
   "metadata": {},
   "outputs": [
    {
     "data": {
      "text/html": [
       "<div>\n",
       "<style scoped>\n",
       "    .dataframe tbody tr th:only-of-type {\n",
       "        vertical-align: middle;\n",
       "    }\n",
       "\n",
       "    .dataframe tbody tr th {\n",
       "        vertical-align: top;\n",
       "    }\n",
       "\n",
       "    .dataframe thead th {\n",
       "        text-align: right;\n",
       "    }\n",
       "</style>\n",
       "<table border=\"1\" class=\"dataframe\">\n",
       "  <thead>\n",
       "    <tr style=\"text-align: right;\">\n",
       "      <th></th>\n",
       "      <th>airline</th>\n",
       "      <th>date_of_journey</th>\n",
       "      <th>source</th>\n",
       "      <th>destination</th>\n",
       "      <th>route</th>\n",
       "      <th>dep_time</th>\n",
       "      <th>arrival_time</th>\n",
       "      <th>duration</th>\n",
       "      <th>total_stops</th>\n",
       "      <th>additional_info</th>\n",
       "      <th>price</th>\n",
       "      <th>date</th>\n",
       "      <th>month</th>\n",
       "      <th>year</th>\n",
       "    </tr>\n",
       "  </thead>\n",
       "  <tbody>\n",
       "    <tr>\n",
       "      <th>0</th>\n",
       "      <td>IndiGo</td>\n",
       "      <td>24/03/2019</td>\n",
       "      <td>Banglore</td>\n",
       "      <td>New Delhi</td>\n",
       "      <td>BLR → DEL</td>\n",
       "      <td>22:20</td>\n",
       "      <td>01:10 22 Mar</td>\n",
       "      <td>2h 50m</td>\n",
       "      <td>non-stop</td>\n",
       "      <td>No info</td>\n",
       "      <td>3897.0</td>\n",
       "      <td>24</td>\n",
       "      <td>3</td>\n",
       "      <td>2019</td>\n",
       "    </tr>\n",
       "    <tr>\n",
       "      <th>1</th>\n",
       "      <td>Air India</td>\n",
       "      <td>1/05/2019</td>\n",
       "      <td>Kolkata</td>\n",
       "      <td>Banglore</td>\n",
       "      <td>CCU → IXR → BBI → BLR</td>\n",
       "      <td>05:50</td>\n",
       "      <td>13:15</td>\n",
       "      <td>7h 25m</td>\n",
       "      <td>2 stops</td>\n",
       "      <td>No info</td>\n",
       "      <td>7662.0</td>\n",
       "      <td>1</td>\n",
       "      <td>5</td>\n",
       "      <td>2019</td>\n",
       "    </tr>\n",
       "    <tr>\n",
       "      <th>2</th>\n",
       "      <td>Jet Airways</td>\n",
       "      <td>9/06/2019</td>\n",
       "      <td>Delhi</td>\n",
       "      <td>Cochin</td>\n",
       "      <td>DEL → LKO → BOM → COK</td>\n",
       "      <td>09:25</td>\n",
       "      <td>04:25 10 Jun</td>\n",
       "      <td>19h</td>\n",
       "      <td>2 stops</td>\n",
       "      <td>No info</td>\n",
       "      <td>13882.0</td>\n",
       "      <td>9</td>\n",
       "      <td>6</td>\n",
       "      <td>2019</td>\n",
       "    </tr>\n",
       "    <tr>\n",
       "      <th>3</th>\n",
       "      <td>IndiGo</td>\n",
       "      <td>12/05/2019</td>\n",
       "      <td>Kolkata</td>\n",
       "      <td>Banglore</td>\n",
       "      <td>CCU → NAG → BLR</td>\n",
       "      <td>18:05</td>\n",
       "      <td>23:30</td>\n",
       "      <td>5h 25m</td>\n",
       "      <td>1 stop</td>\n",
       "      <td>No info</td>\n",
       "      <td>6218.0</td>\n",
       "      <td>12</td>\n",
       "      <td>5</td>\n",
       "      <td>2019</td>\n",
       "    </tr>\n",
       "    <tr>\n",
       "      <th>4</th>\n",
       "      <td>IndiGo</td>\n",
       "      <td>01/03/2019</td>\n",
       "      <td>Banglore</td>\n",
       "      <td>New Delhi</td>\n",
       "      <td>BLR → NAG → DEL</td>\n",
       "      <td>16:50</td>\n",
       "      <td>21:35</td>\n",
       "      <td>4h 45m</td>\n",
       "      <td>1 stop</td>\n",
       "      <td>No info</td>\n",
       "      <td>13302.0</td>\n",
       "      <td>1</td>\n",
       "      <td>3</td>\n",
       "      <td>2019</td>\n",
       "    </tr>\n",
       "  </tbody>\n",
       "</table>\n",
       "</div>"
      ],
      "text/plain": [
       "       airline date_of_journey    source destination                  route  \\\n",
       "0       IndiGo      24/03/2019  Banglore   New Delhi              BLR → DEL   \n",
       "1    Air India       1/05/2019   Kolkata    Banglore  CCU → IXR → BBI → BLR   \n",
       "2  Jet Airways       9/06/2019     Delhi      Cochin  DEL → LKO → BOM → COK   \n",
       "3       IndiGo      12/05/2019   Kolkata    Banglore        CCU → NAG → BLR   \n",
       "4       IndiGo      01/03/2019  Banglore   New Delhi        BLR → NAG → DEL   \n",
       "\n",
       "  dep_time  arrival_time duration total_stops additional_info    price  date  \\\n",
       "0    22:20  01:10 22 Mar   2h 50m    non-stop         No info   3897.0    24   \n",
       "1    05:50         13:15   7h 25m     2 stops         No info   7662.0     1   \n",
       "2    09:25  04:25 10 Jun      19h     2 stops         No info  13882.0     9   \n",
       "3    18:05         23:30   5h 25m      1 stop         No info   6218.0    12   \n",
       "4    16:50         21:35   4h 45m      1 stop         No info  13302.0     1   \n",
       "\n",
       "   month  year  \n",
       "0      3  2019  \n",
       "1      5  2019  \n",
       "2      6  2019  \n",
       "3      5  2019  \n",
       "4      3  2019  "
      ]
     },
     "execution_count": 47,
     "metadata": {},
     "output_type": "execute_result"
    }
   ],
   "source": [
    "final_df.head()"
   ]
  },
  {
   "cell_type": "markdown",
   "id": "b9222395",
   "metadata": {},
   "source": [
    "#### Q. 1.Top 10 Aviation Companies whose flight tickets are sold the most ?"
   ]
  },
  {
   "cell_type": "code",
   "execution_count": 48,
   "id": "0fd4abb2",
   "metadata": {},
   "outputs": [
    {
     "data": {
      "text/plain": [
       "Jet Airways                          4746\n",
       "IndiGo                               2564\n",
       "Air India                            2192\n",
       "Multiple carriers                    1543\n",
       "SpiceJet                             1026\n",
       "Vistara                               608\n",
       "Air Asia                              405\n",
       "GoAir                                 240\n",
       "Multiple carriers Premium economy      16\n",
       "Jet Airways Business                    8\n",
       "Name: airline, dtype: int64"
      ]
     },
     "execution_count": 48,
     "metadata": {},
     "output_type": "execute_result"
    }
   ],
   "source": [
    "final_df[\"airline\"].value_counts()[0:10]"
   ]
  },
  {
   "cell_type": "code",
   "execution_count": 49,
   "id": "09061be7",
   "metadata": {},
   "outputs": [],
   "source": [
    "##correct\n",
    "##sort the graph it will look nice\n",
    "## tilt the airline name so it will be easy to read"
   ]
  },
  {
   "cell_type": "code",
   "execution_count": 50,
   "id": "bfbec334",
   "metadata": {},
   "outputs": [
    {
     "data": {
      "image/png": "[encoded data removed]",
      "text/plain": [
       "<Figure size 2520x1224 with 1 Axes>"
      ]
     },
     "metadata": {
      "needs_background": "light"
     },
     "output_type": "display_data"
    }
   ],
   "source": [
    "plt.figure(figsize=(35,17))\n",
    "ax=sns.countplot(x='airline',data=final_df)\n",
    "plt.ylabel(\"Count\", weight=\"bold\", fontsize=20)\n",
    "plt.xlabel(\"Airline Name\", weight=\"bold\", fontsize=20)\n",
    "plt.title(\"Top 10 Aviation Companies whose flight tickets are sold the most\", weight=\"bold\",fontsize=30,pad=20)\n",
    "\n",
    "for p, label in zip(ax.patches, final_df[\"airline\"].value_counts().values):\n",
    "    ax.annotate(int(p.get_height()), (p.get_x()+0.25, p.get_height()+1), va='bottom', color= 'black')"
   ]
  },
  {
   "cell_type": "code",
   "execution_count": 51,
   "id": "6e4019f3",
   "metadata": {},
   "outputs": [],
   "source": [
    "airline_names = final_df.airline.value_counts().index[:8]"
   ]
  },
  {
   "cell_type": "code",
   "execution_count": 52,
   "id": "7eb68ee0",
   "metadata": {},
   "outputs": [],
   "source": [
    "airline_val = final_df.airline.value_counts().values[:8]"
   ]
  },
  {
   "cell_type": "code",
   "execution_count": 53,
   "id": "f4bfaaba",
   "metadata": {},
   "outputs": [
    {
     "data": {
      "text/plain": [
       "([<matplotlib.patches.Wedge at 0x7fcd1039b130>,\n",
       "  <matplotlib.patches.Wedge at 0x7fcd1039be20>,\n",
       "  <matplotlib.patches.Wedge at 0x7fcd33a8a5e0>,\n",
       "  <matplotlib.patches.Wedge at 0x7fcd33a8a430>,\n",
       "  <matplotlib.patches.Wedge at 0x7fcd3375ce80>,\n",
       "  <matplotlib.patches.Wedge at 0x7fcd3375cdc0>,\n",
       "  <matplotlib.patches.Wedge at 0x7fcd3309c6a0>,\n",
       "  <matplotlib.patches.Wedge at 0x7fccf006d700>],\n",
       " [Text(0.4802076328260656, 0.9896467194790203, 'Jet Airways'),\n",
       "  Text(-1.0512028912745053, 0.32399456997937637, 'IndiGo'),\n",
       "  Text(-0.7484977207179717, -0.8060714373304648, 'Air India'),\n",
       "  Text(0.1450787913670109, -1.0903908218136686, 'Multiple carriers'),\n",
       "  Text(0.7400951357442527, -0.8137930879822565, 'SpiceJet'),\n",
       "  Text(0.9916758890630677, -0.47600307882509996, 'Vistara'),\n",
       "  Text(1.076138218786255, -0.22787394337121325, 'Air Asia'),\n",
       "  Text(1.0982392480315162, -0.062213777277789116, 'GoAir')],\n",
       " [Text(0.26193143608694486, 0.539807301534011, '35.62%'),\n",
       "  Text(-0.5733833952406392, 0.17672431089784166, '19.24%'),\n",
       "  Text(-0.4082714840279846, -0.43967532945298077, '16.45%'),\n",
       "  Text(0.07913388620018776, -0.5947586300801828, '11.58%'),\n",
       "  Text(0.4036882558605014, -0.44388713889941256, '7.70%'),\n",
       "  Text(0.5409141213071278, -0.259638042995509, '4.56%'),\n",
       "  Text(0.5869844829743208, -0.12429487820247995, '3.04%'),\n",
       "  Text(0.5990395898353723, -0.03393478760606679, '1.80%')])"
      ]
     },
     "execution_count": 53,
     "metadata": {},
     "output_type": "execute_result"
    },
    {
     "data": {
      "image/png": "[encoded data removed]",
      "text/plain": [
       "<Figure size 1440x720 with 1 Axes>"
      ]
     },
     "metadata": {},
     "output_type": "display_data"
    }
   ],
   "source": [
    "plt.figure(figsize=(20,10))\n",
    "plt.pie(airline_val,labels=airline_names,autopct='%1.2f%%')"
   ]
  },
  {
   "cell_type": "markdown",
   "id": "a449ca7c",
   "metadata": {},
   "source": [
    "### Observation:\n",
    "- Of the total flight tickets sold Jet Airways has the highest share which is 35.62% followed by Indigo and Air India.   "
   ]
  },
  {
   "cell_type": "markdown",
   "id": "ebe27aa4",
   "metadata": {},
   "source": [
    "#### Q.2. Which month have most number of flights?"
   ]
  },
  {
   "cell_type": "code",
   "execution_count": 54,
   "id": "533b2555",
   "metadata": {},
   "outputs": [],
   "source": [
    "### why again you already did this step in data preparation - use clean and prepare dataframe\n",
    "final_df['date']= final_df['date_of_journey'].apply(lambda x:x.split(\"/\")[0])\n",
    "final_df['month']= final_df['date_of_journey'].apply(lambda x:x.split(\"/\")[1])\n",
    "final_df['year']= final_df['date_of_journey'].apply(lambda x:x.split(\"/\")[2])"
   ]
  },
  {
   "cell_type": "code",
   "execution_count": 55,
   "id": "11107f50",
   "metadata": {},
   "outputs": [],
   "source": [
    "## correct sort the graph by count or months - whichever look good"
   ]
  },
  {
   "cell_type": "code",
   "execution_count": 56,
   "id": "c3ff246f",
   "metadata": {},
   "outputs": [
    {
     "data": {
      "image/png": "[encoded data removed]",
      "text/plain": [
       "<Figure size 720x360 with 1 Axes>"
      ]
     },
     "metadata": {
      "needs_background": "light"
     },
     "output_type": "display_data"
    }
   ],
   "source": [
    "plt.figure(figsize = (10, 5))\n",
    "plt.title('Count of flights month wise')\n",
    "ax=sns.countplot(x = 'month', data = final_df)\n",
    "plt.xlabel('Month')\n",
    "plt.ylabel('Count of flights')\n",
    "for p in ax.patches:\n",
    "    ax.annotate(int(p.get_height()), (p.get_x()+0.25, p.get_height()+1), va='bottom', color= 'black')"
   ]
  },
  {
   "cell_type": "code",
   "execution_count": null,
   "id": "48c671b5",
   "metadata": {},
   "outputs": [],
   "source": []
  },
  {
   "cell_type": "markdown",
   "id": "c672e24f",
   "metadata": {},
   "source": [
    "### Observation:\n",
    "- May has most number of flights followed by June and March."
   ]
  },
  {
   "cell_type": "markdown",
   "id": "56251a93",
   "metadata": {},
   "source": [
    "#### Q.3. Which airline is most expensive?"
   ]
  },
  {
   "cell_type": "code",
   "execution_count": 57,
   "id": "deed8f19",
   "metadata": {},
   "outputs": [],
   "source": [
    "## good"
   ]
  },
  {
   "cell_type": "code",
   "execution_count": 58,
   "id": "f88813d9",
   "metadata": {},
   "outputs": [
    {
     "data": {
      "text/plain": [
       "<Figure size 7200x360 with 0 Axes>"
      ]
     },
     "metadata": {},
     "output_type": "display_data"
    },
    {
     "data": {
      "image/png": "[encoded data removed]",
      "text/plain": [
       "<Figure size 1296x432 with 1 Axes>"
      ]
     },
     "metadata": {
      "needs_background": "light"
     },
     "output_type": "display_data"
    }
   ],
   "source": [
    "plt.figure(figsize = (100, 5))\n",
    "sns.catplot(y = \"price\", x = \"airline\", data = final_df.sort_values(\"price\", ascending = False), kind=\"boxen\", height = 6, aspect = 3)\n",
    "plt.xticks(rotation = 30)\n",
    "plt.show()"
   ]
  },
  {
   "cell_type": "markdown",
   "id": "493a2598",
   "metadata": {},
   "source": [
    "### Observation:\n",
    " - Jet Airways Business has higher flight fares as compared to other Airlines, followed by Jet Airways and Multiple carriers.\n",
    " - Jet Airways has the most outliers in terms of price.\n",
    " \n",
    " #### explain more which like which jet airways have more outlier? why you think? and so one see graph and give more information?\n",
    " "
   ]
  },
  {
   "cell_type": "markdown",
   "id": "879eb4f0",
   "metadata": {},
   "source": [
    "#### Q.4 Which airline has boarded the most ?"
   ]
  },
  {
   "cell_type": "code",
   "execution_count": 59,
   "id": "332a7d8f",
   "metadata": {},
   "outputs": [],
   "source": [
    "### correct sort graph by number of passengers on boarded - rename title of y-axis not make sense"
   ]
  },
  {
   "cell_type": "code",
   "execution_count": 60,
   "id": "161cc88b",
   "metadata": {},
   "outputs": [
    {
     "data": {
      "image/png": "[encoded data removed]",
      "text/plain": [
       "<Figure size 1440x360 with 1 Axes>"
      ]
     },
     "metadata": {
      "needs_background": "light"
     },
     "output_type": "display_data"
    }
   ],
   "source": [
    "plt.figure(figsize = (20,5))\n",
    "plt.title('Count of flights with different Airlines')\n",
    "ax=sns.countplot(x = 'airline', data =final_df)\n",
    "plt.xlabel('Airline',weight=\"bold\", fontsize=20)\n",
    "plt.ylabel('Count of flights',weight=\"bold\", fontsize=20)\n",
    "plt.xticks(rotation = 45)\n",
    "for p in ax.patches:\n",
    "    ax.annotate(int(p.get_height()), (p.get_x()+0.25, p.get_height()+1), va='bottom', color= 'black')"
   ]
  },
  {
   "cell_type": "markdown",
   "id": "d1c65b56",
   "metadata": {},
   "source": [
    "### Observation\n",
    "- Jet Airways has most of the flights boarded followed by IndiGo and AirIndia."
   ]
  },
  {
   "cell_type": "markdown",
   "id": "00fc37b1",
   "metadata": {},
   "source": [
    "#### Q.5 Which source will be having highest fare?"
   ]
  },
  {
   "cell_type": "code",
   "execution_count": 61,
   "id": "a3c4ab15",
   "metadata": {},
   "outputs": [
    {
     "data": {
      "image/png": "[encoded data removed]",
      "text/plain": [
       "<Figure size 1440x360 with 1 Axes>"
      ]
     },
     "metadata": {
      "needs_background": "light"
     },
     "output_type": "display_data"
    }
   ],
   "source": [
    "plt.figure(figsize = (20,5))\n",
    "sns.boxplot(y = \"price\", x = \"source\", data = final_df.sort_values(\"price\", ascending = False))\n",
    "plt.show()"
   ]
  },
  {
   "cell_type": "markdown",
   "id": "f682485d",
   "metadata": {},
   "source": [
    "### Observation\n",
    " - Flights originating from banglore has high flight fares as compared to other sources ~from where flights are originating.~\n",
    " - Banglore as the source location has the most outliers while Chennai has the least.\n",
    " \n",
    " #### have room to explain more"
   ]
  },
  {
   "cell_type": "markdown",
   "id": "d04a12cb",
   "metadata": {},
   "source": [
    "### Q.6 Which destination will be having highest fare?"
   ]
  },
  {
   "cell_type": "code",
   "execution_count": 62,
   "id": "8ccab945",
   "metadata": {},
   "outputs": [
    {
     "data": {
      "image/png": "[encoded data removed]",
      "text/plain": [
       "<Figure size 1440x360 with 1 Axes>"
      ]
     },
     "metadata": {
      "needs_background": "light"
     },
     "output_type": "display_data"
    }
   ],
   "source": [
    "plt.figure(figsize = (20,5))\n",
    "sns.boxplot(y = \"price\", x = \"destination\", data = final_df.sort_values(\"price\", ascending = False))\n",
    "plt.show()"
   ]
  },
  {
   "cell_type": "markdown",
   "id": "5e6b63aa",
   "metadata": {},
   "source": [
    "### Observation:\n",
    " - Flights whose destination is New Delhi has highest fare compared to other flights whose destination is other than New Delhi.\n",
    " - New Delhi as the destination location has most of the outliers while Kolkata has the least."
   ]
  },
  {
   "cell_type": "markdown",
   "id": "669ce05d",
   "metadata": {},
   "source": [
    "### Conclusion - Results:"
   ]
  },
  {
   "cell_type": "markdown",
   "id": "08913ffe",
   "metadata": {},
   "source": [
    "#### Q.1.Top 10 Aviation Companies whose flight tickets are sold the most ?"
   ]
  },
  {
   "cell_type": "markdown",
   "id": "d65b4c1f",
   "metadata": {},
   "source": [
    "- Of the total flight tickets sold Jet Airways has the highest share followed by Indigo."
   ]
  },
  {
   "cell_type": "markdown",
   "id": "15c87336",
   "metadata": {},
   "source": [
    "#### Q.2. Which month have most number of flights?"
   ]
  },
  {
   "cell_type": "markdown",
   "id": "402120e7",
   "metadata": {},
   "source": [
    "- May has most number of flights followed by June and March."
   ]
  },
  {
   "cell_type": "markdown",
   "id": "fca2700a",
   "metadata": {},
   "source": [
    "#### Q.3. Which airline is most expensive?"
   ]
  },
  {
   "cell_type": "markdown",
   "id": "cd239abd",
   "metadata": {},
   "source": [
    "- Jet Airways Business has higher flight fares as compared to other Airlines, followed by Jet Airways and Multiple carriers.\n",
    "- Jet Airways has the most outliers in terms of price."
   ]
  },
  {
   "cell_type": "markdown",
   "id": "4fcf8ab7",
   "metadata": {},
   "source": [
    "#### Q.4 Which airline has boarded the most ?"
   ]
  },
  {
   "cell_type": "markdown",
   "id": "8235784b",
   "metadata": {},
   "source": [
    "- Jet Airways has most of the flights boarded followed by IndiGo and AirIndia."
   ]
  },
  {
   "cell_type": "markdown",
   "id": "58b69b7b",
   "metadata": {},
   "source": [
    "#### Q.5 Which source will be having highest fare?"
   ]
  },
  {
   "cell_type": "markdown",
   "id": "330848aa",
   "metadata": {},
   "source": [
    " - Flights originating from banglore has high flight fares as compared to other sources from where flights are originating.\n",
    " - Banglore as the source location has the most outliers while Chennai has the least."
   ]
  },
  {
   "cell_type": "markdown",
   "id": "9626e155",
   "metadata": {},
   "source": [
    "#### Q.6 Which destination will be having highest fare?"
   ]
  },
  {
   "cell_type": "markdown",
   "id": "f5a4e4f3",
   "metadata": {},
   "source": [
    " - Flights whose destination is New Delhi has highest fare compared to other flights whose destination is other than New Delhi.\n",
    " - New Delhi as the destination location has most of the outliers while Kolkata has the least."
   ]
  },
  {
   "cell_type": "code",
   "execution_count": null,
   "id": "561f77ff",
   "metadata": {},
   "outputs": [],
   "source": []
  },
  {
   "cell_type": "code",
   "execution_count": null,
   "id": "d422a80b",
   "metadata": {},
   "outputs": [],
   "source": []
  }
 ],
 "metadata": {
  "kernelspec": {
   "display_name": "Python 3",
   "language": "python",
   "name": "python3"
  },
  "language_info": {
   "codemirror_mode": {
    "name": "ipython",
    "version": 3
   },
   "file_extension": ".py",
   "mimetype": "text/x-python",
   "name": "python",
   "nbconvert_exporter": "python",
   "pygments_lexer": "ipython3",
   "version": "3.8.8"
  },
  "vscode": {
   "interpreter": {
    "hash": "91b893b8c70ae178c1e8e04ea8122f57b6d43192b6962fcaf4d961ff463478a8"
   }
  }
 },
 "nbformat": 4,
 "nbformat_minor": 5
}
