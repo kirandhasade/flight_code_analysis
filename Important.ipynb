{
 "cells": [
  {
   "cell_type": "markdown",
   "id": "737e556d",
   "metadata": {},
   "source": [
    "### Important Queries\n"
   ]
  },
  {
   "cell_type": "code",
   "execution_count": null,
   "id": "6e7ff5ef",
   "metadata": {},
   "outputs": [],
   "source": [
    "# To check how many null values are there\n",
    "final_df['price'].isnull().sum()"
   ]
  },
  {
   "cell_type": "code",
   "execution_count": null,
   "id": "db9944f5",
   "metadata": {},
   "outputs": [],
   "source": [
    "# To check which records are null\n",
    "final_df[final_df['price'].isnull()]"
   ]
  },
  {
   "cell_type": "code",
   "execution_count": null,
   "id": "f7696b5e",
   "metadata": {},
   "outputs": [],
   "source": [
    "## number of null prices for airlines(column)\n",
    "final_df[final_df.price.isnull()].airline.value_counts()"
   ]
  }
 ],
 "metadata": {
  "kernelspec": {
   "display_name": "Python 3",
   "language": "python",
   "name": "python3"
  },
  "language_info": {
   "codemirror_mode": {
    "name": "ipython",
    "version": 3
   },
   "file_extension": ".py",
   "mimetype": "text/x-python",
   "name": "python",
   "nbconvert_exporter": "python",
   "pygments_lexer": "ipython3",
   "version": "3.8.8"
  }
 },
 "nbformat": 4,
 "nbformat_minor": 5
}
