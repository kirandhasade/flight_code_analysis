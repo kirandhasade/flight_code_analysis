{
 "cells": [
  {
   "cell_type": "markdown",
   "id": "20fbe9de",
   "metadata": {},
   "source": [
    "### Project Name: Flight Prediction Analysis"
   ]
  },
  {
   "cell_type": "markdown",
   "id": "f627fcb9",
   "metadata": {},
   "source": [
    "### Project Objective:\n",
    "- The number of people who fly has dramatically increased in recent years. Pricing alters dynamically owing to many variables, making it difficult for airlines to maintain prices. As a result, we will attempt to solve this problem by cleaning, preparing and analysing the flight price.\n",
    "- Hence, the goal of this project is to clean, prepare and analyse the flight price dataset taken from Kaggle.\n",
    "- Basically dataset have price based on information such as airline, date_of_journey, flight route information including number of stops and duration of flight.\n",
    "- So that we can use this dataset to analyse the flight journey price based on a variety of variables as mentioned above. \n",
    "\n",
    "\n",
    "### Analysis Involve Phases:\n",
    "1. Data collection\n",
    "2. Data Understanding\n",
    "3. Data Cleaning and Preparation \n",
    "4. Data Analyse"
   ]
  },
  {
   "cell_type": "code",
   "execution_count": 2,
   "id": "e4c9f9d6",
   "metadata": {},
   "outputs": [],
   "source": [
    "# importing Basic libraries\n",
    "import pandas as pd\n",
    "import numpy as np\n",
    "import matplotlib.pyplot as plt\n",
    "import seaborn as sns\n",
    "%matplotlib inline"
   ]
  },
  {
   "cell_type": "markdown",
   "id": "fd0a07ab",
   "metadata": {},
   "source": [
    "### Data Collection/Reading"
   ]
  },
  {
   "cell_type": "code",
   "execution_count": 3,
   "id": "94586864",
   "metadata": {},
   "outputs": [],
   "source": [
    "final_df = pd.read_csv(\"flight_prediction.csv\")"
   ]
  },
  {
   "cell_type": "markdown",
   "id": "1f1fb523",
   "metadata": {},
   "source": [
    "### Data Understanding"
   ]
  },
  {
   "cell_type": "code",
   "execution_count": 4,
   "id": "d02efc5d",
   "metadata": {},
   "outputs": [
    {
     "data": {
      "text/plain": [
       "Index(['Airline', 'Date_of_Journey', 'Source', 'Destination', 'Route',\n",
       "       'Dep_Time', 'Arrival_Time', 'Duration', 'Total_Stops',\n",
       "       'Additional_Info', 'Price'],\n",
       "      dtype='object')"
      ]
     },
     "execution_count": 4,
     "metadata": {},
     "output_type": "execute_result"
    }
   ],
   "source": [
    "final_df.columns"
   ]
  },
  {
   "cell_type": "code",
   "execution_count": 5,
   "id": "c4737d59",
   "metadata": {},
   "outputs": [],
   "source": [
    "final_df = final_df.rename(columns={'Airline':'airline', \n",
    "                         'Date_of_Journey': 'date_of_journey', \n",
    "                         'Source': 'source', \n",
    "                         'Destination': 'destination', \n",
    "                         'Route': 'route',\n",
    "                         'Dep_Time': 'dep_time', \n",
    "                         'Arrival_Time': 'arrival_time', \n",
    "                         'Duration':'duration', \n",
    "                         'Total_Stops': 'total_stops', \n",
    "                         'Additional_Info': 'additional_info',\n",
    "                         'Price': 'price' \n",
    "                         })"
   ]
  },
  {
   "cell_type": "code",
   "execution_count": 16,
   "id": "e336a060",
   "metadata": {},
   "outputs": [
    {
     "name": "stdout",
     "output_type": "stream",
     "text": [
      "<class 'pandas.core.frame.DataFrame'>\n",
      "RangeIndex: 13354 entries, 0 to 13353\n",
      "Data columns (total 11 columns):\n",
      " #   Column           Non-Null Count  Dtype  \n",
      "---  ------           --------------  -----  \n",
      " 0   airline          13354 non-null  object \n",
      " 1   date_of_journey  13354 non-null  object \n",
      " 2   source           13354 non-null  object \n",
      " 3   destination      13354 non-null  object \n",
      " 4   route            13353 non-null  object \n",
      " 5   dep_time         13354 non-null  object \n",
      " 6   arrival_time     13354 non-null  object \n",
      " 7   duration         13354 non-null  object \n",
      " 8   total_stops      13353 non-null  object \n",
      " 9   additional_info  13354 non-null  object \n",
      " 10  price            10683 non-null  float64\n",
      "dtypes: float64(1), object(10)\n",
      "memory usage: 1.1+ MB\n"
     ]
    }
   ],
   "source": [
    "final_df.info()"
   ]
  },
  {
   "cell_type": "code",
   "execution_count": 8,
   "id": "105d4e8c",
   "metadata": {},
   "outputs": [
    {
     "data": {
      "text/plain": [
       "(13354, 11)"
      ]
     },
     "execution_count": 8,
     "metadata": {},
     "output_type": "execute_result"
    }
   ],
   "source": [
    "final_df.shape"
   ]
  },
  {
   "cell_type": "markdown",
   "id": "a5daeba9",
   "metadata": {},
   "source": [
    "### Observations:\n",
    "- Number of variables = 11\n",
    "- Number of rows = 13354\n",
    "- Number of categorical type of feature = 10\n",
    "- Number of numerical type of feature = 1"
   ]
  },
  {
   "cell_type": "code",
   "execution_count": 18,
   "id": "04bacf0b",
   "metadata": {},
   "outputs": [
    {
     "data": {
      "text/plain": [
       "airline               0\n",
       "date_of_journey       0\n",
       "source                0\n",
       "destination           0\n",
       "route                 1\n",
       "dep_time              0\n",
       "arrival_time          0\n",
       "duration              0\n",
       "total_stops           1\n",
       "additional_info       0\n",
       "price              2671\n",
       "dtype: int64"
      ]
     },
     "execution_count": 18,
     "metadata": {},
     "output_type": "execute_result"
    }
   ],
   "source": [
    "final_df.isnull().sum()"
   ]
  },
  {
   "cell_type": "code",
   "execution_count": 32,
   "id": "0619c5ac",
   "metadata": {},
   "outputs": [
    {
     "data": {
      "text/plain": [
       "10"
      ]
     },
     "execution_count": 32,
     "metadata": {},
     "output_type": "execute_result"
    }
   ],
   "source": [
    "final_df.additional_info.nunique()"
   ]
  },
  {
   "cell_type": "markdown",
   "id": "94c12456",
   "metadata": {},
   "source": [
    "### Observation:\n",
    "  1. airline:\n",
    "  - Depicts name of the airline from which the ticket is booked.\n",
    "  - There are total 12 unique airline names in the dataset.\n",
    "  - It is of Object datatype.\n",
    "  \n",
    "  \n",
    "  2. date_of_journey:\n",
    "  - Represents journey date of each traveller. \n",
    "  - It is a date column in MM/DD/YYYY format.\n",
    "  - It It is of Object datatype.\n",
    "  \n",
    "  \n",
    "  3. source:\n",
    "  - Represents source from which the airline would departure.\n",
    "  - There are total 5 unique source names in the dataset.\n",
    "  - It is of Object datatype.\n",
    "  \n",
    "  \n",
    "  4. destination:\n",
    "  - Represents destination to which airline would arrive\n",
    "  - There are total 6 unique destination names in the dataset.\n",
    "  - It is of Object datatype.\n",
    "  \n",
    "  \n",
    "  5. route:\n",
    "  - Represents route of the airline from source to destination.\n",
    "  - It is of Object datatype. \n",
    "  - There is one null value in the dataset.\n",
    "  \n",
    "  \n",
    "  6. dep_time:\n",
    "  - Represents time at which flight would departure from the source.\n",
    "  - It is in H:MM format.\n",
    "  - It is of Object datatype.\n",
    "  \n",
    "  \n",
    "  7. arrival_time:\n",
    "  - Represents time at which flight would arrive at the destination.\n",
    "  - It is in H:MM format followed by date.\n",
    "  - It is of Object datatype.\n",
    "  \n",
    "  \n",
    "  8. duration: \n",
    "  - Represents duration that airline Takes to fly from source to destination..\n",
    "  - It is of Object datatype. \n",
    "  \n",
    "  \n",
    "  9. total_stops:\n",
    "  - Represents total no. of stops that airline takes between source and destination.\n",
    "  - There are total 5 unique total stops in the dataset.\n",
    "  - There is one null value in the dataset.\n",
    "  - It is of Object datatype.\n",
    "  \n",
    "  \n",
    "   10. additional_info:\n",
    "  - Represents any Additional info about the airline.\n",
    "  - There are total 10 unique additional information in the dataset.\n",
    "  - It is of Object datatype.\n",
    "  \n",
    "  \n",
    "   11. Price:\n",
    "  - Represents fare of the ticket to fly from Source to destination.\n",
    "  - It is of float datatype."
   ]
  },
  {
   "cell_type": "code",
   "execution_count": 27,
   "id": "bb2c1382",
   "metadata": {},
   "outputs": [
    {
     "data": {
      "text/html": [
       "<div>\n",
       "<style scoped>\n",
       "    .dataframe tbody tr th:only-of-type {\n",
       "        vertical-align: middle;\n",
       "    }\n",
       "\n",
       "    .dataframe tbody tr th {\n",
       "        vertical-align: top;\n",
       "    }\n",
       "\n",
       "    .dataframe thead th {\n",
       "        text-align: right;\n",
       "    }\n",
       "</style>\n",
       "<table border=\"1\" class=\"dataframe\">\n",
       "  <thead>\n",
       "    <tr style=\"text-align: right;\">\n",
       "      <th></th>\n",
       "      <th>airline</th>\n",
       "      <th>date_of_journey</th>\n",
       "      <th>source</th>\n",
       "      <th>destination</th>\n",
       "      <th>route</th>\n",
       "      <th>dep_time</th>\n",
       "      <th>arrival_time</th>\n",
       "      <th>duration</th>\n",
       "      <th>total_stops</th>\n",
       "      <th>additional_info</th>\n",
       "      <th>price</th>\n",
       "    </tr>\n",
       "  </thead>\n",
       "  <tbody>\n",
       "    <tr>\n",
       "      <th>0</th>\n",
       "      <td>IndiGo</td>\n",
       "      <td>24/03/2019</td>\n",
       "      <td>Banglore</td>\n",
       "      <td>New Delhi</td>\n",
       "      <td>BLR → DEL</td>\n",
       "      <td>22:20</td>\n",
       "      <td>01:10 22 Mar</td>\n",
       "      <td>2h 50m</td>\n",
       "      <td>non-stop</td>\n",
       "      <td>No info</td>\n",
       "      <td>3897.0</td>\n",
       "    </tr>\n",
       "    <tr>\n",
       "      <th>1</th>\n",
       "      <td>Air India</td>\n",
       "      <td>1/05/2019</td>\n",
       "      <td>Kolkata</td>\n",
       "      <td>Banglore</td>\n",
       "      <td>CCU → IXR → BBI → BLR</td>\n",
       "      <td>05:50</td>\n",
       "      <td>13:15</td>\n",
       "      <td>7h 25m</td>\n",
       "      <td>2 stops</td>\n",
       "      <td>No info</td>\n",
       "      <td>7662.0</td>\n",
       "    </tr>\n",
       "    <tr>\n",
       "      <th>2</th>\n",
       "      <td>Jet Airways</td>\n",
       "      <td>9/06/2019</td>\n",
       "      <td>Delhi</td>\n",
       "      <td>Cochin</td>\n",
       "      <td>DEL → LKO → BOM → COK</td>\n",
       "      <td>09:25</td>\n",
       "      <td>04:25 10 Jun</td>\n",
       "      <td>19h</td>\n",
       "      <td>2 stops</td>\n",
       "      <td>No info</td>\n",
       "      <td>13882.0</td>\n",
       "    </tr>\n",
       "    <tr>\n",
       "      <th>3</th>\n",
       "      <td>IndiGo</td>\n",
       "      <td>12/05/2019</td>\n",
       "      <td>Kolkata</td>\n",
       "      <td>Banglore</td>\n",
       "      <td>CCU → NAG → BLR</td>\n",
       "      <td>18:05</td>\n",
       "      <td>23:30</td>\n",
       "      <td>5h 25m</td>\n",
       "      <td>1 stop</td>\n",
       "      <td>No info</td>\n",
       "      <td>6218.0</td>\n",
       "    </tr>\n",
       "    <tr>\n",
       "      <th>4</th>\n",
       "      <td>IndiGo</td>\n",
       "      <td>01/03/2019</td>\n",
       "      <td>Banglore</td>\n",
       "      <td>New Delhi</td>\n",
       "      <td>BLR → NAG → DEL</td>\n",
       "      <td>16:50</td>\n",
       "      <td>21:35</td>\n",
       "      <td>4h 45m</td>\n",
       "      <td>1 stop</td>\n",
       "      <td>No info</td>\n",
       "      <td>13302.0</td>\n",
       "    </tr>\n",
       "  </tbody>\n",
       "</table>\n",
       "</div>"
      ],
      "text/plain": [
       "       airline date_of_journey    source destination                  route  \\\n",
       "0       IndiGo      24/03/2019  Banglore   New Delhi              BLR → DEL   \n",
       "1    Air India       1/05/2019   Kolkata    Banglore  CCU → IXR → BBI → BLR   \n",
       "2  Jet Airways       9/06/2019     Delhi      Cochin  DEL → LKO → BOM → COK   \n",
       "3       IndiGo      12/05/2019   Kolkata    Banglore        CCU → NAG → BLR   \n",
       "4       IndiGo      01/03/2019  Banglore   New Delhi        BLR → NAG → DEL   \n",
       "\n",
       "  dep_time  arrival_time duration total_stops additional_info    price  \n",
       "0    22:20  01:10 22 Mar   2h 50m    non-stop         No info   3897.0  \n",
       "1    05:50         13:15   7h 25m     2 stops         No info   7662.0  \n",
       "2    09:25  04:25 10 Jun      19h     2 stops         No info  13882.0  \n",
       "3    18:05         23:30   5h 25m      1 stop         No info   6218.0  \n",
       "4    16:50         21:35   4h 45m      1 stop         No info  13302.0  "
      ]
     },
     "execution_count": 27,
     "metadata": {},
     "output_type": "execute_result"
    }
   ],
   "source": [
    "final_df.head()"
   ]
  },
  {
   "cell_type": "markdown",
   "id": "e81494ce",
   "metadata": {},
   "source": [
    "### Data Preparation/Cleaning"
   ]
  },
  {
   "cell_type": "code",
   "execution_count": 10,
   "id": "8b132ac3",
   "metadata": {},
   "outputs": [],
   "source": [
    "def data_cleaning(dataframe):\n",
    "    \n",
    "    \n",
    "    # By using lambda function -  split date_of_journey into date, month & year\n",
    "    dataframe['date']= dataframe['date_of_journey'].apply(lambda x:x.split(\"/\")[0])\n",
    "    dataframe['month']= dataframe['date_of_journey'].apply(lambda x:x.split(\"/\")[1])\n",
    "    dataframe['year']= dataframe['date_of_journey'].apply(lambda x:x.split(\"/\")[2])\n",
    "    \n",
    "    # or dataframe['Date']=dataframe['Date_of_Journey'].str.split('/').str[0]\n",
    "    # or dataframe['Date']=dataframe['Date_of_Journey'].str.split('/').str[0]\n",
    "    # or dataframe['Year']=dataframe['Date_of_Journey'].str.split('/').str[2]\n",
    "    \n",
    "    print(\"Split of date_of_journey - done\")\n",
    "    \n",
    "    # To convert date Month and Year column to integer\n",
    "    dataframe['date']=dataframe['date'].astype(int)\n",
    "    dataframe['month']=dataframe['month'].astype(int)\n",
    "    dataframe['year']=dataframe['year'].astype(int)\n",
    "    print(\"Convert date, month and year into integer - done\")\n",
    "    \n",
    "    # Dropping of Date_of_Journey column\n",
    "    dataframe.drop('date_of_journey',axis=1,inplace=True)\n",
    "    \n",
    "    # Splitting Arrival Time column\n",
    "    dataframe['arrival_time'].str.split(' ')\n",
    "    \n",
    "    # Here we have to focus on time not the date\n",
    "    \n",
    "    dataframe['arrival_time']=final_df['arrival_time'].apply(lambda x:x.split(' ')[0])\n",
    "    \n",
    "    # To split arrival time in hour and minutes\n",
    "    dataframe['arrival_hour']=dataframe['arrival_time'].str.split(':').str[0]\n",
    "    dataframe['arrival_min']=dataframe['arrival_time'].str.split(':').str[1]\n",
    "\n",
    "    # To change 'Arrival_Min' and 'Arrival_Hour' in integer Data type\n",
    "    dataframe['arrival_hour']=dataframe['arrival_hour'].astype(int)\n",
    "    dataframe['arrival_min']=dataframe['arrival_min'].astype(int)\n",
    "\n",
    "    # To drop Arrival_Time column\n",
    "    dataframe.drop('arrival_time',axis=1,inplace=True)\n",
    "\n",
    "    # To change Departure time by splitting time in hour and minutes\n",
    "\n",
    "    dataframe['dept_hour']=dataframe['dep_time'].str.split(':').str[0]\n",
    "    dataframe['dept_Min']=dataframe['dep_time'].str.split(':').str[1]\n",
    "\n",
    "    # To change 'Dept_Hour' and 'Dept_min' in integer Data type\n",
    "    dataframe['dept_hour']=dataframe['dept_hour'].astype(int)\n",
    "    dataframe['dept_min']=dataframe['dept_min'].astype(int)\n",
    "\n",
    "    # To drop Dep_Time column\n",
    "    dataframe.drop('dep_time',axis=1,inplace=True)\n",
    "\n",
    "    # Splitting Hours  from Duration column\n",
    "    dataframe['duration_hour']=dataframe['duration'].str.split(' ').str[0].str.split('h').str[0]\n",
    "\n",
    "    # We have '5m' in our dataset\n",
    "    dataframe[final_df['duration_hour']=='5m']\n",
    "\n",
    "     # Dropping 2 rows\n",
    "    dataframe.drop(6474,axis=0,inplace=True)\n",
    "    dataframe.drop(2660,axis=0,inplace=True)\n",
    "    # Above records are incorrect because Mumbai to Hyderabad it is showing as 5 minutes which is inconsitent or not correct hence we are dropping above 2 rows\n",
    "    \n",
    "     return dataframe"
   ]
  },
  {
   "cell_type": "code",
   "execution_count": null,
   "id": "706080dd",
   "metadata": {},
   "outputs": [],
   "source": [
    "def data_preperation(dataframe)\n",
    "   # Splitting Minutes from duration-(Data Preperation)\n",
    "     final_df['duration_min']=final_df['duration'].str.split(' ').str[1].str.split('m').str[0]\n",
    "        \n",
    "    # We have replaced Nan values with 0\n",
    "      final_df['duration_min']=final_df['duration_min'].fillna(0)\n",
    "        \n",
    "    # To check null values\n",
    "     final_df['duration_min'].isnull().sum()\n",
    "        \n",
    "    # Dropping Duration column\n",
    "     final_df.drop('duration',axis=1,inplace=True)\n",
    "        \n",
    "    # In route we have one Nan value to see which record is Nan we can use below code:\n",
    "     final_df[final_df['total_stops'].isnull()]\n",
    "        \n",
    "    # To analyse total stops column\n",
    "     final_df['total_stops'].unique()\n",
    "        \n",
    "    recode = {'non-stop':0,'1 stop':1,'2 stops':2,'3 stops':3,'4 stops':4, 'nan':1}\n",
    "   \n",
    "    final_df['total_stops'] = final_df['total_stops'].replace(recode)\n",
    "    \n",
    "    final_df['total_stops'].unique()\n",
    "    \n",
    "    # Filling Null values\n",
    "    final_df['total_stops'] = final_df['total_stops'].fillna(1)\n",
    "    \n",
    "    final_df['total_stops'].unique()\n",
    "    \n",
    "    # To drop Dep_Time column\n",
    "    final_df.drop('route',axis=1,inplace=True)\n",
    "    \n",
    "    # To handle categorical variable\n",
    "    \n",
    "    # To check unique values in below columns\n",
    "    final_df['airline'].unique()\n",
    "    final_df['source'].unique()\n",
    "    final_df['destination'].unique()\n",
    "    final_df['additional_info'].unique()\n",
    "    \n",
    "    # Here we can use label encoder for the above columns to convert categorical feature into numerical feature\n",
    "    \n",
    "    from sklearn.preprocessing import LabelEncoder\n",
    "    \n",
    "    # Create object of class LabelEncoder\n",
    "    labelencoder=LabelEncoder()\n",
    "    \n",
    "    final_df['airline']=labelencoder.fit_transform(final_df['airline'])\n",
    "    final_df['source']=labelencoder.fit_transform(final_df['source'])\n",
    "    final_df['destination']=labelencoder.fit_transform(final_df['destination'])\n",
    "    final_df['additional_info']=labelencoder.fit_transform(final_df['additional_info'])\n",
    "    \n",
    "    # Here we can see all columns are converted into object and float data type\n",
    "    final_df.info()\n",
    "            "
   ]
  },
  {
   "cell_type": "markdown",
   "id": "6f92de97",
   "metadata": {},
   "source": [
    "### Data analysis"
   ]
  },
  {
   "cell_type": "code",
   "execution_count": 25,
   "id": "bb5ee15b",
   "metadata": {},
   "outputs": [
    {
     "data": {
      "text/html": [
       "<div>\n",
       "<style scoped>\n",
       "    .dataframe tbody tr th:only-of-type {\n",
       "        vertical-align: middle;\n",
       "    }\n",
       "\n",
       "    .dataframe tbody tr th {\n",
       "        vertical-align: top;\n",
       "    }\n",
       "\n",
       "    .dataframe thead th {\n",
       "        text-align: right;\n",
       "    }\n",
       "</style>\n",
       "<table border=\"1\" class=\"dataframe\">\n",
       "  <thead>\n",
       "    <tr style=\"text-align: right;\">\n",
       "      <th></th>\n",
       "      <th>airline</th>\n",
       "      <th>date_of_journey</th>\n",
       "      <th>source</th>\n",
       "      <th>destination</th>\n",
       "      <th>route</th>\n",
       "      <th>dep_time</th>\n",
       "      <th>arrival_time</th>\n",
       "      <th>duration</th>\n",
       "      <th>total_stops</th>\n",
       "      <th>additional_info</th>\n",
       "      <th>price</th>\n",
       "    </tr>\n",
       "  </thead>\n",
       "  <tbody>\n",
       "    <tr>\n",
       "      <th>0</th>\n",
       "      <td>IndiGo</td>\n",
       "      <td>24/03/2019</td>\n",
       "      <td>Banglore</td>\n",
       "      <td>New Delhi</td>\n",
       "      <td>BLR → DEL</td>\n",
       "      <td>22:20</td>\n",
       "      <td>01:10 22 Mar</td>\n",
       "      <td>2h 50m</td>\n",
       "      <td>non-stop</td>\n",
       "      <td>No info</td>\n",
       "      <td>3897.0</td>\n",
       "    </tr>\n",
       "    <tr>\n",
       "      <th>1</th>\n",
       "      <td>Air India</td>\n",
       "      <td>1/05/2019</td>\n",
       "      <td>Kolkata</td>\n",
       "      <td>Banglore</td>\n",
       "      <td>CCU → IXR → BBI → BLR</td>\n",
       "      <td>05:50</td>\n",
       "      <td>13:15</td>\n",
       "      <td>7h 25m</td>\n",
       "      <td>2 stops</td>\n",
       "      <td>No info</td>\n",
       "      <td>7662.0</td>\n",
       "    </tr>\n",
       "    <tr>\n",
       "      <th>2</th>\n",
       "      <td>Jet Airways</td>\n",
       "      <td>9/06/2019</td>\n",
       "      <td>Delhi</td>\n",
       "      <td>Cochin</td>\n",
       "      <td>DEL → LKO → BOM → COK</td>\n",
       "      <td>09:25</td>\n",
       "      <td>04:25 10 Jun</td>\n",
       "      <td>19h</td>\n",
       "      <td>2 stops</td>\n",
       "      <td>No info</td>\n",
       "      <td>13882.0</td>\n",
       "    </tr>\n",
       "    <tr>\n",
       "      <th>3</th>\n",
       "      <td>IndiGo</td>\n",
       "      <td>12/05/2019</td>\n",
       "      <td>Kolkata</td>\n",
       "      <td>Banglore</td>\n",
       "      <td>CCU → NAG → BLR</td>\n",
       "      <td>18:05</td>\n",
       "      <td>23:30</td>\n",
       "      <td>5h 25m</td>\n",
       "      <td>1 stop</td>\n",
       "      <td>No info</td>\n",
       "      <td>6218.0</td>\n",
       "    </tr>\n",
       "    <tr>\n",
       "      <th>4</th>\n",
       "      <td>IndiGo</td>\n",
       "      <td>01/03/2019</td>\n",
       "      <td>Banglore</td>\n",
       "      <td>New Delhi</td>\n",
       "      <td>BLR → NAG → DEL</td>\n",
       "      <td>16:50</td>\n",
       "      <td>21:35</td>\n",
       "      <td>4h 45m</td>\n",
       "      <td>1 stop</td>\n",
       "      <td>No info</td>\n",
       "      <td>13302.0</td>\n",
       "    </tr>\n",
       "  </tbody>\n",
       "</table>\n",
       "</div>"
      ],
      "text/plain": [
       "       airline date_of_journey    source destination                  route  \\\n",
       "0       IndiGo      24/03/2019  Banglore   New Delhi              BLR → DEL   \n",
       "1    Air India       1/05/2019   Kolkata    Banglore  CCU → IXR → BBI → BLR   \n",
       "2  Jet Airways       9/06/2019     Delhi      Cochin  DEL → LKO → BOM → COK   \n",
       "3       IndiGo      12/05/2019   Kolkata    Banglore        CCU → NAG → BLR   \n",
       "4       IndiGo      01/03/2019  Banglore   New Delhi        BLR → NAG → DEL   \n",
       "\n",
       "  dep_time  arrival_time duration total_stops additional_info    price  \n",
       "0    22:20  01:10 22 Mar   2h 50m    non-stop         No info   3897.0  \n",
       "1    05:50         13:15   7h 25m     2 stops         No info   7662.0  \n",
       "2    09:25  04:25 10 Jun      19h     2 stops         No info  13882.0  \n",
       "3    18:05         23:30   5h 25m      1 stop         No info   6218.0  \n",
       "4    16:50         21:35   4h 45m      1 stop         No info  13302.0  "
      ]
     },
     "execution_count": 25,
     "metadata": {},
     "output_type": "execute_result"
    }
   ],
   "source": [
    "final_df.head()"
   ]
  },
  {
   "cell_type": "markdown",
   "id": "6688d54b",
   "metadata": {},
   "source": [
    "### Q. 1.Top 10 Aviation Companies whose flight tickets are sold the most ?"
   ]
  },
  {
   "cell_type": "code",
   "execution_count": 33,
   "id": "27b79932",
   "metadata": {},
   "outputs": [
    {
     "data": {
      "text/plain": [
       "Jet Airways                          4746\n",
       "IndiGo                               2564\n",
       "Air India                            2192\n",
       "Multiple carriers                    1543\n",
       "SpiceJet                             1026\n",
       "Vistara                               608\n",
       "Air Asia                              405\n",
       "GoAir                                 240\n",
       "Multiple carriers Premium economy      16\n",
       "Jet Airways Business                    8\n",
       "Name: airline, dtype: int64"
      ]
     },
     "execution_count": 33,
     "metadata": {},
     "output_type": "execute_result"
    }
   ],
   "source": [
    "final_df[\"airline\"].value_counts()[0:10]"
   ]
  },
  {
   "cell_type": "code",
   "execution_count": 50,
   "id": "88284112",
   "metadata": {},
   "outputs": [
    {
     "data": {
      "image/png": "[encoded data removed]",
      "text/plain": [
       "<Figure size 2520x1224 with 1 Axes>"
      ]
     },
     "metadata": {
      "needs_background": "light"
     },
     "output_type": "display_data"
    }
   ],
   "source": [
    "plt.figure(figsize=(35,17))\n",
    "ax=sns.countplot(x='airline',data=final_df)\n",
    "plt.ylabel(\"Count\", weight=\"bold\", fontsize=20)\n",
    "plt.xlabel(\"Airline Name\", weight=\"bold\", fontsize=20)\n",
    "plt.title(\"Top 10 Aviation Companies whose flight tickets are sold the most\", weight=\"bold\",fontsize=30,pad=20)\n",
    "\n",
    "for p, label in zip(ax.patches, final_df[\"airline\"].value_counts().values):\n",
    "    ax.annotate(label, (p.get_x()+0.375, p.get_height()+0.90))"
   ]
  },
  {
   "cell_type": "markdown",
   "id": "21494f5c",
   "metadata": {},
   "source": [
    "### Observation:\n",
    "- Of the total flight tickets sold Jet Airways has the highest share followed by Indigo.   "
   ]
  },
  {
   "cell_type": "code",
   "execution_count": 51,
   "id": "0890a779",
   "metadata": {},
   "outputs": [
    {
     "ename": "NameError",
     "evalue": "name 'Nan' is not defined",
     "output_type": "error",
     "traceback": [
      "\u001b[0;31m---------------------------------------------------------------------------\u001b[0m",
      "\u001b[0;31mNameError\u001b[0m                                 Traceback (most recent call last)",
      "\u001b[0;32m<ipython-input-51-25c2ad09760c>\u001b[0m in \u001b[0;36m<module>\u001b[0;34m\u001b[0m\n\u001b[0;32m----> 1\u001b[0;31m \u001b[0mfinal_df\u001b[0m\u001b[0;34m[\u001b[0m\u001b[0mfinal_df\u001b[0m\u001b[0;34m.\u001b[0m\u001b[0mprice\u001b[0m\u001b[0;34m.\u001b[0m\u001b[0misin\u001b[0m\u001b[0;34m(\u001b[0m\u001b[0;34m[\u001b[0m\u001b[0mNan\u001b[0m\u001b[0;34m]\u001b[0m\u001b[0;34m)\u001b[0m\u001b[0;34m]\u001b[0m\u001b[0;34m.\u001b[0m\u001b[0mprice\u001b[0m\u001b[0;34m.\u001b[0m\u001b[0mvalue_counts\u001b[0m\u001b[0;34m(\u001b[0m\u001b[0;34m)\u001b[0m\u001b[0;34m\u001b[0m\u001b[0;34m\u001b[0m\u001b[0m\n\u001b[0m",
      "\u001b[0;31mNameError\u001b[0m: name 'Nan' is not defined"
     ]
    }
   ],
   "source": [
    "final_df[final_df.price.isin([Nan])].price.value_counts()"
   ]
  },
  {
   "cell_type": "code",
   "execution_count": 54,
   "id": "baae7779",
   "metadata": {},
   "outputs": [
    {
     "data": {
      "text/plain": [
       "2671"
      ]
     },
     "execution_count": 54,
     "metadata": {},
     "output_type": "execute_result"
    }
   ],
   "source": [
    "# To check how many null values are there\n",
    "final_df['price'].isnull().sum()"
   ]
  },
  {
   "cell_type": "code",
   "execution_count": 55,
   "id": "69f83f13",
   "metadata": {},
   "outputs": [
    {
     "data": {
      "text/html": [
       "<div>\n",
       "<style scoped>\n",
       "    .dataframe tbody tr th:only-of-type {\n",
       "        vertical-align: middle;\n",
       "    }\n",
       "\n",
       "    .dataframe tbody tr th {\n",
       "        vertical-align: top;\n",
       "    }\n",
       "\n",
       "    .dataframe thead th {\n",
       "        text-align: right;\n",
       "    }\n",
       "</style>\n",
       "<table border=\"1\" class=\"dataframe\">\n",
       "  <thead>\n",
       "    <tr style=\"text-align: right;\">\n",
       "      <th></th>\n",
       "      <th>airline</th>\n",
       "      <th>date_of_journey</th>\n",
       "      <th>source</th>\n",
       "      <th>destination</th>\n",
       "      <th>route</th>\n",
       "      <th>dep_time</th>\n",
       "      <th>arrival_time</th>\n",
       "      <th>duration</th>\n",
       "      <th>total_stops</th>\n",
       "      <th>additional_info</th>\n",
       "      <th>price</th>\n",
       "    </tr>\n",
       "  </thead>\n",
       "  <tbody>\n",
       "    <tr>\n",
       "      <th>10683</th>\n",
       "      <td>Jet Airways</td>\n",
       "      <td>6/06/2019</td>\n",
       "      <td>Delhi</td>\n",
       "      <td>Cochin</td>\n",
       "      <td>DEL → BOM → COK</td>\n",
       "      <td>17:30</td>\n",
       "      <td>04:25 07 Jun</td>\n",
       "      <td>10h 55m</td>\n",
       "      <td>1 stop</td>\n",
       "      <td>No info</td>\n",
       "      <td>NaN</td>\n",
       "    </tr>\n",
       "    <tr>\n",
       "      <th>10684</th>\n",
       "      <td>IndiGo</td>\n",
       "      <td>12/05/2019</td>\n",
       "      <td>Kolkata</td>\n",
       "      <td>Banglore</td>\n",
       "      <td>CCU → MAA → BLR</td>\n",
       "      <td>06:20</td>\n",
       "      <td>10:20</td>\n",
       "      <td>4h</td>\n",
       "      <td>1 stop</td>\n",
       "      <td>No info</td>\n",
       "      <td>NaN</td>\n",
       "    </tr>\n",
       "    <tr>\n",
       "      <th>10685</th>\n",
       "      <td>Jet Airways</td>\n",
       "      <td>21/05/2019</td>\n",
       "      <td>Delhi</td>\n",
       "      <td>Cochin</td>\n",
       "      <td>DEL → BOM → COK</td>\n",
       "      <td>19:15</td>\n",
       "      <td>19:00 22 May</td>\n",
       "      <td>23h 45m</td>\n",
       "      <td>1 stop</td>\n",
       "      <td>In-flight meal not included</td>\n",
       "      <td>NaN</td>\n",
       "    </tr>\n",
       "    <tr>\n",
       "      <th>10686</th>\n",
       "      <td>Multiple carriers</td>\n",
       "      <td>21/05/2019</td>\n",
       "      <td>Delhi</td>\n",
       "      <td>Cochin</td>\n",
       "      <td>DEL → BOM → COK</td>\n",
       "      <td>08:00</td>\n",
       "      <td>21:00</td>\n",
       "      <td>13h</td>\n",
       "      <td>1 stop</td>\n",
       "      <td>No info</td>\n",
       "      <td>NaN</td>\n",
       "    </tr>\n",
       "    <tr>\n",
       "      <th>10687</th>\n",
       "      <td>Air Asia</td>\n",
       "      <td>24/06/2019</td>\n",
       "      <td>Banglore</td>\n",
       "      <td>Delhi</td>\n",
       "      <td>BLR → DEL</td>\n",
       "      <td>23:55</td>\n",
       "      <td>02:45 25 Jun</td>\n",
       "      <td>2h 50m</td>\n",
       "      <td>non-stop</td>\n",
       "      <td>No info</td>\n",
       "      <td>NaN</td>\n",
       "    </tr>\n",
       "    <tr>\n",
       "      <th>...</th>\n",
       "      <td>...</td>\n",
       "      <td>...</td>\n",
       "      <td>...</td>\n",
       "      <td>...</td>\n",
       "      <td>...</td>\n",
       "      <td>...</td>\n",
       "      <td>...</td>\n",
       "      <td>...</td>\n",
       "      <td>...</td>\n",
       "      <td>...</td>\n",
       "      <td>...</td>\n",
       "    </tr>\n",
       "    <tr>\n",
       "      <th>13349</th>\n",
       "      <td>Air India</td>\n",
       "      <td>6/06/2019</td>\n",
       "      <td>Kolkata</td>\n",
       "      <td>Banglore</td>\n",
       "      <td>CCU → DEL → BLR</td>\n",
       "      <td>20:30</td>\n",
       "      <td>20:25 07 Jun</td>\n",
       "      <td>23h 55m</td>\n",
       "      <td>1 stop</td>\n",
       "      <td>No info</td>\n",
       "      <td>NaN</td>\n",
       "    </tr>\n",
       "    <tr>\n",
       "      <th>13350</th>\n",
       "      <td>IndiGo</td>\n",
       "      <td>27/03/2019</td>\n",
       "      <td>Kolkata</td>\n",
       "      <td>Banglore</td>\n",
       "      <td>CCU → BLR</td>\n",
       "      <td>14:20</td>\n",
       "      <td>16:55</td>\n",
       "      <td>2h 35m</td>\n",
       "      <td>non-stop</td>\n",
       "      <td>No info</td>\n",
       "      <td>NaN</td>\n",
       "    </tr>\n",
       "    <tr>\n",
       "      <th>13351</th>\n",
       "      <td>Jet Airways</td>\n",
       "      <td>6/03/2019</td>\n",
       "      <td>Delhi</td>\n",
       "      <td>Cochin</td>\n",
       "      <td>DEL → BOM → COK</td>\n",
       "      <td>21:50</td>\n",
       "      <td>04:25 07 Mar</td>\n",
       "      <td>6h 35m</td>\n",
       "      <td>1 stop</td>\n",
       "      <td>No info</td>\n",
       "      <td>NaN</td>\n",
       "    </tr>\n",
       "    <tr>\n",
       "      <th>13352</th>\n",
       "      <td>Air India</td>\n",
       "      <td>6/03/2019</td>\n",
       "      <td>Delhi</td>\n",
       "      <td>Cochin</td>\n",
       "      <td>DEL → BOM → COK</td>\n",
       "      <td>04:00</td>\n",
       "      <td>19:15</td>\n",
       "      <td>15h 15m</td>\n",
       "      <td>1 stop</td>\n",
       "      <td>No info</td>\n",
       "      <td>NaN</td>\n",
       "    </tr>\n",
       "    <tr>\n",
       "      <th>13353</th>\n",
       "      <td>Multiple carriers</td>\n",
       "      <td>15/06/2019</td>\n",
       "      <td>Delhi</td>\n",
       "      <td>Cochin</td>\n",
       "      <td>DEL → BOM → COK</td>\n",
       "      <td>04:55</td>\n",
       "      <td>19:15</td>\n",
       "      <td>14h 20m</td>\n",
       "      <td>1 stop</td>\n",
       "      <td>No info</td>\n",
       "      <td>NaN</td>\n",
       "    </tr>\n",
       "  </tbody>\n",
       "</table>\n",
       "<p>2671 rows × 11 columns</p>\n",
       "</div>"
      ],
      "text/plain": [
       "                 airline date_of_journey    source destination  \\\n",
       "10683        Jet Airways       6/06/2019     Delhi      Cochin   \n",
       "10684             IndiGo      12/05/2019   Kolkata    Banglore   \n",
       "10685        Jet Airways      21/05/2019     Delhi      Cochin   \n",
       "10686  Multiple carriers      21/05/2019     Delhi      Cochin   \n",
       "10687           Air Asia      24/06/2019  Banglore       Delhi   \n",
       "...                  ...             ...       ...         ...   \n",
       "13349          Air India       6/06/2019   Kolkata    Banglore   \n",
       "13350             IndiGo      27/03/2019   Kolkata    Banglore   \n",
       "13351        Jet Airways       6/03/2019     Delhi      Cochin   \n",
       "13352          Air India       6/03/2019     Delhi      Cochin   \n",
       "13353  Multiple carriers      15/06/2019     Delhi      Cochin   \n",
       "\n",
       "                 route dep_time  arrival_time duration total_stops  \\\n",
       "10683  DEL → BOM → COK    17:30  04:25 07 Jun  10h 55m      1 stop   \n",
       "10684  CCU → MAA → BLR    06:20         10:20       4h      1 stop   \n",
       "10685  DEL → BOM → COK    19:15  19:00 22 May  23h 45m      1 stop   \n",
       "10686  DEL → BOM → COK    08:00         21:00      13h      1 stop   \n",
       "10687        BLR → DEL    23:55  02:45 25 Jun   2h 50m    non-stop   \n",
       "...                ...      ...           ...      ...         ...   \n",
       "13349  CCU → DEL → BLR    20:30  20:25 07 Jun  23h 55m      1 stop   \n",
       "13350        CCU → BLR    14:20         16:55   2h 35m    non-stop   \n",
       "13351  DEL → BOM → COK    21:50  04:25 07 Mar   6h 35m      1 stop   \n",
       "13352  DEL → BOM → COK    04:00         19:15  15h 15m      1 stop   \n",
       "13353  DEL → BOM → COK    04:55         19:15  14h 20m      1 stop   \n",
       "\n",
       "                   additional_info  price  \n",
       "10683                      No info    NaN  \n",
       "10684                      No info    NaN  \n",
       "10685  In-flight meal not included    NaN  \n",
       "10686                      No info    NaN  \n",
       "10687                      No info    NaN  \n",
       "...                            ...    ...  \n",
       "13349                      No info    NaN  \n",
       "13350                      No info    NaN  \n",
       "13351                      No info    NaN  \n",
       "13352                      No info    NaN  \n",
       "13353                      No info    NaN  \n",
       "\n",
       "[2671 rows x 11 columns]"
      ]
     },
     "execution_count": 55,
     "metadata": {},
     "output_type": "execute_result"
    }
   ],
   "source": [
    "# To check which records are null\n",
    "final_df[final_df['price'].isnull()]"
   ]
  },
  {
   "cell_type": "code",
   "execution_count": 63,
   "id": "90e24cea",
   "metadata": {},
   "outputs": [
    {
     "data": {
      "text/plain": [
       "array([], dtype=int64)"
      ]
     },
     "execution_count": 63,
     "metadata": {},
     "output_type": "execute_result"
    }
   ],
   "source": [
    "final_df[final_df.price.isin(['NaN'])].airline.value_counts().values[0:12]"
   ]
  },
  {
   "cell_type": "code",
   "execution_count": 68,
   "id": "89ac3385",
   "metadata": {},
   "outputs": [
    {
     "data": {
      "text/plain": [
       "Jet Airways                          897\n",
       "IndiGo                               511\n",
       "Air India                            440\n",
       "Multiple carriers                    347\n",
       "SpiceJet                             208\n",
       "Vistara                              129\n",
       "Air Asia                              86\n",
       "GoAir                                 46\n",
       "Multiple carriers Premium economy      3\n",
       "Vistara Premium economy                2\n",
       "Jet Airways Business                   2\n",
       "Name: airline, dtype: int64"
      ]
     },
     "execution_count": 68,
     "metadata": {},
     "output_type": "execute_result"
    }
   ],
   "source": [
    "## number of null prices for airlines\n",
    "final_df[final_df.price.isnull()].airline.value_counts()"
   ]
  },
  {
   "cell_type": "code",
   "execution_count": 118,
   "id": "bf73daac",
   "metadata": {},
   "outputs": [],
   "source": [
    "## number of null prices for airlines, source and destination\n",
    "null_values_df = final_df[final_df.price.isnull()][['airline','source','destination','total_stops']].value_counts().to_frame().reset_index()\n",
    "null_values_df.rename(columns={0:'null_values'}, inplace = True)"
   ]
  },
  {
   "cell_type": "code",
   "execution_count": 121,
   "id": "796d1ee8",
   "metadata": {},
   "outputs": [],
   "source": [
    "null_values_df.sort_values(by=['airline'], inplace= True)"
   ]
  },
  {
   "cell_type": "code",
   "execution_count": 122,
   "id": "009dfe2c",
   "metadata": {},
   "outputs": [],
   "source": [
    "not_null_values_df = final_df[final_df.price.notnull()][['airline','source','destination','total_stops']].value_counts().to_frame().reset_index()\n",
    "not_null_values_df.rename(columns={0:'not_null_values'}, inplace = True)"
   ]
  },
  {
   "cell_type": "code",
   "execution_count": 124,
   "id": "16afc5e6",
   "metadata": {},
   "outputs": [
    {
     "data": {
      "text/plain": [
       "(72, 5)"
      ]
     },
     "execution_count": 124,
     "metadata": {},
     "output_type": "execute_result"
    }
   ],
   "source": [
    "null_values_df.shape"
   ]
  },
  {
   "cell_type": "code",
   "execution_count": 125,
   "id": "babd7873",
   "metadata": {},
   "outputs": [
    {
     "data": {
      "text/plain": [
       "(81, 5)"
      ]
     },
     "execution_count": 125,
     "metadata": {},
     "output_type": "execute_result"
    }
   ],
   "source": [
    "not_null_values_df.shape"
   ]
  },
  {
   "cell_type": "code",
   "execution_count": 126,
   "id": "be60e15c",
   "metadata": {},
   "outputs": [
    {
     "data": {
      "text/html": [
       "<div>\n",
       "<style scoped>\n",
       "    .dataframe tbody tr th:only-of-type {\n",
       "        vertical-align: middle;\n",
       "    }\n",
       "\n",
       "    .dataframe tbody tr th {\n",
       "        vertical-align: top;\n",
       "    }\n",
       "\n",
       "    .dataframe thead th {\n",
       "        text-align: right;\n",
       "    }\n",
       "</style>\n",
       "<table border=\"1\" class=\"dataframe\">\n",
       "  <thead>\n",
       "    <tr style=\"text-align: right;\">\n",
       "      <th></th>\n",
       "      <th>airline</th>\n",
       "      <th>source</th>\n",
       "      <th>destination</th>\n",
       "      <th>total_stops</th>\n",
       "      <th>not_null_values</th>\n",
       "      <th>null_values</th>\n",
       "    </tr>\n",
       "  </thead>\n",
       "  <tbody>\n",
       "    <tr>\n",
       "      <th>0</th>\n",
       "      <td>Jet Airways</td>\n",
       "      <td>Kolkata</td>\n",
       "      <td>Banglore</td>\n",
       "      <td>1 stop</td>\n",
       "      <td>1252.0</td>\n",
       "      <td>304.0</td>\n",
       "    </tr>\n",
       "    <tr>\n",
       "      <th>1</th>\n",
       "      <td>Multiple carriers</td>\n",
       "      <td>Delhi</td>\n",
       "      <td>Cochin</td>\n",
       "      <td>1 stop</td>\n",
       "      <td>1145.0</td>\n",
       "      <td>338.0</td>\n",
       "    </tr>\n",
       "    <tr>\n",
       "      <th>2</th>\n",
       "      <td>Jet Airways</td>\n",
       "      <td>Delhi</td>\n",
       "      <td>Cochin</td>\n",
       "      <td>1 stop</td>\n",
       "      <td>875.0</td>\n",
       "      <td>190.0</td>\n",
       "    </tr>\n",
       "    <tr>\n",
       "      <th>3</th>\n",
       "      <td>Jet Airways</td>\n",
       "      <td>Delhi</td>\n",
       "      <td>Cochin</td>\n",
       "      <td>2 stops</td>\n",
       "      <td>677.0</td>\n",
       "      <td>151.0</td>\n",
       "    </tr>\n",
       "    <tr>\n",
       "      <th>4</th>\n",
       "      <td>IndiGo</td>\n",
       "      <td>Delhi</td>\n",
       "      <td>Cochin</td>\n",
       "      <td>1 stop</td>\n",
       "      <td>628.0</td>\n",
       "      <td>172.0</td>\n",
       "    </tr>\n",
       "    <tr>\n",
       "      <th>...</th>\n",
       "      <td>...</td>\n",
       "      <td>...</td>\n",
       "      <td>...</td>\n",
       "      <td>...</td>\n",
       "      <td>...</td>\n",
       "      <td>...</td>\n",
       "    </tr>\n",
       "    <tr>\n",
       "      <th>77</th>\n",
       "      <td>IndiGo</td>\n",
       "      <td>Mumbai</td>\n",
       "      <td>Hyderabad</td>\n",
       "      <td>1 stop</td>\n",
       "      <td>1.0</td>\n",
       "      <td>1.0</td>\n",
       "    </tr>\n",
       "    <tr>\n",
       "      <th>78</th>\n",
       "      <td>SpiceJet</td>\n",
       "      <td>Mumbai</td>\n",
       "      <td>Hyderabad</td>\n",
       "      <td>1 stop</td>\n",
       "      <td>1.0</td>\n",
       "      <td>NaN</td>\n",
       "    </tr>\n",
       "    <tr>\n",
       "      <th>79</th>\n",
       "      <td>Air India</td>\n",
       "      <td>Banglore</td>\n",
       "      <td>New Delhi</td>\n",
       "      <td>4 stops</td>\n",
       "      <td>1.0</td>\n",
       "      <td>1.0</td>\n",
       "    </tr>\n",
       "    <tr>\n",
       "      <th>80</th>\n",
       "      <td>Vistara Premium economy</td>\n",
       "      <td>Chennai</td>\n",
       "      <td>Kolkata</td>\n",
       "      <td>non-stop</td>\n",
       "      <td>1.0</td>\n",
       "      <td>NaN</td>\n",
       "    </tr>\n",
       "    <tr>\n",
       "      <th>81</th>\n",
       "      <td>Jet Airways Business</td>\n",
       "      <td>Banglore</td>\n",
       "      <td>New Delhi</td>\n",
       "      <td>non-stop</td>\n",
       "      <td>NaN</td>\n",
       "      <td>1.0</td>\n",
       "    </tr>\n",
       "  </tbody>\n",
       "</table>\n",
       "<p>82 rows × 6 columns</p>\n",
       "</div>"
      ],
      "text/plain": [
       "                    airline    source destination total_stops  \\\n",
       "0               Jet Airways   Kolkata    Banglore      1 stop   \n",
       "1         Multiple carriers     Delhi      Cochin      1 stop   \n",
       "2               Jet Airways     Delhi      Cochin      1 stop   \n",
       "3               Jet Airways     Delhi      Cochin     2 stops   \n",
       "4                    IndiGo     Delhi      Cochin      1 stop   \n",
       "..                      ...       ...         ...         ...   \n",
       "77                   IndiGo    Mumbai   Hyderabad      1 stop   \n",
       "78                 SpiceJet    Mumbai   Hyderabad      1 stop   \n",
       "79                Air India  Banglore   New Delhi     4 stops   \n",
       "80  Vistara Premium economy   Chennai     Kolkata    non-stop   \n",
       "81     Jet Airways Business  Banglore   New Delhi    non-stop   \n",
       "\n",
       "    not_null_values  null_values  \n",
       "0            1252.0        304.0  \n",
       "1            1145.0        338.0  \n",
       "2             875.0        190.0  \n",
       "3             677.0        151.0  \n",
       "4             628.0        172.0  \n",
       "..              ...          ...  \n",
       "77              1.0          1.0  \n",
       "78              1.0          NaN  \n",
       "79              1.0          1.0  \n",
       "80              1.0          NaN  \n",
       "81              NaN          1.0  \n",
       "\n",
       "[82 rows x 6 columns]"
      ]
     },
     "execution_count": 126,
     "metadata": {},
     "output_type": "execute_result"
    }
   ],
   "source": [
    "factors=['airline','source','destination','total_stops']\n",
    "pd.merge(not_null_values_df,null_values_df,on=factors, how='outer')"
   ]
  },
  {
   "cell_type": "code",
   "execution_count": 116,
   "id": "019c3ef4",
   "metadata": {},
   "outputs": [
    {
     "data": {
      "text/plain": [
       "Index(['airline', 'source', 'destination', 'total_stops', 'not_null_values'], dtype='object')"
      ]
     },
     "execution_count": 116,
     "metadata": {},
     "output_type": "execute_result"
    }
   ],
   "source": [
    "not_null_values_df.columns"
   ]
  },
  {
   "cell_type": "code",
   "execution_count": 117,
   "id": "0b8efa24",
   "metadata": {},
   "outputs": [
    {
     "data": {
      "text/plain": [
       "Index(['airline', 'source', 'destination', 'total_stops', 'not_null_values'], dtype='object')"
      ]
     },
     "execution_count": 117,
     "metadata": {},
     "output_type": "execute_result"
    }
   ],
   "source": [
    "null_values_df.columns"
   ]
  },
  {
   "cell_type": "code",
   "execution_count": null,
   "id": "41d25ecc",
   "metadata": {},
   "outputs": [],
   "source": []
  }
 ],
 "metadata": {
  "kernelspec": {
   "display_name": "Python 3",
   "language": "python",
   "name": "python3"
  },
  "language_info": {
   "codemirror_mode": {
    "name": "ipython",
    "version": 3
   },
   "file_extension": ".py",
   "mimetype": "text/x-python",
   "name": "python",
   "nbconvert_exporter": "python",
   "pygments_lexer": "ipython3",
   "version": "3.8.8"
  }
 },
 "nbformat": 4,
 "nbformat_minor": 5
}
