{
 "cells": [
  {
   "cell_type": "markdown",
   "id": "20fbe9de",
   "metadata": {},
   "source": [
    "### Project Name: Flight Prediction Analysis"
   ]
  },
  {
   "cell_type": "markdown",
   "id": "f627fcb9",
   "metadata": {},
   "source": [
    "### Project Objective:\n",
    "- The number of people who fly has dramatically increased in recent years. Pricing alters dynamically owing to many variables, making it difficult for airlines to maintain prices. As a result, we will attempt to solve this problem by cleaning, preparing and analysing the flight price.\n",
    "- Hence, the goal of this project is to clean, prepare and analyse the flight price dataset taken from Kaggle.\n",
    "- Basically dataset have price based on information such as airline,date_of_journey,flight route information including number of stops and duration of flight.\n",
    "- So that we can use this dataset to analyse the flight journey price based on a variety of variables as mentioned above. \n",
    "\n",
    "\n",
    "### Analysis Involve Phases:\n",
    "1. Data collection\n",
    "2. Data Understanding\n",
    "3. Data Cleaning and Preparation \n",
    "4. Data Analyse"
   ]
  },
  {
   "cell_type": "code",
   "execution_count": 2,
   "id": "e4c9f9d6",
   "metadata": {},
   "outputs": [],
   "source": [
    "# importing Basic libraries\n",
    "import pandas as pd\n",
    "import numpy as np\n",
    "import matplotlib.pyplot as plt\n",
    "import seaborn as sns\n",
    "%matplotlib inline"
   ]
  },
  {
   "cell_type": "markdown",
   "id": "fd0a07ab",
   "metadata": {},
   "source": [
    "### Data Collection/Reading"
   ]
  },
  {
   "cell_type": "code",
   "execution_count": 3,
   "id": "94586864",
   "metadata": {},
   "outputs": [],
   "source": [
    "final_df = pd.read_csv(\"flight_prediction.csv\")"
   ]
  },
  {
   "cell_type": "markdown",
   "id": "1f1fb523",
   "metadata": {},
   "source": [
    "### Data Understanding"
   ]
  },
  {
   "cell_type": "code",
   "execution_count": 4,
   "id": "d02efc5d",
   "metadata": {},
   "outputs": [
    {
     "data": {
      "text/plain": [
       "Index(['Airline', 'Date_of_Journey', 'Source', 'Destination', 'Route',\n",
       "       'Dep_Time', 'Arrival_Time', 'Duration', 'Total_Stops',\n",
       "       'Additional_Info', 'Price'],\n",
       "      dtype='object')"
      ]
     },
     "execution_count": 4,
     "metadata": {},
     "output_type": "execute_result"
    }
   ],
   "source": [
    "final_df.columns"
   ]
  },
  {
   "cell_type": "code",
   "execution_count": 5,
   "id": "c4737d59",
   "metadata": {},
   "outputs": [],
   "source": [
    "final_df = final_df.rename(columns={'Airline':'airline', \n",
    "                         'Date_of_Journey': 'date_of_journey', \n",
    "                         'Source': 'source', \n",
    "                         'Destination': 'destination', \n",
    "                         'Route': 'route',\n",
    "                         'Dep_Time': 'dep_time', \n",
    "                         'Arrival_Time': 'arrival_time', \n",
    "                         'Duration':'duration', \n",
    "                         'Total_Stops': 'total_stops', \n",
    "                         'Additional_Info': 'additional_info',\n",
    "                         'Price': 'price' \n",
    "                         })"
   ]
  },
  {
   "cell_type": "code",
   "execution_count": 16,
   "id": "e336a060",
   "metadata": {},
   "outputs": [
    {
     "name": "stdout",
     "output_type": "stream",
     "text": [
      "<class 'pandas.core.frame.DataFrame'>\n",
      "RangeIndex: 13354 entries, 0 to 13353\n",
      "Data columns (total 11 columns):\n",
      " #   Column           Non-Null Count  Dtype  \n",
      "---  ------           --------------  -----  \n",
      " 0   airline          13354 non-null  object \n",
      " 1   date_of_journey  13354 non-null  object \n",
      " 2   source           13354 non-null  object \n",
      " 3   destination      13354 non-null  object \n",
      " 4   route            13353 non-null  object \n",
      " 5   dep_time         13354 non-null  object \n",
      " 6   arrival_time     13354 non-null  object \n",
      " 7   duration         13354 non-null  object \n",
      " 8   total_stops      13353 non-null  object \n",
      " 9   additional_info  13354 non-null  object \n",
      " 10  price            10683 non-null  float64\n",
      "dtypes: float64(1), object(10)\n",
      "memory usage: 1.1+ MB\n"
     ]
    }
   ],
   "source": [
    "final_df.info()"
   ]
  },
  {
   "cell_type": "code",
   "execution_count": 8,
   "id": "105d4e8c",
   "metadata": {},
   "outputs": [
    {
     "data": {
      "text/plain": [
       "(13354, 11)"
      ]
     },
     "execution_count": 8,
     "metadata": {},
     "output_type": "execute_result"
    }
   ],
   "source": [
    "final_df.shape"
   ]
  },
  {
   "cell_type": "markdown",
   "id": "a5daeba9",
   "metadata": {},
   "source": [
    "### Observations:\n",
    "- Number of variables = 11\n",
    "- Number of rows = 13354\n",
    "- Number of categorical type of feature = 10\n",
    "- Number of numerical type of feature = 1"
   ]
  },
  {
   "cell_type": "code",
   "execution_count": 18,
   "id": "04bacf0b",
   "metadata": {},
   "outputs": [
    {
     "data": {
      "text/plain": [
       "airline               0\n",
       "date_of_journey       0\n",
       "source                0\n",
       "destination           0\n",
       "route                 1\n",
       "dep_time              0\n",
       "arrival_time          0\n",
       "duration              0\n",
       "total_stops           1\n",
       "additional_info       0\n",
       "price              2671\n",
       "dtype: int64"
      ]
     },
     "execution_count": 18,
     "metadata": {},
     "output_type": "execute_result"
    }
   ],
   "source": [
    "final_df.isnull().sum()"
   ]
  },
  {
   "cell_type": "code",
   "execution_count": 26,
   "id": "0619c5ac",
   "metadata": {},
   "outputs": [
    {
     "data": {
      "text/plain": [
       "12"
      ]
     },
     "execution_count": 26,
     "metadata": {},
     "output_type": "execute_result"
    }
   ],
   "source": [
    "final_df.airline.unique()"
   ]
  },
  {
   "cell_type": "code",
   "execution_count": null,
   "id": "358f46cf",
   "metadata": {},
   "outputs": [],
   "source": []
  },
  {
   "cell_type": "markdown",
   "id": "d276b9ba",
   "metadata": {},
   "source": [
    "### Observation:\n",
    "  - 1. airline:\n",
    "  - Depicts airline name for each customer.\n",
    "  - There are total 12 unique airline names in the dataset.\n",
    "  - It is of Object datatype.\n",
    "  \n",
    "  - 2.date_of_journey\n",
    "  - It is of date \n",
    "  "
   ]
  },
  {
   "cell_type": "code",
   "execution_count": 27,
   "id": "990c8c5d",
   "metadata": {},
   "outputs": [
    {
     "data": {
      "text/html": [
       "<div>\n",
       "<style scoped>\n",
       "    .dataframe tbody tr th:only-of-type {\n",
       "        vertical-align: middle;\n",
       "    }\n",
       "\n",
       "    .dataframe tbody tr th {\n",
       "        vertical-align: top;\n",
       "    }\n",
       "\n",
       "    .dataframe thead th {\n",
       "        text-align: right;\n",
       "    }\n",
       "</style>\n",
       "<table border=\"1\" class=\"dataframe\">\n",
       "  <thead>\n",
       "    <tr style=\"text-align: right;\">\n",
       "      <th></th>\n",
       "      <th>airline</th>\n",
       "      <th>date_of_journey</th>\n",
       "      <th>source</th>\n",
       "      <th>destination</th>\n",
       "      <th>route</th>\n",
       "      <th>dep_time</th>\n",
       "      <th>arrival_time</th>\n",
       "      <th>duration</th>\n",
       "      <th>total_stops</th>\n",
       "      <th>additional_info</th>\n",
       "      <th>price</th>\n",
       "    </tr>\n",
       "  </thead>\n",
       "  <tbody>\n",
       "    <tr>\n",
       "      <th>0</th>\n",
       "      <td>IndiGo</td>\n",
       "      <td>24/03/2019</td>\n",
       "      <td>Banglore</td>\n",
       "      <td>New Delhi</td>\n",
       "      <td>BLR → DEL</td>\n",
       "      <td>22:20</td>\n",
       "      <td>01:10 22 Mar</td>\n",
       "      <td>2h 50m</td>\n",
       "      <td>non-stop</td>\n",
       "      <td>No info</td>\n",
       "      <td>3897.0</td>\n",
       "    </tr>\n",
       "    <tr>\n",
       "      <th>1</th>\n",
       "      <td>Air India</td>\n",
       "      <td>1/05/2019</td>\n",
       "      <td>Kolkata</td>\n",
       "      <td>Banglore</td>\n",
       "      <td>CCU → IXR → BBI → BLR</td>\n",
       "      <td>05:50</td>\n",
       "      <td>13:15</td>\n",
       "      <td>7h 25m</td>\n",
       "      <td>2 stops</td>\n",
       "      <td>No info</td>\n",
       "      <td>7662.0</td>\n",
       "    </tr>\n",
       "    <tr>\n",
       "      <th>2</th>\n",
       "      <td>Jet Airways</td>\n",
       "      <td>9/06/2019</td>\n",
       "      <td>Delhi</td>\n",
       "      <td>Cochin</td>\n",
       "      <td>DEL → LKO → BOM → COK</td>\n",
       "      <td>09:25</td>\n",
       "      <td>04:25 10 Jun</td>\n",
       "      <td>19h</td>\n",
       "      <td>2 stops</td>\n",
       "      <td>No info</td>\n",
       "      <td>13882.0</td>\n",
       "    </tr>\n",
       "    <tr>\n",
       "      <th>3</th>\n",
       "      <td>IndiGo</td>\n",
       "      <td>12/05/2019</td>\n",
       "      <td>Kolkata</td>\n",
       "      <td>Banglore</td>\n",
       "      <td>CCU → NAG → BLR</td>\n",
       "      <td>18:05</td>\n",
       "      <td>23:30</td>\n",
       "      <td>5h 25m</td>\n",
       "      <td>1 stop</td>\n",
       "      <td>No info</td>\n",
       "      <td>6218.0</td>\n",
       "    </tr>\n",
       "    <tr>\n",
       "      <th>4</th>\n",
       "      <td>IndiGo</td>\n",
       "      <td>01/03/2019</td>\n",
       "      <td>Banglore</td>\n",
       "      <td>New Delhi</td>\n",
       "      <td>BLR → NAG → DEL</td>\n",
       "      <td>16:50</td>\n",
       "      <td>21:35</td>\n",
       "      <td>4h 45m</td>\n",
       "      <td>1 stop</td>\n",
       "      <td>No info</td>\n",
       "      <td>13302.0</td>\n",
       "    </tr>\n",
       "  </tbody>\n",
       "</table>\n",
       "</div>"
      ],
      "text/plain": [
       "       airline date_of_journey    source destination                  route  \\\n",
       "0       IndiGo      24/03/2019  Banglore   New Delhi              BLR → DEL   \n",
       "1    Air India       1/05/2019   Kolkata    Banglore  CCU → IXR → BBI → BLR   \n",
       "2  Jet Airways       9/06/2019     Delhi      Cochin  DEL → LKO → BOM → COK   \n",
       "3       IndiGo      12/05/2019   Kolkata    Banglore        CCU → NAG → BLR   \n",
       "4       IndiGo      01/03/2019  Banglore   New Delhi        BLR → NAG → DEL   \n",
       "\n",
       "  dep_time  arrival_time duration total_stops additional_info    price  \n",
       "0    22:20  01:10 22 Mar   2h 50m    non-stop         No info   3897.0  \n",
       "1    05:50         13:15   7h 25m     2 stops         No info   7662.0  \n",
       "2    09:25  04:25 10 Jun      19h     2 stops         No info  13882.0  \n",
       "3    18:05         23:30   5h 25m      1 stop         No info   6218.0  \n",
       "4    16:50         21:35   4h 45m      1 stop         No info  13302.0  "
      ]
     },
     "execution_count": 27,
     "metadata": {},
     "output_type": "execute_result"
    }
   ],
   "source": [
    "final_df.head()"
   ]
  },
  {
   "cell_type": "markdown",
   "id": "e81494ce",
   "metadata": {},
   "source": [
    "### Data Preparation/Cleaning"
   ]
  },
  {
   "cell_type": "code",
   "execution_count": 10,
   "id": "8b132ac3",
   "metadata": {},
   "outputs": [],
   "source": [
    "def data_cleaning(dataframe):\n",
    "    \n",
    "    \n",
    "    # By using lambda function -  split date_of_journey into date, month & year\n",
    "    dataframe['date']= dataframe['date_of_journey'].apply(lambda x:x.split(\"/\")[0])\n",
    "    dataframe['month']= dataframe['date_of_journey'].apply(lambda x:x.split(\"/\")[1])\n",
    "    dataframe['year']= dataframe['date_of_journey'].apply(lambda x:x.split(\"/\")[2])\n",
    "    \n",
    "    # or dataframe['Date']=dataframe['Date_of_Journey'].str.split('/').str[0]\n",
    "    # or dataframe['Date']=dataframe['Date_of_Journey'].str.split('/').str[0]\n",
    "    # or dataframe['Year']=dataframe['Date_of_Journey'].str.split('/').str[2]\n",
    "    \n",
    "    print(\"Split of date_of_journey - done\")\n",
    "    \n",
    "    # To convert date Month and Year column to integer\n",
    "    dataframe['date']=dataframe['date'].astype(int)\n",
    "    dataframe['month']=dataframe['month'].astype(int)\n",
    "    dataframe['year']=dataframe['year'].astype(int)\n",
    "    print(\"Convert date, month and year into integer - done\")\n",
    "    \n",
    "    # Dropping of Date_of_Journey column\n",
    "    dataframe.drop('date_of_journey',axis=1,inplace=True)\n",
    "    \n",
    "    # Splitting Arrival Time column\n",
    "    dataframe['arrival_time'].str.split(' ')\n",
    "    \n",
    "    # Here we have to focus on time not the date\n",
    "    \n",
    "    dataframe['arrival_time']=final_df['arrival_time'].apply(lambda x:x.split(' ')[0])\n",
    "    \n",
    "    # To split arrival time in hour and minutes\n",
    "    dataframe['arrival_hour']=dataframe['arrival_time'].str.split(':').str[0]\n",
    "    dataframe['arrival_min']=dataframe['arrival_time'].str.split(':').str[1]\n",
    "\n",
    "    # To change 'Arrival_Min' and 'Arrival_Hour' in integer Data type\n",
    "    dataframe['arrival_hour']=dataframe['arrival_hour'].astype(int)\n",
    "    dataframe['arrival_min']=dataframe['arrival_min'].astype(int)\n",
    "\n",
    "    # To drop Arrival_Time column\n",
    "    dataframe.drop('arrival_time',axis=1,inplace=True)\n",
    "\n",
    "    # To change Departure time by splitting time in hour and minutes\n",
    "\n",
    "    dataframe['dept_hour']=dataframe['dep_time'].str.split(':').str[0]\n",
    "    dataframe['dept_Min']=dataframe['dep_time'].str.split(':').str[1]\n",
    "\n",
    "    # To change 'Dept_Hour' and 'Dept_min' in integer Data type\n",
    "    dataframe['dept_hour']=dataframe['dept_hour'].astype(int)\n",
    "    dataframe['dept_min']=dataframe['dept_min'].astype(int)\n",
    "\n",
    "    # To drop Dep_Time column\n",
    "    dataframe.drop('dep_time',axis=1,inplace=True)\n",
    "\n",
    "    # Splitting Hours  from Duration column\n",
    "    dataframe['duration_hour']=dataframe['duration'].str.split(' ').str[0].str.split('h').str[0]\n",
    "\n",
    "    # We have '5m' in our dataset\n",
    "    dataframe[final_df['duration_hour']=='5m']\n",
    "\n",
    "     # Dropping 2 rows\n",
    "    dataframe.drop(6474,axis=0,inplace=True)\n",
    "    dataframe.drop(2660,axis=0,inplace=True)\n",
    "    # Above records are incorrect because Mumbai to Hyderabad it is showing as 5 minutes which is inconsitent or not correct hence we are dropping above 2 rows\n",
    "    \n",
    "     return dataframe"
   ]
  },
  {
   "cell_type": "code",
   "execution_count": null,
   "id": "706080dd",
   "metadata": {},
   "outputs": [],
   "source": [
    "def data_preperation(dataframe)\n",
    "   # Splitting Minutes from duration-(Data Preperation)\n",
    "     final_df['duration_min']=final_df['duration'].str.split(' ').str[1].str.split('m').str[0]\n",
    "        \n",
    "    # We have replaced Nan values with 0\n",
    "      final_df['duration_min']=final_df['duration_min'].fillna(0)\n",
    "        \n",
    "    # To check null values\n",
    "     final_df['duration_min'].isnull().sum()\n",
    "        \n",
    "    # Dropping Duration column\n",
    "     final_df.drop('duration',axis=1,inplace=True)\n",
    "        \n",
    "    # In route we have one Nan value to see which record is Nan we can use below code:\n",
    "     final_df[final_df['total_stops'].isnull()]\n",
    "        \n",
    "    # To analyse total stops column\n",
    "     final_df['total_stops'].unique()\n",
    "        \n",
    "    recode = {'non-stop':0,'1 stop':1,'2 stops':2,'3 stops':3,'4 stops':4, 'nan':1}\n",
    "   \n",
    "    final_df['total_stops'] = final_df['total_stops'].replace(recode)\n",
    "    \n",
    "    final_df['total_stops'].unique()\n",
    "    \n",
    "    # Filling Null values\n",
    "    final_df['total_stops'] = final_df['total_stops'].fillna(1)\n",
    "    \n",
    "    final_df['total_stops'].unique()\n",
    "    \n",
    "    # To drop Dep_Time column\n",
    "    final_df.drop('route',axis=1,inplace=True)\n",
    "    \n",
    "    # To handle categorical variable\n",
    "    \n",
    "    # To check unique values in below columns\n",
    "    final_df['airline'].unique()\n",
    "    final_df['source'].unique()\n",
    "    final_df['destination'].unique()\n",
    "    final_df['additional_info'].unique()\n",
    "    \n",
    "    # Here we can use label encoder for the above columns to convert categorical feature into numerical feature\n",
    "    \n",
    "    from sklearn.preprocessing import LabelEncoder\n",
    "    \n",
    "    # Create object of class LabelEncoder\n",
    "    labelencoder=LabelEncoder()\n",
    "    \n",
    "    final_df['airline']=labelencoder.fit_transform(final_df['airline'])\n",
    "    final_df['source']=labelencoder.fit_transform(final_df['source'])\n",
    "    final_df['destination']=labelencoder.fit_transform(final_df['destination'])\n",
    "    final_df['additional_info']=labelencoder.fit_transform(final_df['additional_info'])\n",
    "    \n",
    "    # Here we can see all columns are converted into object and float data type\n",
    "    final_df.info()\n",
    "            "
   ]
  },
  {
   "cell_type": "markdown",
   "id": "f04fc696",
   "metadata": {},
   "source": [
    "### Data analysis"
   ]
  },
  {
   "cell_type": "code",
   "execution_count": 25,
   "id": "4f44c4b4",
   "metadata": {},
   "outputs": [
    {
     "data": {
      "text/html": [
       "<div>\n",
       "<style scoped>\n",
       "    .dataframe tbody tr th:only-of-type {\n",
       "        vertical-align: middle;\n",
       "    }\n",
       "\n",
       "    .dataframe tbody tr th {\n",
       "        vertical-align: top;\n",
       "    }\n",
       "\n",
       "    .dataframe thead th {\n",
       "        text-align: right;\n",
       "    }\n",
       "</style>\n",
       "<table border=\"1\" class=\"dataframe\">\n",
       "  <thead>\n",
       "    <tr style=\"text-align: right;\">\n",
       "      <th></th>\n",
       "      <th>airline</th>\n",
       "      <th>date_of_journey</th>\n",
       "      <th>source</th>\n",
       "      <th>destination</th>\n",
       "      <th>route</th>\n",
       "      <th>dep_time</th>\n",
       "      <th>arrival_time</th>\n",
       "      <th>duration</th>\n",
       "      <th>total_stops</th>\n",
       "      <th>additional_info</th>\n",
       "      <th>price</th>\n",
       "    </tr>\n",
       "  </thead>\n",
       "  <tbody>\n",
       "    <tr>\n",
       "      <th>0</th>\n",
       "      <td>IndiGo</td>\n",
       "      <td>24/03/2019</td>\n",
       "      <td>Banglore</td>\n",
       "      <td>New Delhi</td>\n",
       "      <td>BLR → DEL</td>\n",
       "      <td>22:20</td>\n",
       "      <td>01:10 22 Mar</td>\n",
       "      <td>2h 50m</td>\n",
       "      <td>non-stop</td>\n",
       "      <td>No info</td>\n",
       "      <td>3897.0</td>\n",
       "    </tr>\n",
       "    <tr>\n",
       "      <th>1</th>\n",
       "      <td>Air India</td>\n",
       "      <td>1/05/2019</td>\n",
       "      <td>Kolkata</td>\n",
       "      <td>Banglore</td>\n",
       "      <td>CCU → IXR → BBI → BLR</td>\n",
       "      <td>05:50</td>\n",
       "      <td>13:15</td>\n",
       "      <td>7h 25m</td>\n",
       "      <td>2 stops</td>\n",
       "      <td>No info</td>\n",
       "      <td>7662.0</td>\n",
       "    </tr>\n",
       "    <tr>\n",
       "      <th>2</th>\n",
       "      <td>Jet Airways</td>\n",
       "      <td>9/06/2019</td>\n",
       "      <td>Delhi</td>\n",
       "      <td>Cochin</td>\n",
       "      <td>DEL → LKO → BOM → COK</td>\n",
       "      <td>09:25</td>\n",
       "      <td>04:25 10 Jun</td>\n",
       "      <td>19h</td>\n",
       "      <td>2 stops</td>\n",
       "      <td>No info</td>\n",
       "      <td>13882.0</td>\n",
       "    </tr>\n",
       "    <tr>\n",
       "      <th>3</th>\n",
       "      <td>IndiGo</td>\n",
       "      <td>12/05/2019</td>\n",
       "      <td>Kolkata</td>\n",
       "      <td>Banglore</td>\n",
       "      <td>CCU → NAG → BLR</td>\n",
       "      <td>18:05</td>\n",
       "      <td>23:30</td>\n",
       "      <td>5h 25m</td>\n",
       "      <td>1 stop</td>\n",
       "      <td>No info</td>\n",
       "      <td>6218.0</td>\n",
       "    </tr>\n",
       "    <tr>\n",
       "      <th>4</th>\n",
       "      <td>IndiGo</td>\n",
       "      <td>01/03/2019</td>\n",
       "      <td>Banglore</td>\n",
       "      <td>New Delhi</td>\n",
       "      <td>BLR → NAG → DEL</td>\n",
       "      <td>16:50</td>\n",
       "      <td>21:35</td>\n",
       "      <td>4h 45m</td>\n",
       "      <td>1 stop</td>\n",
       "      <td>No info</td>\n",
       "      <td>13302.0</td>\n",
       "    </tr>\n",
       "  </tbody>\n",
       "</table>\n",
       "</div>"
      ],
      "text/plain": [
       "       airline date_of_journey    source destination                  route  \\\n",
       "0       IndiGo      24/03/2019  Banglore   New Delhi              BLR → DEL   \n",
       "1    Air India       1/05/2019   Kolkata    Banglore  CCU → IXR → BBI → BLR   \n",
       "2  Jet Airways       9/06/2019     Delhi      Cochin  DEL → LKO → BOM → COK   \n",
       "3       IndiGo      12/05/2019   Kolkata    Banglore        CCU → NAG → BLR   \n",
       "4       IndiGo      01/03/2019  Banglore   New Delhi        BLR → NAG → DEL   \n",
       "\n",
       "  dep_time  arrival_time duration total_stops additional_info    price  \n",
       "0    22:20  01:10 22 Mar   2h 50m    non-stop         No info   3897.0  \n",
       "1    05:50         13:15   7h 25m     2 stops         No info   7662.0  \n",
       "2    09:25  04:25 10 Jun      19h     2 stops         No info  13882.0  \n",
       "3    18:05         23:30   5h 25m      1 stop         No info   6218.0  \n",
       "4    16:50         21:35   4h 45m      1 stop         No info  13302.0  "
      ]
     },
     "execution_count": 25,
     "metadata": {},
     "output_type": "execute_result"
    }
   ],
   "source": [
    "final_df.head()"
   ]
  },
  {
   "cell_type": "markdown",
   "id": "27d62fe3",
   "metadata": {},
   "source": [
    "### Q. 1. Which is the most expensive airways?"
   ]
  },
  {
   "cell_type": "code",
   "execution_count": 13,
   "id": "09e7f61b",
   "metadata": {},
   "outputs": [
    {
     "data": {
      "image/png": "[encoded data removed]",
      "text/plain": [
       "<Figure size 2520x504 with 1 Axes>"
      ]
     },
     "metadata": {
      "needs_background": "light"
     },
     "output_type": "display_data"
    }
   ],
   "source": [
    "plt.figure(figsize=(35,7))\n",
    "ax=sns.barplot(x='airline',y='price',data=final_df,palette='winter')\n",
    "\n",
    "for p, label in zip(ax.patches, final_df[\"airline\"].value_counts().values):\n",
    "    ax.annotate(label, (p.get_x()+0.375, p.get_height()+0.15))"
   ]
  },
  {
   "cell_type": "code",
   "execution_count": 23,
   "id": "f5f9de00",
   "metadata": {},
   "outputs": [
    {
     "data": {
      "text/plain": [
       "16838841.0"
      ]
     },
     "execution_count": 23,
     "metadata": {},
     "output_type": "execute_result"
    }
   ],
   "source": [
    "final_df[final_df.airline.isin(['Air India'])].price.sum()"
   ]
  },
  {
   "cell_type": "code",
   "execution_count": null,
   "id": "cc33f3d5",
   "metadata": {},
   "outputs": [],
   "source": [
    "Observation:"
   ]
  },
  {
   "cell_type": "code",
   "execution_count": 14,
   "id": "f20db043",
   "metadata": {},
   "outputs": [
    {
     "data": {
      "text/plain": [
       "Jet Airways                          4746\n",
       "IndiGo                               2564\n",
       "Air India                            2192\n",
       "Multiple carriers                    1543\n",
       "SpiceJet                             1026\n",
       "Vistara                               608\n",
       "Air Asia                              405\n",
       "GoAir                                 240\n",
       "Multiple carriers Premium economy      16\n",
       "Jet Airways Business                    8\n",
       "Vistara Premium economy                 5\n",
       "Trujet                                  1\n",
       "Name: airline, dtype: int64"
      ]
     },
     "execution_count": 14,
     "metadata": {},
     "output_type": "execute_result"
    }
   ],
   "source": [
    "final_df[\"airline\"].value_counts()"
   ]
  },
  {
   "cell_type": "code",
   "execution_count": null,
   "id": "284559f7",
   "metadata": {},
   "outputs": [],
   "source": []
  }
 ],
 "metadata": {
  "kernelspec": {
   "display_name": "Python 3",
   "language": "python",
   "name": "python3"
  },
  "language_info": {
   "codemirror_mode": {
    "name": "ipython",
    "version": 3
   },
   "file_extension": ".py",
   "mimetype": "text/x-python",
   "name": "python",
   "nbconvert_exporter": "python",
   "pygments_lexer": "ipython3",
   "version": "3.8.8"
  }
 },
 "nbformat": 4,
 "nbformat_minor": 5
}
