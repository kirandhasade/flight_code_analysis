{
 "cells": [
  {
   "cell_type": "markdown",
   "id": "20fbe9de",
   "metadata": {},
   "source": [
    "### Project Name: Flight Prediction Analysis"
   ]
  },
  {
   "cell_type": "markdown",
   "id": "f627fcb9",
   "metadata": {},
   "source": [
    "### Project Objective:\n",
    "- The number of people who fly has dramatically increased in recent years. Pricing alters dynamically owing to many variables, making it difficult for airlines to maintain prices. In this project, I am trying to solve this problem by cleaning, preparing and analysing the flight price dataset.\n",
    "- Hence, the goal of this project is to clean, prepare and analyse the flight price dataset taken from Kaggle.\n",
    "- Basically dataset have price based on information such as airline, date_of_journey, flight route information including number of stops and duration of flight.\n",
    "- So that we can use this dataset to analyse the flight journey price based on a variety of variables as mentioned above. \n",
    "\n",
    "\n",
    "\n",
    "Using flight price dataset we try to find out following questions answer:\n",
    "1. Top 10 Aviation Companies whose flight tickets are sold the most ?\n",
    "2. Which month have most number of flights?\n",
    "3. Which airline is most expensive?\n",
    "4. Which airline has boarded the most?\n",
    "5. Which source will be having highest fare?\n",
    "6. Which destination will be having highest fare?\n",
    "\n",
    "### Analysis Involve Phases:\n",
    "1. Data collection\n",
    "2. Data Understanding\n",
    "3. Data Cleaning and handling null values\n",
    "4. Data Analyse"
   ]
  },
  {
   "cell_type": "code",
   "execution_count": 1,
   "id": "e4c9f9d6",
   "metadata": {},
   "outputs": [],
   "source": [
    "# importing Basic libraries\n",
    "import pandas as pd\n",
    "import numpy as np\n",
    "import matplotlib.pyplot as plt\n",
    "import seaborn as sns\n",
    "%matplotlib inline"
   ]
  },
  {
   "cell_type": "markdown",
   "id": "fd0a07ab",
   "metadata": {},
   "source": [
    "### Phase 1: Data Collection/Reading"
   ]
  },
  {
   "cell_type": "code",
   "execution_count": 2,
   "id": "94586864",
   "metadata": {},
   "outputs": [],
   "source": [
    "final_df = pd.read_csv(\"flight_prediction.csv\")"
   ]
  },
  {
   "cell_type": "markdown",
   "id": "1f1fb523",
   "metadata": {},
   "source": [
    "### Phase 2: Data Understanding"
   ]
  },
  {
   "cell_type": "code",
   "execution_count": 3,
   "id": "d02efc5d",
   "metadata": {},
   "outputs": [
    {
     "data": {
      "text/plain": [
       "Index(['Airline', 'Date_of_Journey', 'Source', 'Destination', 'Route',\n",
       "       'Dep_Time', 'Arrival_Time', 'Duration', 'Total_Stops',\n",
       "       'Additional_Info', 'Price'],\n",
       "      dtype='object')"
      ]
     },
     "execution_count": 3,
     "metadata": {},
     "output_type": "execute_result"
    }
   ],
   "source": [
    "final_df.columns"
   ]
  },
  {
   "cell_type": "code",
   "execution_count": 4,
   "id": "c4737d59",
   "metadata": {},
   "outputs": [],
   "source": [
    "final_df = final_df.rename(columns={'Airline':'airline', \n",
    "                         'Date_of_Journey': 'date_of_journey', \n",
    "                         'Source': 'source', \n",
    "                         'Destination': 'destination', \n",
    "                         'Route': 'route',\n",
    "                         'Dep_Time': 'dep_time', \n",
    "                         'Arrival_Time': 'arrival_time', \n",
    "                         'Duration':'duration',\n",
    "                         'Total_Stops': 'total_stops', \n",
    "                         'Additional_Info': 'additional_info',\n",
    "                         'Price': 'price' \n",
    "                         })"
   ]
  },
  {
   "cell_type": "code",
   "execution_count": 5,
   "id": "e336a060",
   "metadata": {},
   "outputs": [
    {
     "name": "stdout",
     "output_type": "stream",
     "text": [
      "<class 'pandas.core.frame.DataFrame'>\n",
      "RangeIndex: 13354 entries, 0 to 13353\n",
      "Data columns (total 11 columns):\n",
      " #   Column           Non-Null Count  Dtype  \n",
      "---  ------           --------------  -----  \n",
      " 0   airline          13354 non-null  object \n",
      " 1   date_of_journey  13354 non-null  object \n",
      " 2   source           13354 non-null  object \n",
      " 3   destination      13354 non-null  object \n",
      " 4   route            13353 non-null  object \n",
      " 5   dep_time         13354 non-null  object \n",
      " 6   arrival_time     13354 non-null  object \n",
      " 7   duration         13354 non-null  object \n",
      " 8   total_stops      13353 non-null  object \n",
      " 9   additional_info  13354 non-null  object \n",
      " 10  price            10683 non-null  float64\n",
      "dtypes: float64(1), object(10)\n",
      "memory usage: 1.1+ MB\n"
     ]
    }
   ],
   "source": [
    "final_df.info()"
   ]
  },
  {
   "cell_type": "code",
   "execution_count": 6,
   "id": "105d4e8c",
   "metadata": {},
   "outputs": [
    {
     "data": {
      "text/plain": [
       "(13354, 11)"
      ]
     },
     "execution_count": 6,
     "metadata": {},
     "output_type": "execute_result"
    }
   ],
   "source": [
    "final_df.shape"
   ]
  },
  {
   "cell_type": "markdown",
   "id": "a5daeba9",
   "metadata": {},
   "source": [
    "### Observations:\n",
    "- Number of variables = 11\n",
    "- Number of rows = 13354\n",
    "- Number of categorical type of feature = 10\n",
    "- Number of numerical type of feature = 1"
   ]
  },
  {
   "cell_type": "code",
   "execution_count": 7,
   "id": "04bacf0b",
   "metadata": {
    "scrolled": true
   },
   "outputs": [
    {
     "data": {
      "text/plain": [
       "airline               0\n",
       "date_of_journey       0\n",
       "source                0\n",
       "destination           0\n",
       "route                 1\n",
       "dep_time              0\n",
       "arrival_time          0\n",
       "duration              0\n",
       "total_stops           1\n",
       "additional_info       0\n",
       "price              2671\n",
       "dtype: int64"
      ]
     },
     "execution_count": 7,
     "metadata": {},
     "output_type": "execute_result"
    }
   ],
   "source": [
    "final_df.isnull().sum()"
   ]
  },
  {
   "cell_type": "markdown",
   "id": "0a2486fc",
   "metadata": {},
   "source": [
    "### Observation:\n",
    "  1. airline:\n",
    "  - Airline name for which the ticket is booked.\n",
    "  - Total 12 unique airline names in the dataset.\n",
    "  \n",
    "  2. date_of_journey:\n",
    "  - Journey date of each traveller. \n",
    "  - It is a date column in MM/DD/YYYY format.\n",
    "  - Dates are from 01/03/2019 to 09/06/2019\n",
    "  \n",
    "  \n",
    "  3. source:\n",
    "  - Source from which the airline would depart.\n",
    "  - Total 5 unique source names in the dataset.\n",
    "  - It contains Banglore, Kolkata, Delhi, Chennai, Mumbai.\n",
    "  \n",
    "  \n",
    "  4. destination:\n",
    "  - Destination to which airline would arrive\n",
    "  - There are total 6 unique destination names in the dataset.\n",
    "  - It contains New Delhi, Banglore, Cochin, Kolkata, Delhi, Hyderabad.\n",
    "  \n",
    "  5. route:\n",
    "  - Route of the airline from source to destination.\n",
    "  - There is one null value in the dataset.\n",
    "  \n",
    "  \n",
    "  6. dep_time:\n",
    "  - Time at which flight would departure from the source.\n",
    "  - It is in H:MM format.\n",
    "  \n",
    "  7. arrival_time:\n",
    "  - Time at which flight would arrive at the destination.\n",
    "  - It is in H:MM format followed by date of arrival.\n",
    "  \n",
    "  \n",
    "  8. duration: \n",
    "  - Duration that airline takes to fly from source to destination.\n",
    "  - It is in H:MM format.\n",
    "  \n",
    "  9. total_stops:\n",
    "  - Total no. of stops that airline takes between source and destination.\n",
    "  - There are total 5 unique total stops in the dataset.\n",
    "  - There is one null value in the dataset.\n",
    "  - It contains non-stop, 2 stops, 1 stop, 3 stops, nan, 4 stops.\n",
    "  \n",
    "  \n",
    "   10. additional_info:\n",
    "  - Represents any Additional info about the airline.\n",
    "  - There are total 10 unique additional information in the dataset.\n",
    "  - It contains No info, In-flight meal not included,No check-in baggage included, 1 Short layover, No Info,1 Long layover, Change airports, Business class,Red-eye flight, 2 Long layover.\n",
    "  \n",
    "  \n",
    "   11. price:\n",
    "  - Represents fare of the ticket to fly from Source to destination in rupees."
   ]
  },
  {
   "cell_type": "code",
   "execution_count": 31,
   "id": "77b5746f",
   "metadata": {},
   "outputs": [
    {
     "data": {
      "text/plain": [
       "Delhi       5682\n",
       "Kolkata     3581\n",
       "Banglore    2752\n",
       "Mumbai       881\n",
       "Chennai      456\n",
       "Name: source, dtype: int64"
      ]
     },
     "execution_count": 31,
     "metadata": {},
     "output_type": "execute_result"
    }
   ],
   "source": [
    "final_df[\"source\"].value_counts()"
   ]
  },
  {
   "cell_type": "code",
   "execution_count": 32,
   "id": "023541b9",
   "metadata": {},
   "outputs": [
    {
     "data": {
      "text/plain": [
       "Cochin       5682\n",
       "Banglore     3581\n",
       "Delhi        1582\n",
       "New Delhi    1170\n",
       "Hyderabad     881\n",
       "Kolkata       456\n",
       "Name: destination, dtype: int64"
      ]
     },
     "execution_count": 32,
     "metadata": {},
     "output_type": "execute_result"
    }
   ],
   "source": [
    "final_df[\"destination\"].value_counts()"
   ]
  },
  {
   "cell_type": "markdown",
   "id": "e81494ce",
   "metadata": {},
   "source": [
    "### Phase 3: Data Cleaning"
   ]
  },
  {
   "cell_type": "markdown",
   "id": "0215a5da",
   "metadata": {},
   "source": [
    "#### Function Defination"
   ]
  },
  {
   "cell_type": "markdown",
   "id": "7f2d38c6",
   "metadata": {},
   "source": [
    "###### Step 1: Dropping 2 rows\n",
    "- In dataset, there are 2 records whose flight duration is of 5 min which is inconsisent because distance between Mumbai to Hyderabad is approximately 713 Km and it approximately takes 2 hours to reach to Hyderabad from Mumbai.\n",
    "- So the information seems incorrect that's why dropping those records.\n",
    "\n",
    "###### Step 2: Filling total_stops column null value\n",
    "- In dataset there is one row where total_stops column contains 1 null value.\n",
    "- As the flight duration is approximately 23 hours and journey is from Delhi to Cochin hence here replacing total_stops null value with 1.\n",
    "\n",
    "###### Step 3: Handling categorical(total_stops) Column\n",
    "- In dataset replacing total_stops column with integer variable such as non-stop:0,1 stop:1,2 stops:2,3 stops:3,4 stops:4,nan:1\n",
    "\n",
    "###### Step 4:Delete route column\n",
    "- Analysis not based on route column hence, deleting route column."
   ]
  },
  {
   "cell_type": "code",
   "execution_count": 8,
   "id": "8b132ac3",
   "metadata": {},
   "outputs": [],
   "source": [
    "def data_cleaning(dataframe):\n",
    "    \n",
    "    # Step 1:Dropping 2 rows\n",
    "    dataframe.drop(6474,axis=0,inplace=True)\n",
    "    dataframe.drop(13343,axis=0,inplace=True)\n",
    "    \n",
    "    \n",
    "    # Step 2: Filling total_stops column null value\n",
    "    dataframe['total_stops'] = dataframe['total_stops'].fillna(1)\n",
    "    \n",
    "    # Step 3:Handling categorical(total_stops) Column\n",
    "    recode = {'non-stop':0,'1 stop':1,'2 stops':2,'3 stops':3,'4 stops':4, 'nan':1}\n",
    "    dataframe['total_stops'] =dataframe['total_stops'].replace(recode)\n",
    "    \n",
    "    # Step 4:Delete route column\n",
    "    dataframe.drop('route',axis=1,inplace=True)\n",
    "    \n",
    "    print(\"Function exceuted sucessfully\")\n",
    "    \n",
    "    return dataframe\n"
   ]
  },
  {
   "cell_type": "markdown",
   "id": "e606c115",
   "metadata": {},
   "source": [
    "### Handling Null Values"
   ]
  },
  {
   "cell_type": "markdown",
   "id": "5455b68c",
   "metadata": {},
   "source": [
    "###### Step 1: Impute mean for price column:\n",
    "- price column has total 2671 null records:\n",
    "    - ticket price is depended on airline, source, destination and number of stops.\n",
    "- Hence null price values will be imputed or will be replaced by mean value based on airline, route along with number of stops.\n",
    "\n",
    "###### Step 2: Copying data in test variable:\n",
    "- Orginal dataframe will remain untouched while performing various operations.\n",
    "\n",
    "###### Step 3: Filling null values with mean data:\n",
    "- After calucating mean in Step 1 we are replacing all price columns null values with mean data as price is dependent on various factors like which airline, source and destination and number of stops.\n",
    "\n",
    "###### Step 4: Copying test data in final dataframe:\n",
    "- After performing all the operations we should copy all aggregated data to final dataframe.\n",
    "\n",
    "###### Step 5: After step - 3 drop rows having incomplete information\n",
    "- After Step 2-found that there is only one record left for Jet Airways Business flying from Bangalore to New Delhi.\n",
    "     - Because, as there is no corresponding rows for the factors which is airline,source,destination in dataset to compute it's mean price amount.\n",
    "     - In this case we are deleting the record.If it contains multiple records then we can be able to do futher analysis.\n",
    "     - In real world:\n",
    "       - We try to find similiar records i.e. same source ,destination and airline and will try to impute mean for the same.\n",
    "       - We'll ask airline for more detailed information of the flight and can do the further analysis.\n",
    "       - We can delete the record."
   ]
  },
  {
   "cell_type": "code",
   "execution_count": 9,
   "id": "1117af64",
   "metadata": {},
   "outputs": [],
   "source": [
    "def handling_null_value(dataframe):\n",
    "       \n",
    "    # Step 1:Impute mean for price column.\n",
    "    factors = ['airline','source','destination','total_stops']\n",
    "    dataframe.groupby(factors)['price'].mean().to_frame().reset_index()\n",
    "    \n",
    "    # Step 2: Copying data in test variable\n",
    "    test = dataframe.copy()\n",
    "    \n",
    "    # Step 3: Filling null values with mean data:\n",
    "    factors=['airline','source','destination','total_stops']\n",
    "    test['price'] = test['price'].fillna(test.groupby(factors)['price'].transform('mean'))\n",
    "    \n",
    "    # Step 4: Copying test data in final dataframe\n",
    "    dataframe=test.copy()\n",
    "    \n",
    "    \n",
    "    # Step 5: After step - 3 drop rows having incomplete information:\n",
    "    dataframe.drop(12502,axis=0,inplace=True)\n",
    "    \n",
    "    print(\"Function Executed sucessfully!!\")\n",
    "    \n",
    "    return dataframe"
   ]
  },
  {
   "cell_type": "markdown",
   "id": "bda55420",
   "metadata": {},
   "source": [
    "#### Code Execution"
   ]
  },
  {
   "cell_type": "code",
   "execution_count": 10,
   "id": "04b19876",
   "metadata": {},
   "outputs": [
    {
     "name": "stdout",
     "output_type": "stream",
     "text": [
      "Function exceuted sucessfully\n"
     ]
    }
   ],
   "source": [
    "data_cleaning_df = data_cleaning(dataframe = final_df)"
   ]
  },
  {
   "cell_type": "code",
   "execution_count": 11,
   "id": "b3786cc4",
   "metadata": {},
   "outputs": [
    {
     "name": "stdout",
     "output_type": "stream",
     "text": [
      "Function Executed sucessfully!!\n"
     ]
    }
   ],
   "source": [
    "handling_null_value_df = handling_null_value(dataframe = data_cleaning_df)"
   ]
  },
  {
   "cell_type": "code",
   "execution_count": 12,
   "id": "8fb7666b",
   "metadata": {},
   "outputs": [
    {
     "data": {
      "text/plain": [
       "0"
      ]
     },
     "execution_count": 12,
     "metadata": {},
     "output_type": "execute_result"
    }
   ],
   "source": [
    "handling_null_value_df.price.isnull().sum()"
   ]
  },
  {
   "cell_type": "code",
   "execution_count": 13,
   "id": "0fdc87f8",
   "metadata": {},
   "outputs": [
    {
     "data": {
      "text/html": [
       "<div>\n",
       "<style scoped>\n",
       "    .dataframe tbody tr th:only-of-type {\n",
       "        vertical-align: middle;\n",
       "    }\n",
       "\n",
       "    .dataframe tbody tr th {\n",
       "        vertical-align: top;\n",
       "    }\n",
       "\n",
       "    .dataframe thead th {\n",
       "        text-align: right;\n",
       "    }\n",
       "</style>\n",
       "<table border=\"1\" class=\"dataframe\">\n",
       "  <thead>\n",
       "    <tr style=\"text-align: right;\">\n",
       "      <th></th>\n",
       "      <th>airline</th>\n",
       "      <th>date_of_journey</th>\n",
       "      <th>source</th>\n",
       "      <th>destination</th>\n",
       "      <th>dep_time</th>\n",
       "      <th>arrival_time</th>\n",
       "      <th>duration</th>\n",
       "      <th>total_stops</th>\n",
       "      <th>additional_info</th>\n",
       "      <th>price</th>\n",
       "    </tr>\n",
       "  </thead>\n",
       "  <tbody>\n",
       "    <tr>\n",
       "      <th>0</th>\n",
       "      <td>IndiGo</td>\n",
       "      <td>24/03/2019</td>\n",
       "      <td>Banglore</td>\n",
       "      <td>New Delhi</td>\n",
       "      <td>22:20</td>\n",
       "      <td>01:10 22 Mar</td>\n",
       "      <td>2h 50m</td>\n",
       "      <td>0</td>\n",
       "      <td>No info</td>\n",
       "      <td>3897.0</td>\n",
       "    </tr>\n",
       "    <tr>\n",
       "      <th>1</th>\n",
       "      <td>Air India</td>\n",
       "      <td>1/05/2019</td>\n",
       "      <td>Kolkata</td>\n",
       "      <td>Banglore</td>\n",
       "      <td>05:50</td>\n",
       "      <td>13:15</td>\n",
       "      <td>7h 25m</td>\n",
       "      <td>2</td>\n",
       "      <td>No info</td>\n",
       "      <td>7662.0</td>\n",
       "    </tr>\n",
       "    <tr>\n",
       "      <th>2</th>\n",
       "      <td>Jet Airways</td>\n",
       "      <td>9/06/2019</td>\n",
       "      <td>Delhi</td>\n",
       "      <td>Cochin</td>\n",
       "      <td>09:25</td>\n",
       "      <td>04:25 10 Jun</td>\n",
       "      <td>19h</td>\n",
       "      <td>2</td>\n",
       "      <td>No info</td>\n",
       "      <td>13882.0</td>\n",
       "    </tr>\n",
       "    <tr>\n",
       "      <th>3</th>\n",
       "      <td>IndiGo</td>\n",
       "      <td>12/05/2019</td>\n",
       "      <td>Kolkata</td>\n",
       "      <td>Banglore</td>\n",
       "      <td>18:05</td>\n",
       "      <td>23:30</td>\n",
       "      <td>5h 25m</td>\n",
       "      <td>1</td>\n",
       "      <td>No info</td>\n",
       "      <td>6218.0</td>\n",
       "    </tr>\n",
       "    <tr>\n",
       "      <th>4</th>\n",
       "      <td>IndiGo</td>\n",
       "      <td>01/03/2019</td>\n",
       "      <td>Banglore</td>\n",
       "      <td>New Delhi</td>\n",
       "      <td>16:50</td>\n",
       "      <td>21:35</td>\n",
       "      <td>4h 45m</td>\n",
       "      <td>1</td>\n",
       "      <td>No info</td>\n",
       "      <td>13302.0</td>\n",
       "    </tr>\n",
       "  </tbody>\n",
       "</table>\n",
       "</div>"
      ],
      "text/plain": [
       "       airline date_of_journey    source destination dep_time  arrival_time  \\\n",
       "0       IndiGo      24/03/2019  Banglore   New Delhi    22:20  01:10 22 Mar   \n",
       "1    Air India       1/05/2019   Kolkata    Banglore    05:50         13:15   \n",
       "2  Jet Airways       9/06/2019     Delhi      Cochin    09:25  04:25 10 Jun   \n",
       "3       IndiGo      12/05/2019   Kolkata    Banglore    18:05         23:30   \n",
       "4       IndiGo      01/03/2019  Banglore   New Delhi    16:50         21:35   \n",
       "\n",
       "  duration  total_stops additional_info    price  \n",
       "0   2h 50m            0         No info   3897.0  \n",
       "1   7h 25m            2         No info   7662.0  \n",
       "2      19h            2         No info  13882.0  \n",
       "3   5h 25m            1         No info   6218.0  \n",
       "4   4h 45m            1         No info  13302.0  "
      ]
     },
     "execution_count": 13,
     "metadata": {},
     "output_type": "execute_result"
    }
   ],
   "source": [
    "final_df.head()"
   ]
  },
  {
   "cell_type": "markdown",
   "id": "15dc9720",
   "metadata": {},
   "source": [
    "### Phase 4: Data Analysis"
   ]
  },
  {
   "cell_type": "markdown",
   "id": "b9222395",
   "metadata": {},
   "source": [
    "#### Q. 1.Top 10 Aviation Companies whose flight tickets are sold the most ?"
   ]
  },
  {
   "cell_type": "code",
   "execution_count": 14,
   "id": "d65e2e0c",
   "metadata": {},
   "outputs": [],
   "source": [
    "analysis_df=handling_null_value_df.copy()"
   ]
  },
  {
   "cell_type": "code",
   "execution_count": 15,
   "id": "0fd4abb2",
   "metadata": {},
   "outputs": [],
   "source": [
    "most_sold_ticket=analysis_df[\"airline\"].value_counts()[0:10].reset_index(name=\"count_tickets\").sort_values(by=\"count_tickets\", ascending=False)"
   ]
  },
  {
   "cell_type": "code",
   "execution_count": 16,
   "id": "2664986b",
   "metadata": {},
   "outputs": [
    {
     "data": {
      "text/html": [
       "<div>\n",
       "<style scoped>\n",
       "    .dataframe tbody tr th:only-of-type {\n",
       "        vertical-align: middle;\n",
       "    }\n",
       "\n",
       "    .dataframe tbody tr th {\n",
       "        vertical-align: top;\n",
       "    }\n",
       "\n",
       "    .dataframe thead th {\n",
       "        text-align: right;\n",
       "    }\n",
       "</style>\n",
       "<table border=\"1\" class=\"dataframe\">\n",
       "  <thead>\n",
       "    <tr style=\"text-align: right;\">\n",
       "      <th></th>\n",
       "      <th>index</th>\n",
       "      <th>count_tickets</th>\n",
       "    </tr>\n",
       "  </thead>\n",
       "  <tbody>\n",
       "    <tr>\n",
       "      <th>0</th>\n",
       "      <td>Jet Airways</td>\n",
       "      <td>4746</td>\n",
       "    </tr>\n",
       "    <tr>\n",
       "      <th>1</th>\n",
       "      <td>IndiGo</td>\n",
       "      <td>2564</td>\n",
       "    </tr>\n",
       "    <tr>\n",
       "      <th>2</th>\n",
       "      <td>Air India</td>\n",
       "      <td>2190</td>\n",
       "    </tr>\n",
       "    <tr>\n",
       "      <th>3</th>\n",
       "      <td>Multiple carriers</td>\n",
       "      <td>1543</td>\n",
       "    </tr>\n",
       "    <tr>\n",
       "      <th>4</th>\n",
       "      <td>SpiceJet</td>\n",
       "      <td>1026</td>\n",
       "    </tr>\n",
       "    <tr>\n",
       "      <th>5</th>\n",
       "      <td>Vistara</td>\n",
       "      <td>608</td>\n",
       "    </tr>\n",
       "    <tr>\n",
       "      <th>6</th>\n",
       "      <td>Air Asia</td>\n",
       "      <td>405</td>\n",
       "    </tr>\n",
       "    <tr>\n",
       "      <th>7</th>\n",
       "      <td>GoAir</td>\n",
       "      <td>240</td>\n",
       "    </tr>\n",
       "    <tr>\n",
       "      <th>8</th>\n",
       "      <td>Multiple carriers Premium economy</td>\n",
       "      <td>16</td>\n",
       "    </tr>\n",
       "    <tr>\n",
       "      <th>9</th>\n",
       "      <td>Jet Airways Business</td>\n",
       "      <td>7</td>\n",
       "    </tr>\n",
       "  </tbody>\n",
       "</table>\n",
       "</div>"
      ],
      "text/plain": [
       "                               index  count_tickets\n",
       "0                        Jet Airways           4746\n",
       "1                             IndiGo           2564\n",
       "2                          Air India           2190\n",
       "3                  Multiple carriers           1543\n",
       "4                           SpiceJet           1026\n",
       "5                            Vistara            608\n",
       "6                           Air Asia            405\n",
       "7                              GoAir            240\n",
       "8  Multiple carriers Premium economy             16\n",
       "9               Jet Airways Business              7"
      ]
     },
     "execution_count": 16,
     "metadata": {},
     "output_type": "execute_result"
    }
   ],
   "source": [
    "most_sold_ticket"
   ]
  },
  {
   "cell_type": "code",
   "execution_count": null,
   "id": "73f29a58",
   "metadata": {},
   "outputs": [],
   "source": []
  },
  {
   "cell_type": "code",
   "execution_count": 17,
   "id": "09061be7",
   "metadata": {},
   "outputs": [],
   "source": [
    "##correct\n",
    "##sort the graph it will look nice\n",
    "## tilt the airline name so it will be easy to read"
   ]
  },
  {
   "cell_type": "code",
   "execution_count": 18,
   "id": "fada4219",
   "metadata": {},
   "outputs": [
    {
     "ename": "ValueError",
     "evalue": "Could not interpret input 'airline'",
     "output_type": "error",
     "traceback": [
      "\u001b[0;31m---------------------------------------------------------------------------\u001b[0m",
      "\u001b[0;31mValueError\u001b[0m                                Traceback (most recent call last)",
      "\u001b[0;32m<ipython-input-18-f939a171ad78>\u001b[0m in \u001b[0;36m<module>\u001b[0;34m\u001b[0m\n\u001b[1;32m      1\u001b[0m \u001b[0mplt\u001b[0m\u001b[0;34m.\u001b[0m\u001b[0mfigure\u001b[0m\u001b[0;34m(\u001b[0m\u001b[0mfigsize\u001b[0m\u001b[0;34m=\u001b[0m\u001b[0;34m(\u001b[0m\u001b[0;36m35\u001b[0m\u001b[0;34m,\u001b[0m\u001b[0;36m17\u001b[0m\u001b[0;34m)\u001b[0m\u001b[0;34m)\u001b[0m\u001b[0;34m\u001b[0m\u001b[0;34m\u001b[0m\u001b[0m\n\u001b[0;32m----> 2\u001b[0;31m \u001b[0max\u001b[0m \u001b[0;34m=\u001b[0m \u001b[0msns\u001b[0m\u001b[0;34m.\u001b[0m\u001b[0mbarplot\u001b[0m\u001b[0;34m(\u001b[0m\u001b[0mx\u001b[0m \u001b[0;34m=\u001b[0m \u001b[0;34m'airline'\u001b[0m\u001b[0;34m,\u001b[0m \u001b[0my\u001b[0m \u001b[0;34m=\u001b[0m \u001b[0mmost_sold_ticket\u001b[0m\u001b[0;34m[\u001b[0m\u001b[0;34m'count_tickets'\u001b[0m\u001b[0;34m]\u001b[0m\u001b[0;34m,\u001b[0m \u001b[0mdata\u001b[0m\u001b[0;34m=\u001b[0m\u001b[0mmost_sold_ticket\u001b[0m\u001b[0;34m,\u001b[0m\u001b[0morder\u001b[0m\u001b[0;34m=\u001b[0m\u001b[0mmost_sold_ticket\u001b[0m\u001b[0;34m[\u001b[0m\u001b[0;34m'index'\u001b[0m\u001b[0;34m]\u001b[0m\u001b[0;34m)\u001b[0m\u001b[0;34m\u001b[0m\u001b[0;34m\u001b[0m\u001b[0m\n\u001b[0m\u001b[1;32m      3\u001b[0m \u001b[0max\u001b[0m \u001b[0;34m=\u001b[0m \u001b[0max\u001b[0m\u001b[0;34m.\u001b[0m\u001b[0mbar_label\u001b[0m\u001b[0;34m(\u001b[0m\u001b[0max\u001b[0m\u001b[0;34m.\u001b[0m\u001b[0mcontainers\u001b[0m\u001b[0;34m[\u001b[0m\u001b[0;36m0\u001b[0m\u001b[0;34m]\u001b[0m\u001b[0;34m)\u001b[0m\u001b[0;34m\u001b[0m\u001b[0;34m\u001b[0m\u001b[0m\n",
      "\u001b[0;32m~/opt/anaconda3/lib/python3.8/site-packages/seaborn/categorical.py\u001b[0m in \u001b[0;36mbarplot\u001b[0;34m(data, x, y, hue, order, hue_order, estimator, errorbar, n_boot, units, seed, orient, color, palette, saturation, width, errcolor, errwidth, capsize, dodge, ci, ax, **kwargs)\u001b[0m\n\u001b[1;32m   2753\u001b[0m         \u001b[0mestimator\u001b[0m \u001b[0;34m=\u001b[0m \u001b[0;34m\"size\"\u001b[0m\u001b[0;34m\u001b[0m\u001b[0;34m\u001b[0m\u001b[0m\n\u001b[1;32m   2754\u001b[0m \u001b[0;34m\u001b[0m\u001b[0m\n\u001b[0;32m-> 2755\u001b[0;31m     plotter = _BarPlotter(x, y, hue, data, order, hue_order,\n\u001b[0m\u001b[1;32m   2756\u001b[0m                           \u001b[0mestimator\u001b[0m\u001b[0;34m,\u001b[0m \u001b[0merrorbar\u001b[0m\u001b[0;34m,\u001b[0m \u001b[0mn_boot\u001b[0m\u001b[0;34m,\u001b[0m \u001b[0munits\u001b[0m\u001b[0;34m,\u001b[0m \u001b[0mseed\u001b[0m\u001b[0;34m,\u001b[0m\u001b[0;34m\u001b[0m\u001b[0;34m\u001b[0m\u001b[0m\n\u001b[1;32m   2757\u001b[0m                           \u001b[0morient\u001b[0m\u001b[0;34m,\u001b[0m \u001b[0mcolor\u001b[0m\u001b[0;34m,\u001b[0m \u001b[0mpalette\u001b[0m\u001b[0;34m,\u001b[0m \u001b[0msaturation\u001b[0m\u001b[0;34m,\u001b[0m\u001b[0;34m\u001b[0m\u001b[0;34m\u001b[0m\u001b[0m\n",
      "\u001b[0;32m~/opt/anaconda3/lib/python3.8/site-packages/seaborn/categorical.py\u001b[0m in \u001b[0;36m__init__\u001b[0;34m(self, x, y, hue, data, order, hue_order, estimator, errorbar, n_boot, units, seed, orient, color, palette, saturation, width, errcolor, errwidth, capsize, dodge)\u001b[0m\n\u001b[1;32m   1528\u001b[0m                  errcolor, errwidth, capsize, dodge):\n\u001b[1;32m   1529\u001b[0m         \u001b[0;34m\"\"\"Initialize the plotter.\"\"\"\u001b[0m\u001b[0;34m\u001b[0m\u001b[0;34m\u001b[0m\u001b[0m\n\u001b[0;32m-> 1530\u001b[0;31m         self.establish_variables(x, y, hue, data, orient,\n\u001b[0m\u001b[1;32m   1531\u001b[0m                                  order, hue_order, units)\n\u001b[1;32m   1532\u001b[0m         \u001b[0mself\u001b[0m\u001b[0;34m.\u001b[0m\u001b[0mestablish_colors\u001b[0m\u001b[0;34m(\u001b[0m\u001b[0mcolor\u001b[0m\u001b[0;34m,\u001b[0m \u001b[0mpalette\u001b[0m\u001b[0;34m,\u001b[0m \u001b[0msaturation\u001b[0m\u001b[0;34m)\u001b[0m\u001b[0;34m\u001b[0m\u001b[0;34m\u001b[0m\u001b[0m\n",
      "\u001b[0;32m~/opt/anaconda3/lib/python3.8/site-packages/seaborn/categorical.py\u001b[0m in \u001b[0;36mestablish_variables\u001b[0;34m(self, x, y, hue, data, orient, order, hue_order, units)\u001b[0m\n\u001b[1;32m    539\u001b[0m                 \u001b[0;32mif\u001b[0m \u001b[0misinstance\u001b[0m\u001b[0;34m(\u001b[0m\u001b[0mvar\u001b[0m\u001b[0;34m,\u001b[0m \u001b[0mstr\u001b[0m\u001b[0;34m)\u001b[0m\u001b[0;34m:\u001b[0m\u001b[0;34m\u001b[0m\u001b[0;34m\u001b[0m\u001b[0m\n\u001b[1;32m    540\u001b[0m                     \u001b[0merr\u001b[0m \u001b[0;34m=\u001b[0m \u001b[0;34mf\"Could not interpret input '{var}'\"\u001b[0m\u001b[0;34m\u001b[0m\u001b[0;34m\u001b[0m\u001b[0m\n\u001b[0;32m--> 541\u001b[0;31m                     \u001b[0;32mraise\u001b[0m \u001b[0mValueError\u001b[0m\u001b[0;34m(\u001b[0m\u001b[0merr\u001b[0m\u001b[0;34m)\u001b[0m\u001b[0;34m\u001b[0m\u001b[0;34m\u001b[0m\u001b[0m\n\u001b[0m\u001b[1;32m    542\u001b[0m \u001b[0;34m\u001b[0m\u001b[0m\n\u001b[1;32m    543\u001b[0m             \u001b[0;31m# Figure out the plotting orientation\u001b[0m\u001b[0;34m\u001b[0m\u001b[0;34m\u001b[0m\u001b[0;34m\u001b[0m\u001b[0m\n",
      "\u001b[0;31mValueError\u001b[0m: Could not interpret input 'airline'"
     ]
    },
    {
     "data": {
      "text/plain": [
       "<Figure size 2520x1224 with 0 Axes>"
      ]
     },
     "metadata": {},
     "output_type": "display_data"
    }
   ],
   "source": [
    "plt.figure(figsize=(35,17))\n",
    "ax = sns.barplot(x = 'airline', y = most_sold_ticket['count_tickets'], data=most_sold_ticket,order=most_sold_ticket['index'])\n",
    "ax = ax.bar_label(ax.containers[0])"
   ]
  },
  {
   "cell_type": "code",
   "execution_count": 19,
   "id": "bfbec334",
   "metadata": {},
   "outputs": [
    {
     "data": {
      "image/png": "[encoded data removed]",
      "text/plain": [
       "<Figure size 2520x1224 with 1 Axes>"
      ]
     },
     "metadata": {
      "needs_background": "light"
     },
     "output_type": "display_data"
    }
   ],
   "source": [
    "plt.figure(figsize=(35,17))\n",
    "ax=sns.countplot(x='airline',data=final_df)\n",
    "plt.ylabel(\"Count\", weight=\"bold\", fontsize=20)\n",
    "plt.xlabel(\"Airline Name\", weight=\"bold\", fontsize=20)\n",
    "plt.title(\"Top 10 Aviation Companies whose flight tickets are sold the most\", weight=\"bold\",fontsize=30,pad=20)\n",
    "\n",
    "for p, label in zip(ax.patches, final_df[\"airline\"].value_counts().values):\n",
    "    ax.annotate(int(p.get_height()), (p.get_x()+0.25, p.get_height()+1), va='bottom', color= 'black')"
   ]
  },
  {
   "cell_type": "code",
   "execution_count": 20,
   "id": "6e4019f3",
   "metadata": {},
   "outputs": [],
   "source": [
    "airline_names = final_df.airline.value_counts().index[:8]"
   ]
  },
  {
   "cell_type": "code",
   "execution_count": 21,
   "id": "7eb68ee0",
   "metadata": {},
   "outputs": [],
   "source": [
    "airline_val = final_df.airline.value_counts().values[:8]"
   ]
  },
  {
   "cell_type": "code",
   "execution_count": 22,
   "id": "f4bfaaba",
   "metadata": {},
   "outputs": [
    {
     "data": {
      "text/plain": [
       "([<matplotlib.patches.Wedge at 0x7fcf40072670>,\n",
       "  <matplotlib.patches.Wedge at 0x7fcf40072580>,\n",
       "  <matplotlib.patches.Wedge at 0x7fcf40085340>,\n",
       "  <matplotlib.patches.Wedge at 0x7fcf400859a0>,\n",
       "  <matplotlib.patches.Wedge at 0x7fcf5999c070>,\n",
       "  <matplotlib.patches.Wedge at 0x7fcf5999c700>,\n",
       "  <matplotlib.patches.Wedge at 0x7fcf5999cd90>,\n",
       "  <matplotlib.patches.Wedge at 0x7fcf599ac400>],\n",
       " [Text(0.48004139865395834, 0.9897273642667215, 'Jet Airways'),\n",
       "  Text(-1.051341045332053, 0.32354598807604795, 'IndiGo'),\n",
       "  Text(-0.7483982457508972, -0.8061637958609775, 'Air India'),\n",
       "  Text(0.1448431903465743, -1.0904221431217482, 'Multiple carriers'),\n",
       "  Text(0.7399932792123561, -0.8138857086351523, 'SpiceJet'),\n",
       "  Text(0.9916438378414045, -0.4760698466309016, 'Vistara'),\n",
       "  Text(1.0761310469934342, -0.22790780964419663, 'Air Asia'),\n",
       "  Text(1.0982387106459064, -0.06222326284290699, 'GoAir')],\n",
       " [Text(0.2618407629021591, 0.5398512896000298, '35.63%'),\n",
       "  Text(-0.5734587519993016, 0.1764796298596625, '19.25%'),\n",
       "  Text(-0.40821722495503476, -0.4397257068332604, '16.44%'),\n",
       "  Text(0.07900537655267688, -0.5947757144300444, '11.58%'),\n",
       "  Text(0.4036326977521942, -0.4439376592555376, '7.70%'),\n",
       "  Text(0.5408966388225842, -0.2596744617986736, '4.56%'),\n",
       "  Text(0.5869805710873276, -0.12431335071501633, '3.04%'),\n",
       "  Text(0.5990392967159488, -0.03393996155067654, '1.80%')])"
      ]
     },
     "execution_count": 22,
     "metadata": {},
     "output_type": "execute_result"
    },
    {
     "data": {
      "image/png": "[encoded data removed]",
      "text/plain": [
       "<Figure size 1440x720 with 1 Axes>"
      ]
     },
     "metadata": {},
     "output_type": "display_data"
    }
   ],
   "source": [
    "plt.figure(figsize=(20,10))\n",
    "plt.pie(airline_val,labels=airline_names,autopct='%1.2f%%')"
   ]
  },
  {
   "cell_type": "markdown",
   "id": "a449ca7c",
   "metadata": {},
   "source": [
    "### Observation:\n",
    "- Of the total flight tickets sold Jet Airways has the highest share which is 35.62% followed by Indigo and Air India.   "
   ]
  },
  {
   "cell_type": "markdown",
   "id": "ebe27aa4",
   "metadata": {},
   "source": [
    "#### Q.2. Which month have most number of flights?"
   ]
  },
  {
   "cell_type": "code",
   "execution_count": 23,
   "id": "11107f50",
   "metadata": {},
   "outputs": [],
   "source": [
    "## correct sort the graph by count or months - whichever look good"
   ]
  },
  {
   "cell_type": "code",
   "execution_count": 24,
   "id": "c3ff246f",
   "metadata": {},
   "outputs": [
    {
     "ename": "ValueError",
     "evalue": "Could not interpret input 'month'",
     "output_type": "error",
     "traceback": [
      "\u001b[0;31m---------------------------------------------------------------------------\u001b[0m",
      "\u001b[0;31mValueError\u001b[0m                                Traceback (most recent call last)",
      "\u001b[0;32m<ipython-input-24-6cb3ccd10a8a>\u001b[0m in \u001b[0;36m<module>\u001b[0;34m\u001b[0m\n\u001b[1;32m      1\u001b[0m \u001b[0mplt\u001b[0m\u001b[0;34m.\u001b[0m\u001b[0mfigure\u001b[0m\u001b[0;34m(\u001b[0m\u001b[0mfigsize\u001b[0m \u001b[0;34m=\u001b[0m \u001b[0;34m(\u001b[0m\u001b[0;36m10\u001b[0m\u001b[0;34m,\u001b[0m \u001b[0;36m5\u001b[0m\u001b[0;34m)\u001b[0m\u001b[0;34m)\u001b[0m\u001b[0;34m\u001b[0m\u001b[0;34m\u001b[0m\u001b[0m\n\u001b[1;32m      2\u001b[0m \u001b[0mplt\u001b[0m\u001b[0;34m.\u001b[0m\u001b[0mtitle\u001b[0m\u001b[0;34m(\u001b[0m\u001b[0;34m'Count of flights month wise'\u001b[0m\u001b[0;34m)\u001b[0m\u001b[0;34m\u001b[0m\u001b[0;34m\u001b[0m\u001b[0m\n\u001b[0;32m----> 3\u001b[0;31m \u001b[0max\u001b[0m\u001b[0;34m=\u001b[0m\u001b[0msns\u001b[0m\u001b[0;34m.\u001b[0m\u001b[0mcountplot\u001b[0m\u001b[0;34m(\u001b[0m\u001b[0mx\u001b[0m \u001b[0;34m=\u001b[0m \u001b[0;34m'month'\u001b[0m\u001b[0;34m,\u001b[0m \u001b[0mdata\u001b[0m \u001b[0;34m=\u001b[0m \u001b[0mfinal_df\u001b[0m\u001b[0;34m)\u001b[0m\u001b[0;34m\u001b[0m\u001b[0;34m\u001b[0m\u001b[0m\n\u001b[0m\u001b[1;32m      4\u001b[0m \u001b[0mplt\u001b[0m\u001b[0;34m.\u001b[0m\u001b[0mxlabel\u001b[0m\u001b[0;34m(\u001b[0m\u001b[0;34m'Month'\u001b[0m\u001b[0;34m)\u001b[0m\u001b[0;34m\u001b[0m\u001b[0;34m\u001b[0m\u001b[0m\n\u001b[1;32m      5\u001b[0m \u001b[0mplt\u001b[0m\u001b[0;34m.\u001b[0m\u001b[0mylabel\u001b[0m\u001b[0;34m(\u001b[0m\u001b[0;34m'Number of flights'\u001b[0m\u001b[0;34m)\u001b[0m\u001b[0;34m\u001b[0m\u001b[0;34m\u001b[0m\u001b[0m\n",
      "\u001b[0;32m~/opt/anaconda3/lib/python3.8/site-packages/seaborn/categorical.py\u001b[0m in \u001b[0;36mcountplot\u001b[0;34m(data, x, y, hue, order, hue_order, orient, color, palette, saturation, width, dodge, ax, **kwargs)\u001b[0m\n\u001b[1;32m   2941\u001b[0m         \u001b[0;32mraise\u001b[0m \u001b[0mValueError\u001b[0m\u001b[0;34m(\u001b[0m\u001b[0;34m\"Cannot pass values for both `x` and `y`\"\u001b[0m\u001b[0;34m)\u001b[0m\u001b[0;34m\u001b[0m\u001b[0;34m\u001b[0m\u001b[0m\n\u001b[1;32m   2942\u001b[0m \u001b[0;34m\u001b[0m\u001b[0m\n\u001b[0;32m-> 2943\u001b[0;31m     plotter = _CountPlotter(\n\u001b[0m\u001b[1;32m   2944\u001b[0m         \u001b[0mx\u001b[0m\u001b[0;34m,\u001b[0m \u001b[0my\u001b[0m\u001b[0;34m,\u001b[0m \u001b[0mhue\u001b[0m\u001b[0;34m,\u001b[0m \u001b[0mdata\u001b[0m\u001b[0;34m,\u001b[0m \u001b[0morder\u001b[0m\u001b[0;34m,\u001b[0m \u001b[0mhue_order\u001b[0m\u001b[0;34m,\u001b[0m\u001b[0;34m\u001b[0m\u001b[0;34m\u001b[0m\u001b[0m\n\u001b[1;32m   2945\u001b[0m         \u001b[0mestimator\u001b[0m\u001b[0;34m,\u001b[0m \u001b[0merrorbar\u001b[0m\u001b[0;34m,\u001b[0m \u001b[0mn_boot\u001b[0m\u001b[0;34m,\u001b[0m \u001b[0munits\u001b[0m\u001b[0;34m,\u001b[0m \u001b[0mseed\u001b[0m\u001b[0;34m,\u001b[0m\u001b[0;34m\u001b[0m\u001b[0;34m\u001b[0m\u001b[0m\n",
      "\u001b[0;32m~/opt/anaconda3/lib/python3.8/site-packages/seaborn/categorical.py\u001b[0m in \u001b[0;36m__init__\u001b[0;34m(self, x, y, hue, data, order, hue_order, estimator, errorbar, n_boot, units, seed, orient, color, palette, saturation, width, errcolor, errwidth, capsize, dodge)\u001b[0m\n\u001b[1;32m   1528\u001b[0m                  errcolor, errwidth, capsize, dodge):\n\u001b[1;32m   1529\u001b[0m         \u001b[0;34m\"\"\"Initialize the plotter.\"\"\"\u001b[0m\u001b[0;34m\u001b[0m\u001b[0;34m\u001b[0m\u001b[0m\n\u001b[0;32m-> 1530\u001b[0;31m         self.establish_variables(x, y, hue, data, orient,\n\u001b[0m\u001b[1;32m   1531\u001b[0m                                  order, hue_order, units)\n\u001b[1;32m   1532\u001b[0m         \u001b[0mself\u001b[0m\u001b[0;34m.\u001b[0m\u001b[0mestablish_colors\u001b[0m\u001b[0;34m(\u001b[0m\u001b[0mcolor\u001b[0m\u001b[0;34m,\u001b[0m \u001b[0mpalette\u001b[0m\u001b[0;34m,\u001b[0m \u001b[0msaturation\u001b[0m\u001b[0;34m)\u001b[0m\u001b[0;34m\u001b[0m\u001b[0;34m\u001b[0m\u001b[0m\n",
      "\u001b[0;32m~/opt/anaconda3/lib/python3.8/site-packages/seaborn/categorical.py\u001b[0m in \u001b[0;36mestablish_variables\u001b[0;34m(self, x, y, hue, data, orient, order, hue_order, units)\u001b[0m\n\u001b[1;32m    539\u001b[0m                 \u001b[0;32mif\u001b[0m \u001b[0misinstance\u001b[0m\u001b[0;34m(\u001b[0m\u001b[0mvar\u001b[0m\u001b[0;34m,\u001b[0m \u001b[0mstr\u001b[0m\u001b[0;34m)\u001b[0m\u001b[0;34m:\u001b[0m\u001b[0;34m\u001b[0m\u001b[0;34m\u001b[0m\u001b[0m\n\u001b[1;32m    540\u001b[0m                     \u001b[0merr\u001b[0m \u001b[0;34m=\u001b[0m \u001b[0;34mf\"Could not interpret input '{var}'\"\u001b[0m\u001b[0;34m\u001b[0m\u001b[0;34m\u001b[0m\u001b[0m\n\u001b[0;32m--> 541\u001b[0;31m                     \u001b[0;32mraise\u001b[0m \u001b[0mValueError\u001b[0m\u001b[0;34m(\u001b[0m\u001b[0merr\u001b[0m\u001b[0;34m)\u001b[0m\u001b[0;34m\u001b[0m\u001b[0;34m\u001b[0m\u001b[0m\n\u001b[0m\u001b[1;32m    542\u001b[0m \u001b[0;34m\u001b[0m\u001b[0m\n\u001b[1;32m    543\u001b[0m             \u001b[0;31m# Figure out the plotting orientation\u001b[0m\u001b[0;34m\u001b[0m\u001b[0;34m\u001b[0m\u001b[0;34m\u001b[0m\u001b[0m\n",
      "\u001b[0;31mValueError\u001b[0m: Could not interpret input 'month'"
     ]
    },
    {
     "data": {
      "image/png": "[encoded data removed]",
      "text/plain": [
       "<Figure size 720x360 with 1 Axes>"
      ]
     },
     "metadata": {
      "needs_background": "light"
     },
     "output_type": "display_data"
    }
   ],
   "source": [
    "plt.figure(figsize = (10, 5))\n",
    "plt.title('Count of flights month wise')\n",
    "ax=sns.countplot(x = 'month', data = final_df)\n",
    "plt.xlabel('Month')\n",
    "plt.ylabel('Number of flights')\n",
    "for p in ax.patches:\n",
    "    ax.annotate(int(p.get_height()), (p.get_x()+0.25, p.get_height()+1), va='bottom', color= 'black')"
   ]
  },
  {
   "cell_type": "code",
   "execution_count": null,
   "id": "48c671b5",
   "metadata": {},
   "outputs": [],
   "source": []
  },
  {
   "cell_type": "markdown",
   "id": "c672e24f",
   "metadata": {},
   "source": [
    "### Observation:\n",
    "- May has most number of flights followed by June and March."
   ]
  },
  {
   "cell_type": "markdown",
   "id": "56251a93",
   "metadata": {},
   "source": [
    "#### Q.3. Which airline is most expensive?"
   ]
  },
  {
   "cell_type": "code",
   "execution_count": 25,
   "id": "deed8f19",
   "metadata": {},
   "outputs": [],
   "source": [
    "## good"
   ]
  },
  {
   "cell_type": "code",
   "execution_count": 26,
   "id": "f88813d9",
   "metadata": {},
   "outputs": [
    {
     "data": {
      "text/plain": [
       "<Figure size 7200x360 with 0 Axes>"
      ]
     },
     "metadata": {},
     "output_type": "display_data"
    },
    {
     "data": {
      "image/png": "[encoded data removed]",
      "text/plain": [
       "<Figure size 1296x432 with 1 Axes>"
      ]
     },
     "metadata": {
      "needs_background": "light"
     },
     "output_type": "display_data"
    }
   ],
   "source": [
    "plt.figure(figsize = (100, 5))\n",
    "sns.catplot(y = \"price\", x = \"airline\", data = final_df.sort_values(\"price\", ascending = False), kind=\"boxen\", height = 6, aspect = 3)\n",
    "plt.xticks(rotation = 30)\n",
    "plt.show()"
   ]
  },
  {
   "cell_type": "markdown",
   "id": "493a2598",
   "metadata": {},
   "source": [
    "### Observation:\n",
    " - Jet Airways Business has higher flight fares as compared to other Airlines, followed by Jet Airways and Multiple carriers.\n",
    " - Jet Airways has the most outliers in terms of price.\n",
    " \n",
    " #### explain more which like which jet airways have more outlier? why you think? and so one see graph and give more information?\n",
    " "
   ]
  },
  {
   "cell_type": "markdown",
   "id": "879eb4f0",
   "metadata": {},
   "source": [
    "#### Q.4 Which airline has boarded the most ?"
   ]
  },
  {
   "cell_type": "code",
   "execution_count": 27,
   "id": "332a7d8f",
   "metadata": {},
   "outputs": [],
   "source": [
    "### correct sort graph by number of passengers on boarded - rename title of y-axis not make sense"
   ]
  },
  {
   "cell_type": "code",
   "execution_count": 28,
   "id": "161cc88b",
   "metadata": {},
   "outputs": [
    {
     "data": {
      "image/png": "[encoded data removed]",
      "text/plain": [
       "<Figure size 1440x360 with 1 Axes>"
      ]
     },
     "metadata": {
      "needs_background": "light"
     },
     "output_type": "display_data"
    }
   ],
   "source": [
    "plt.figure(figsize = (20,5))\n",
    "plt.title('Count of flights with different Airlines')\n",
    "ax=sns.countplot(x = 'airline', data =final_df)\n",
    "plt.xlabel('Airline',weight=\"bold\", fontsize=20)\n",
    "plt.ylabel('Count of flights',weight=\"bold\", fontsize=20)\n",
    "plt.xticks(rotation = 45)\n",
    "for p in ax.patches:\n",
    "    ax.annotate(int(p.get_height()), (p.get_x()+0.25, p.get_height()+1), va='bottom', color= 'black')"
   ]
  },
  {
   "cell_type": "markdown",
   "id": "d1c65b56",
   "metadata": {},
   "source": [
    "### Observation\n",
    "- Jet Airways has most of the flights boarded followed by IndiGo and AirIndia."
   ]
  },
  {
   "cell_type": "markdown",
   "id": "00fc37b1",
   "metadata": {},
   "source": [
    "#### Q.5 Which source will be having highest fare?"
   ]
  },
  {
   "cell_type": "code",
   "execution_count": 29,
   "id": "a3c4ab15",
   "metadata": {},
   "outputs": [
    {
     "data": {
      "image/png": "[encoded data removed]",
      "text/plain": [
       "<Figure size 1440x360 with 1 Axes>"
      ]
     },
     "metadata": {
      "needs_background": "light"
     },
     "output_type": "display_data"
    }
   ],
   "source": [
    "plt.figure(figsize = (20,5))\n",
    "sns.boxplot(y = \"price\", x = \"source\", data = final_df.sort_values(\"price\", ascending = False))\n",
    "plt.show()"
   ]
  },
  {
   "cell_type": "markdown",
   "id": "f682485d",
   "metadata": {},
   "source": [
    "### Observation\n",
    " - Flights originating from banglore has high flight fares as compared to other sources ~from where flights are originating.~\n",
    " - Banglore as the source location has the most outliers while Chennai has the least.\n",
    " \n",
    " #### have room to explain more"
   ]
  },
  {
   "cell_type": "markdown",
   "id": "d04a12cb",
   "metadata": {},
   "source": [
    "### Q.6 Which destination will be having highest fare?"
   ]
  },
  {
   "cell_type": "code",
   "execution_count": 30,
   "id": "8ccab945",
   "metadata": {},
   "outputs": [
    {
     "data": {
      "image/png": "[encoded data removed]",
      "text/plain": [
       "<Figure size 1440x360 with 1 Axes>"
      ]
     },
     "metadata": {
      "needs_background": "light"
     },
     "output_type": "display_data"
    }
   ],
   "source": [
    "plt.figure(figsize = (20,5))\n",
    "sns.boxplot(y = \"price\", x = \"destination\", data = final_df.sort_values(\"price\", ascending = False))\n",
    "plt.show()"
   ]
  },
  {
   "cell_type": "markdown",
   "id": "5e6b63aa",
   "metadata": {},
   "source": [
    "### Observation:\n",
    " - Flights whose destination is New Delhi has highest fare compared to other flights whose destination is other than New Delhi.\n",
    " - New Delhi as the destination location has most of the outliers while Kolkata has the least."
   ]
  },
  {
   "cell_type": "markdown",
   "id": "669ce05d",
   "metadata": {},
   "source": [
    "### Conclusion - Results:"
   ]
  },
  {
   "cell_type": "markdown",
   "id": "08913ffe",
   "metadata": {},
   "source": [
    "#### Q.1.Top 10 Aviation Companies whose flight tickets are sold the most ?"
   ]
  },
  {
   "cell_type": "markdown",
   "id": "d65b4c1f",
   "metadata": {},
   "source": [
    "- Of the total flight tickets sold Jet Airways has the highest share followed by Indigo."
   ]
  },
  {
   "cell_type": "markdown",
   "id": "15c87336",
   "metadata": {},
   "source": [
    "#### Q.2. Which month have most number of flights?"
   ]
  },
  {
   "cell_type": "markdown",
   "id": "402120e7",
   "metadata": {},
   "source": [
    "- May has most number of flights followed by June and March."
   ]
  },
  {
   "cell_type": "markdown",
   "id": "fca2700a",
   "metadata": {},
   "source": [
    "#### Q.3. Which airline is most expensive?"
   ]
  },
  {
   "cell_type": "markdown",
   "id": "cd239abd",
   "metadata": {},
   "source": [
    "- Jet Airways Business has higher flight fares as compared to other Airlines, followed by Jet Airways and Multiple carriers.\n",
    "- Jet Airways has the most outliers in terms of price."
   ]
  },
  {
   "cell_type": "markdown",
   "id": "4fcf8ab7",
   "metadata": {},
   "source": [
    "#### Q.4 Which airline has boarded the most ?"
   ]
  },
  {
   "cell_type": "markdown",
   "id": "8235784b",
   "metadata": {},
   "source": [
    "- Jet Airways has most of the flights boarded followed by IndiGo and AirIndia."
   ]
  },
  {
   "cell_type": "markdown",
   "id": "58b69b7b",
   "metadata": {},
   "source": [
    "#### Q.5 Which source will be having highest fare?"
   ]
  },
  {
   "cell_type": "markdown",
   "id": "330848aa",
   "metadata": {},
   "source": [
    " - Flights originating from banglore has high flight fares as compared to other sources from where flights are originating.\n",
    " - Banglore as the source location has the most outliers while Chennai has the least."
   ]
  },
  {
   "cell_type": "markdown",
   "id": "9626e155",
   "metadata": {},
   "source": [
    "#### Q.6 Which destination will be having highest fare?"
   ]
  },
  {
   "cell_type": "markdown",
   "id": "f5a4e4f3",
   "metadata": {},
   "source": [
    " - Flights whose destination is New Delhi has highest fare compared to other flights whose destination is other than New Delhi.\n",
    " - New Delhi as the destination location has most of the outliers while Kolkata has the least."
   ]
  },
  {
   "cell_type": "code",
   "execution_count": null,
   "id": "37122dfa",
   "metadata": {},
   "outputs": [],
   "source": []
  },
  {
   "cell_type": "code",
   "execution_count": null,
   "id": "3f58be64",
   "metadata": {},
   "outputs": [],
   "source": []
  }
 ],
 "metadata": {
  "kernelspec": {
   "display_name": "Python 3",
   "language": "python",
   "name": "python3"
  },
  "language_info": {
   "codemirror_mode": {
    "name": "ipython",
    "version": 3
   },
   "file_extension": ".py",
   "mimetype": "text/x-python",
   "name": "python",
   "nbconvert_exporter": "python",
   "pygments_lexer": "ipython3",
   "version": "3.8.8"
  },
  "vscode": {
   "interpreter": {
    "hash": "91b893b8c70ae178c1e8e04ea8122f57b6d43192b6962fcaf4d961ff463478a8"
   }
  }
 },
 "nbformat": 4,
 "nbformat_minor": 5
}
